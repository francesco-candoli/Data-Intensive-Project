{
  "nbformat": 4,
  "nbformat_minor": 0,
  "metadata": {
    "colab": {
      "provenance": [],
      "collapsed_sections": [
        "9tYV4x-O_RPK",
        "BDQU5tQzYsaK",
        "YnbBhYH0fnfX",
        "Bh7xnre3Xeny"
      ],
      "machine_shape": "hm",
      "gpuType": "T4"
    },
    "kernelspec": {
      "name": "python3",
      "display_name": "Python 3"
    },
    "language_info": {
      "name": "python"
    },
    "accelerator": "GPU"
  },
  "cells": [
    {
      "cell_type": "markdown",
      "source": [
        "                   \n",
        "#Classificazione degli stadi di cirrosi epatica 🩺\n",
        "<br>\n",
        "Progetto per l'esame di Programmazione di applicazioni di Data Intensive.\n",
        "<br><br>Candoli Francesco\n",
        "<br>francesco.candoli@studio.unibo.it\n",
        "<br>0001019894"
      ],
      "metadata": {
        "id": "xjJ3yLibXDi1"
      }
    },
    {
      "cell_type": "markdown",
      "source": [
        "Il presente progetto si propone di sviluppare un sistema di classificazione in grado di predire lo stadio della cirrosi epatica di un paziente utilizzando dati clinici e di laboratorio. Per raggiungere questo obiettivo, verranno esplorati e confrontati diversi modelli di classificazione."
      ],
      "metadata": {
        "id": "he6Y-B_7SHkM"
      }
    },
    {
      "cell_type": "markdown",
      "source": [
        "##Caricamento librerie"
      ],
      "metadata": {
        "id": "ZPFc2tBZXs5c"
      }
    },
    {
      "cell_type": "code",
      "source": [
        "#Utility\n",
        "import numpy as np\n",
        "import pandas as pd\n",
        "import matplotlib.pyplot as plt\n",
        "%matplotlib inline\n",
        "\n",
        "#Data splitting\n",
        "from sklearn.model_selection import train_test_split\n",
        "\n",
        "#Classification models\n",
        "from sklearn.linear_model import Perceptron, LogisticRegression\n",
        "from sklearn.svm import SVC\n",
        "from sklearn.tree import DecisionTreeClassifier\n",
        "from lightgbm import LGBMClassifier\n",
        "\n",
        "#Model evaluation\n",
        "from sklearn.metrics import confusion_matrix, precision_score, recall_score, f1_score\n",
        "from mlxtend.evaluate import mcnemar_table, mcnemar\n",
        "\n",
        "#Pipeline utility\n",
        "from sklearn.model_selection import GridSearchCV\n",
        "from sklearn.pipeline import Pipeline\n",
        "from sklearn.preprocessing import StandardScaler"
      ],
      "metadata": {
        "id": "2v7x15I3VaoY"
      },
      "execution_count": 3,
      "outputs": []
    },
    {
      "cell_type": "markdown",
      "source": [
        "##Caricamento dei dati"
      ],
      "metadata": {
        "id": "0oHDZxstX_th"
      }
    },
    {
      "cell_type": "markdown",
      "source": [
        "###Feature"
      ],
      "metadata": {
        "id": "KV8zyBo5YNWH"
      }
    },
    {
      "cell_type": "markdown",
      "source": [
        "Le feature utili al nostro scopo sono:\n",
        "\n",
        "*   `Drug`: tipo di farmaco( D-penicillamine o placebo)\n",
        "*   `Age`: età in giorni\n",
        "*   `Sex`: sesso (M = maschio, F = femmina)\n",
        "*   `Ascites`: presenza di ascite (Y = si, N = no)\n",
        "*   `Hepatomegaly`: presenza di epatomegalia (Y = si, N = no)\n",
        "*   `Spiders`: presenza di \"angioma ragno\" (Y = si, N = no)\n",
        "*   `Edema`: presenza di edema (N = nessun edema e nessuna terapia diuretica per l'edema, S = edema presente senza diuretici o edema risolto con diuretici, Y = edema nonostante la terapia diuretica)\n",
        "*   `Bilirubin`: bilirubina sierica [mg/dl]\n",
        "*   `Cholesterol`: colesterolo sierico [mg/dl]\n",
        "*   `Albumin`: albumina [gr/dl]\n",
        "*   `Copper`: rame nelle urine [ug/giorno]\n",
        "*   `Alk_Phos`: fosfatasi alcalina [U/litro]\n",
        "*   `SGOT`: SGOT [U/ml]\n",
        "*   `Tryglicerides`: trigliceridi [mg/dl]\n",
        "*   `Platelets`: piastrine per cubo [ml/1000]\n",
        "*   `Prothrombin`: tempo di protrombina [s]\n",
        "\n",
        "\n",
        "Il target della regressione è:\n",
        "*   `Stage`: stadio istologico della malattia (1, 2 o 3)"
      ],
      "metadata": {
        "id": "17PKMMZabLDF"
      }
    },
    {
      "cell_type": "code",
      "source": [
        "import os.path\n",
        "file = \"./liver_cirrhosis.csv\";\n",
        "if not os.path.exists(file):\n",
        "    print(\"Missing dataset, retrieve it from kaggle\");\n",
        "\n",
        "data = pd.read_csv(file);"
      ],
      "metadata": {
        "id": "bgS6GnY9VO-K"
      },
      "execution_count": 4,
      "outputs": []
    },
    {
      "cell_type": "markdown",
      "source": [
        "Vengono rimosse le feature utili alle ricerche statistiche ma non al nostro scopo."
      ],
      "metadata": {
        "id": "N0zypMBDlzsQ"
      }
    },
    {
      "cell_type": "code",
      "source": [
        "data.drop(columns=[\"N_Days\", \"Status\"], inplace=True)"
      ],
      "metadata": {
        "id": "8U9B897uZggv"
      },
      "execution_count": 5,
      "outputs": []
    },
    {
      "cell_type": "markdown",
      "source": [
        "##Feature Engineering\n"
      ],
      "metadata": {
        "id": "lpFGHBdO9Lp9"
      }
    },
    {
      "cell_type": "markdown",
      "source": [
        "###Peso in memoria"
      ],
      "metadata": {
        "id": "GJycSNNvZMKS"
      }
    },
    {
      "cell_type": "code",
      "source": [
        "data.info(verbose=False, memory_usage=\"deep\")"
      ],
      "metadata": {
        "colab": {
          "base_uri": "https://localhost:8080/"
        },
        "id": "PMICyHpFYl1P",
        "outputId": "6ffb7183-64ca-44ee-da3d-9ad3057b6144"
      },
      "execution_count": 6,
      "outputs": [
        {
          "output_type": "stream",
          "name": "stdout",
          "text": [
            "<class 'pandas.core.frame.DataFrame'>\n",
            "RangeIndex: 25000 entries, 0 to 24999\n",
            "Columns: 17 entries, Drug to Stage\n",
            "dtypes: float64(9), int64(2), object(6)\n",
            "memory usage: 10.6 MB\n"
          ]
        }
      ]
    },
    {
      "cell_type": "markdown",
      "source": [
        "Vengono mappate a binarie le feature che assumono solo due valori"
      ],
      "metadata": {
        "id": "Id5hyw14klnd"
      }
    },
    {
      "cell_type": "code",
      "source": [
        "#Utility List\n",
        "features = ['Drug', 'Age', 'Sex', 'Ascites', 'Hepatomegaly', 'Spiders', 'Edema',\n",
        "       'Bilirubin', 'Cholesterol', 'Albumin', 'Copper', 'Alk_Phos', 'SGOT',\n",
        "       'Tryglicerides', 'Platelets', 'Prothrombin']\n",
        "binary_features = [\"Ascites\", \"Hepatomegaly\",\"Spiders\",\"Sex\", \"Drug\"]\n",
        "categorical_features = [\"Edema\"]\n",
        "target = [\"Stage\"]"
      ],
      "metadata": {
        "id": "Fsz7XBWTfoOp"
      },
      "execution_count": 7,
      "outputs": []
    },
    {
      "cell_type": "code",
      "source": [
        "sex_mapping = {\"M\":0,\"F\":1}\n",
        "yes_no_mapping = {\"N\":0,\"Y\":1}\n",
        "drug_mapping = {\"Placebo\":0,\"D-penicillamine\":1}\n",
        "\n",
        "data[\"Sex\"] = data[\"Sex\"].map(sex_mapping)\n",
        "data[\"Ascites\"] = data[\"Ascites\"].map(yes_no_mapping)\n",
        "data[\"Hepatomegaly\"] = data[\"Hepatomegaly\"].map(yes_no_mapping)\n",
        "data[\"Spiders\"] = data[\"Spiders\"].map(yes_no_mapping)\n",
        "data[\"Drug\"] = data[\"Drug\"].map(drug_mapping)"
      ],
      "metadata": {
        "id": "Q0KD_8OV7DoK"
      },
      "execution_count": 8,
      "outputs": []
    },
    {
      "cell_type": "markdown",
      "source": [
        "Vengono attribuite alle feature i tipi più consoni."
      ],
      "metadata": {
        "id": "WLLOKDLc7EGL"
      }
    },
    {
      "cell_type": "code",
      "source": [
        "for feature in binary_features:\n",
        "  data[feature] = data[feature].astype(bool)\n",
        "\n",
        "data[\"Edema\"] = data[\"Edema\"].astype(\"category\")"
      ],
      "metadata": {
        "id": "evnwOg0jZAZg"
      },
      "execution_count": 9,
      "outputs": []
    },
    {
      "cell_type": "markdown",
      "source": [
        "Infine per comodità è stato deciso di esprimere l'età dei pazienti in anni approssimandola."
      ],
      "metadata": {
        "id": "k1hFEgZv72mc"
      }
    },
    {
      "cell_type": "code",
      "source": [
        "data[\"Age\"] = round(data[\"Age\"]/365, 0)\n",
        "data[\"Age\"] = data[\"Age\"].astype(int)"
      ],
      "metadata": {
        "id": "RDKg6eFN72BO"
      },
      "execution_count": 10,
      "outputs": []
    },
    {
      "cell_type": "code",
      "source": [
        "data.head(1)"
      ],
      "metadata": {
        "id": "OMdz2ZHP4gcv",
        "colab": {
          "base_uri": "https://localhost:8080/",
          "height": 101
        },
        "outputId": "b4a99df3-da1f-46cf-e781-040115c52073"
      },
      "execution_count": 11,
      "outputs": [
        {
          "output_type": "execute_result",
          "data": {
            "text/plain": [
              "    Drug  Age   Sex  Ascites  Hepatomegaly  Spiders Edema  Bilirubin  \\\n",
              "0  False   51  True    False          True    False     N        0.5   \n",
              "\n",
              "   Cholesterol  Albumin  Copper  Alk_Phos  SGOT  Tryglicerides  Platelets  \\\n",
              "0        149.0     4.04   227.0     598.0  52.7           57.0      256.0   \n",
              "\n",
              "   Prothrombin  Stage  \n",
              "0          9.9      1  "
            ],
            "text/html": [
              "\n",
              "  <div id=\"df-dcb0d297-cd0d-4a20-9e92-cfb00b856ce9\" class=\"colab-df-container\">\n",
              "    <div>\n",
              "<style scoped>\n",
              "    .dataframe tbody tr th:only-of-type {\n",
              "        vertical-align: middle;\n",
              "    }\n",
              "\n",
              "    .dataframe tbody tr th {\n",
              "        vertical-align: top;\n",
              "    }\n",
              "\n",
              "    .dataframe thead th {\n",
              "        text-align: right;\n",
              "    }\n",
              "</style>\n",
              "<table border=\"1\" class=\"dataframe\">\n",
              "  <thead>\n",
              "    <tr style=\"text-align: right;\">\n",
              "      <th></th>\n",
              "      <th>Drug</th>\n",
              "      <th>Age</th>\n",
              "      <th>Sex</th>\n",
              "      <th>Ascites</th>\n",
              "      <th>Hepatomegaly</th>\n",
              "      <th>Spiders</th>\n",
              "      <th>Edema</th>\n",
              "      <th>Bilirubin</th>\n",
              "      <th>Cholesterol</th>\n",
              "      <th>Albumin</th>\n",
              "      <th>Copper</th>\n",
              "      <th>Alk_Phos</th>\n",
              "      <th>SGOT</th>\n",
              "      <th>Tryglicerides</th>\n",
              "      <th>Platelets</th>\n",
              "      <th>Prothrombin</th>\n",
              "      <th>Stage</th>\n",
              "    </tr>\n",
              "  </thead>\n",
              "  <tbody>\n",
              "    <tr>\n",
              "      <th>0</th>\n",
              "      <td>False</td>\n",
              "      <td>51</td>\n",
              "      <td>True</td>\n",
              "      <td>False</td>\n",
              "      <td>True</td>\n",
              "      <td>False</td>\n",
              "      <td>N</td>\n",
              "      <td>0.5</td>\n",
              "      <td>149.0</td>\n",
              "      <td>4.04</td>\n",
              "      <td>227.0</td>\n",
              "      <td>598.0</td>\n",
              "      <td>52.7</td>\n",
              "      <td>57.0</td>\n",
              "      <td>256.0</td>\n",
              "      <td>9.9</td>\n",
              "      <td>1</td>\n",
              "    </tr>\n",
              "  </tbody>\n",
              "</table>\n",
              "</div>\n",
              "    <div class=\"colab-df-buttons\">\n",
              "\n",
              "  <div class=\"colab-df-container\">\n",
              "    <button class=\"colab-df-convert\" onclick=\"convertToInteractive('df-dcb0d297-cd0d-4a20-9e92-cfb00b856ce9')\"\n",
              "            title=\"Convert this dataframe to an interactive table.\"\n",
              "            style=\"display:none;\">\n",
              "\n",
              "  <svg xmlns=\"http://www.w3.org/2000/svg\" height=\"24px\" viewBox=\"0 -960 960 960\">\n",
              "    <path d=\"M120-120v-720h720v720H120Zm60-500h600v-160H180v160Zm220 220h160v-160H400v160Zm0 220h160v-160H400v160ZM180-400h160v-160H180v160Zm440 0h160v-160H620v160ZM180-180h160v-160H180v160Zm440 0h160v-160H620v160Z\"/>\n",
              "  </svg>\n",
              "    </button>\n",
              "\n",
              "  <style>\n",
              "    .colab-df-container {\n",
              "      display:flex;\n",
              "      gap: 12px;\n",
              "    }\n",
              "\n",
              "    .colab-df-convert {\n",
              "      background-color: #E8F0FE;\n",
              "      border: none;\n",
              "      border-radius: 50%;\n",
              "      cursor: pointer;\n",
              "      display: none;\n",
              "      fill: #1967D2;\n",
              "      height: 32px;\n",
              "      padding: 0 0 0 0;\n",
              "      width: 32px;\n",
              "    }\n",
              "\n",
              "    .colab-df-convert:hover {\n",
              "      background-color: #E2EBFA;\n",
              "      box-shadow: 0px 1px 2px rgba(60, 64, 67, 0.3), 0px 1px 3px 1px rgba(60, 64, 67, 0.15);\n",
              "      fill: #174EA6;\n",
              "    }\n",
              "\n",
              "    .colab-df-buttons div {\n",
              "      margin-bottom: 4px;\n",
              "    }\n",
              "\n",
              "    [theme=dark] .colab-df-convert {\n",
              "      background-color: #3B4455;\n",
              "      fill: #D2E3FC;\n",
              "    }\n",
              "\n",
              "    [theme=dark] .colab-df-convert:hover {\n",
              "      background-color: #434B5C;\n",
              "      box-shadow: 0px 1px 3px 1px rgba(0, 0, 0, 0.15);\n",
              "      filter: drop-shadow(0px 1px 2px rgba(0, 0, 0, 0.3));\n",
              "      fill: #FFFFFF;\n",
              "    }\n",
              "  </style>\n",
              "\n",
              "    <script>\n",
              "      const buttonEl =\n",
              "        document.querySelector('#df-dcb0d297-cd0d-4a20-9e92-cfb00b856ce9 button.colab-df-convert');\n",
              "      buttonEl.style.display =\n",
              "        google.colab.kernel.accessAllowed ? 'block' : 'none';\n",
              "\n",
              "      async function convertToInteractive(key) {\n",
              "        const element = document.querySelector('#df-dcb0d297-cd0d-4a20-9e92-cfb00b856ce9');\n",
              "        const dataTable =\n",
              "          await google.colab.kernel.invokeFunction('convertToInteractive',\n",
              "                                                    [key], {});\n",
              "        if (!dataTable) return;\n",
              "\n",
              "        const docLinkHtml = 'Like what you see? Visit the ' +\n",
              "          '<a target=\"_blank\" href=https://colab.research.google.com/notebooks/data_table.ipynb>data table notebook</a>'\n",
              "          + ' to learn more about interactive tables.';\n",
              "        element.innerHTML = '';\n",
              "        dataTable['output_type'] = 'display_data';\n",
              "        await google.colab.output.renderOutput(dataTable, element);\n",
              "        const docLink = document.createElement('div');\n",
              "        docLink.innerHTML = docLinkHtml;\n",
              "        element.appendChild(docLink);\n",
              "      }\n",
              "    </script>\n",
              "  </div>\n",
              "\n",
              "    </div>\n",
              "  </div>\n"
            ],
            "application/vnd.google.colaboratory.intrinsic+json": {
              "type": "dataframe",
              "variable_name": "data",
              "summary": "{\n  \"name\": \"data\",\n  \"rows\": 25000,\n  \"fields\": [\n    {\n      \"column\": \"Drug\",\n      \"properties\": {\n        \"dtype\": \"boolean\",\n        \"num_unique_values\": 2,\n        \"samples\": [\n          true,\n          false\n        ],\n        \"semantic_type\": \"\",\n        \"description\": \"\"\n      }\n    },\n    {\n      \"column\": \"Age\",\n      \"properties\": {\n        \"dtype\": \"number\",\n        \"std\": 10,\n        \"min\": 26,\n        \"max\": 78,\n        \"num_unique_values\": 50,\n        \"samples\": [\n          48,\n          38\n        ],\n        \"semantic_type\": \"\",\n        \"description\": \"\"\n      }\n    },\n    {\n      \"column\": \"Sex\",\n      \"properties\": {\n        \"dtype\": \"boolean\",\n        \"num_unique_values\": 2,\n        \"samples\": [\n          false,\n          true\n        ],\n        \"semantic_type\": \"\",\n        \"description\": \"\"\n      }\n    },\n    {\n      \"column\": \"Ascites\",\n      \"properties\": {\n        \"dtype\": \"boolean\",\n        \"num_unique_values\": 2,\n        \"samples\": [\n          true,\n          false\n        ],\n        \"semantic_type\": \"\",\n        \"description\": \"\"\n      }\n    },\n    {\n      \"column\": \"Hepatomegaly\",\n      \"properties\": {\n        \"dtype\": \"boolean\",\n        \"num_unique_values\": 2,\n        \"samples\": [\n          false,\n          true\n        ],\n        \"semantic_type\": \"\",\n        \"description\": \"\"\n      }\n    },\n    {\n      \"column\": \"Spiders\",\n      \"properties\": {\n        \"dtype\": \"boolean\",\n        \"num_unique_values\": 2,\n        \"samples\": [\n          true,\n          false\n        ],\n        \"semantic_type\": \"\",\n        \"description\": \"\"\n      }\n    },\n    {\n      \"column\": \"Edema\",\n      \"properties\": {\n        \"dtype\": \"category\",\n        \"num_unique_values\": 3,\n        \"samples\": [\n          \"N\",\n          \"Y\"\n        ],\n        \"semantic_type\": \"\",\n        \"description\": \"\"\n      }\n    },\n    {\n      \"column\": \"Bilirubin\",\n      \"properties\": {\n        \"dtype\": \"number\",\n        \"std\": 4.707490693353426,\n        \"min\": 0.3,\n        \"max\": 28.0,\n        \"num_unique_values\": 113,\n        \"samples\": [\n          13.6,\n          12.6\n        ],\n        \"semantic_type\": \"\",\n        \"description\": \"\"\n      }\n    },\n    {\n      \"column\": \"Cholesterol\",\n      \"properties\": {\n        \"dtype\": \"number\",\n        \"std\": 193.66845155130366,\n        \"min\": 120.0,\n        \"max\": 1775.0,\n        \"num_unique_values\": 220,\n        \"samples\": [\n          261.0,\n          288.0\n        ],\n        \"semantic_type\": \"\",\n        \"description\": \"\"\n      }\n    },\n    {\n      \"column\": \"Albumin\",\n      \"properties\": {\n        \"dtype\": \"number\",\n        \"std\": 0.38048839602571377,\n        \"min\": 1.96,\n        \"max\": 4.64,\n        \"num_unique_values\": 179,\n        \"samples\": [\n          3.31,\n          3.77\n        ],\n        \"semantic_type\": \"\",\n        \"description\": \"\"\n      }\n    },\n    {\n      \"column\": \"Copper\",\n      \"properties\": {\n        \"dtype\": \"number\",\n        \"std\": 73.1848398377281,\n        \"min\": 4.0,\n        \"max\": 588.0,\n        \"num_unique_values\": 197,\n        \"samples\": [\n          243.0,\n          57.0\n        ],\n        \"semantic_type\": \"\",\n        \"description\": \"\"\n      }\n    },\n    {\n      \"column\": \"Alk_Phos\",\n      \"properties\": {\n        \"dtype\": \"number\",\n        \"std\": 1798.8856595995696,\n        \"min\": 289.0,\n        \"max\": 13862.4,\n        \"num_unique_values\": 336,\n        \"samples\": [\n          1911.0,\n          11320.2\n        ],\n        \"semantic_type\": \"\",\n        \"description\": \"\"\n      }\n    },\n    {\n      \"column\": \"SGOT\",\n      \"properties\": {\n        \"dtype\": \"number\",\n        \"std\": 47.74761551308002,\n        \"min\": 26.35,\n        \"max\": 457.25,\n        \"num_unique_values\": 240,\n        \"samples\": [\n          170.5,\n          85.0\n        ],\n        \"semantic_type\": \"\",\n        \"description\": \"\"\n      }\n    },\n    {\n      \"column\": \"Tryglicerides\",\n      \"properties\": {\n        \"dtype\": \"number\",\n        \"std\": 52.78635024363871,\n        \"min\": 33.0,\n        \"max\": 598.0,\n        \"num_unique_values\": 157,\n        \"samples\": [\n          188.0,\n          71.0\n        ],\n        \"semantic_type\": \"\",\n        \"description\": \"\"\n      }\n    },\n    {\n      \"column\": \"Platelets\",\n      \"properties\": {\n        \"dtype\": \"number\",\n        \"std\": 98.67900578261023,\n        \"min\": 62.0,\n        \"max\": 721.0,\n        \"num_unique_values\": 295,\n        \"samples\": [\n          473.0,\n          270.0\n        ],\n        \"semantic_type\": \"\",\n        \"description\": \"\"\n      }\n    },\n    {\n      \"column\": \"Prothrombin\",\n      \"properties\": {\n        \"dtype\": \"number\",\n        \"std\": 0.9044358453176452,\n        \"min\": 9.0,\n        \"max\": 18.0,\n        \"num_unique_values\": 51,\n        \"samples\": [\n          9.0,\n          12.7\n        ],\n        \"semantic_type\": \"\",\n        \"description\": \"\"\n      }\n    },\n    {\n      \"column\": \"Stage\",\n      \"properties\": {\n        \"dtype\": \"number\",\n        \"std\": 0,\n        \"min\": 1,\n        \"max\": 3,\n        \"num_unique_values\": 3,\n        \"samples\": [\n          1,\n          2\n        ],\n        \"semantic_type\": \"\",\n        \"description\": \"\"\n      }\n    }\n  ]\n}"
            }
          },
          "metadata": {},
          "execution_count": 11
        }
      ]
    },
    {
      "cell_type": "markdown",
      "source": [
        "Si è così ottenuto un dataset che pesa circa un terzo di quello inizialmente importato."
      ],
      "metadata": {
        "id": "CJaG-xllo6rL"
      }
    },
    {
      "cell_type": "code",
      "source": [
        "data.info(verbose=False,memory_usage=\"deep\")"
      ],
      "metadata": {
        "colab": {
          "base_uri": "https://localhost:8080/"
        },
        "id": "7aoHXK7wmGHA",
        "outputId": "dc7c7c2d-d414-483b-d4cb-406e3289fc1f"
      },
      "execution_count": 12,
      "outputs": [
        {
          "output_type": "stream",
          "name": "stdout",
          "text": [
            "<class 'pandas.core.frame.DataFrame'>\n",
            "RangeIndex: 25000 entries, 0 to 24999\n",
            "Columns: 17 entries, Drug to Stage\n",
            "dtypes: bool(5), category(1), float64(9), int64(2)\n",
            "memory usage: 2.2 MB\n"
          ]
        }
      ]
    },
    {
      "cell_type": "markdown",
      "source": [
        "###Valori nulli\n",
        "Si ricerca se nel database sono presenti valori nulli che in caso verranno trattati.\n",
        "\n",
        "Nel nostro caso non sono presenti."
      ],
      "metadata": {
        "id": "BazLHZ0reyGC"
      }
    },
    {
      "cell_type": "code",
      "source": [
        "data.isna().sum()"
      ],
      "metadata": {
        "colab": {
          "base_uri": "https://localhost:8080/"
        },
        "id": "G7nVg0gbowiD",
        "outputId": "fda5f461-adbe-4b07-8f3a-85a7f2baa99d"
      },
      "execution_count": 13,
      "outputs": [
        {
          "output_type": "execute_result",
          "data": {
            "text/plain": [
              "Drug             0\n",
              "Age              0\n",
              "Sex              0\n",
              "Ascites          0\n",
              "Hepatomegaly     0\n",
              "Spiders          0\n",
              "Edema            0\n",
              "Bilirubin        0\n",
              "Cholesterol      0\n",
              "Albumin          0\n",
              "Copper           0\n",
              "Alk_Phos         0\n",
              "SGOT             0\n",
              "Tryglicerides    0\n",
              "Platelets        0\n",
              "Prothrombin      0\n",
              "Stage            0\n",
              "dtype: int64"
            ]
          },
          "metadata": {},
          "execution_count": 13
        }
      ]
    },
    {
      "cell_type": "markdown",
      "source": [
        "###Trattamento feature categoriche"
      ],
      "metadata": {
        "id": "ou5ycqZ4e09G"
      }
    },
    {
      "cell_type": "markdown",
      "source": [
        "Viene presa la feature categorica e si crea una colonna per ogni valore assumibile da tale feature.\n",
        "In base al valore assunto sarà presente un 1 nella colonna corrispondente."
      ],
      "metadata": {
        "id": "-eVybDVjhvjB"
      }
    },
    {
      "cell_type": "code",
      "source": [
        "data = pd.get_dummies(data, columns=categorical_features, prefix=categorical_features)"
      ],
      "metadata": {
        "id": "Qw2DvNgQ9gNY"
      },
      "execution_count": 14,
      "outputs": []
    },
    {
      "cell_type": "code",
      "source": [
        "data.head(1)"
      ],
      "metadata": {
        "colab": {
          "base_uri": "https://localhost:8080/",
          "height": 101
        },
        "id": "H-sQ80Unh-OS",
        "outputId": "798ed395-37b1-4231-815a-2228dd4ed3af"
      },
      "execution_count": 15,
      "outputs": [
        {
          "output_type": "execute_result",
          "data": {
            "text/plain": [
              "    Drug  Age   Sex  Ascites  Hepatomegaly  Spiders  Bilirubin  Cholesterol  \\\n",
              "0  False   51  True    False          True    False        0.5        149.0   \n",
              "\n",
              "   Albumin  Copper  Alk_Phos  SGOT  Tryglicerides  Platelets  Prothrombin  \\\n",
              "0     4.04   227.0     598.0  52.7           57.0      256.0          9.9   \n",
              "\n",
              "   Stage  Edema_N  Edema_S  Edema_Y  \n",
              "0      1     True    False    False  "
            ],
            "text/html": [
              "\n",
              "  <div id=\"df-691f2827-6a90-42e6-90fd-ce16e2197f88\" class=\"colab-df-container\">\n",
              "    <div>\n",
              "<style scoped>\n",
              "    .dataframe tbody tr th:only-of-type {\n",
              "        vertical-align: middle;\n",
              "    }\n",
              "\n",
              "    .dataframe tbody tr th {\n",
              "        vertical-align: top;\n",
              "    }\n",
              "\n",
              "    .dataframe thead th {\n",
              "        text-align: right;\n",
              "    }\n",
              "</style>\n",
              "<table border=\"1\" class=\"dataframe\">\n",
              "  <thead>\n",
              "    <tr style=\"text-align: right;\">\n",
              "      <th></th>\n",
              "      <th>Drug</th>\n",
              "      <th>Age</th>\n",
              "      <th>Sex</th>\n",
              "      <th>Ascites</th>\n",
              "      <th>Hepatomegaly</th>\n",
              "      <th>Spiders</th>\n",
              "      <th>Bilirubin</th>\n",
              "      <th>Cholesterol</th>\n",
              "      <th>Albumin</th>\n",
              "      <th>Copper</th>\n",
              "      <th>Alk_Phos</th>\n",
              "      <th>SGOT</th>\n",
              "      <th>Tryglicerides</th>\n",
              "      <th>Platelets</th>\n",
              "      <th>Prothrombin</th>\n",
              "      <th>Stage</th>\n",
              "      <th>Edema_N</th>\n",
              "      <th>Edema_S</th>\n",
              "      <th>Edema_Y</th>\n",
              "    </tr>\n",
              "  </thead>\n",
              "  <tbody>\n",
              "    <tr>\n",
              "      <th>0</th>\n",
              "      <td>False</td>\n",
              "      <td>51</td>\n",
              "      <td>True</td>\n",
              "      <td>False</td>\n",
              "      <td>True</td>\n",
              "      <td>False</td>\n",
              "      <td>0.5</td>\n",
              "      <td>149.0</td>\n",
              "      <td>4.04</td>\n",
              "      <td>227.0</td>\n",
              "      <td>598.0</td>\n",
              "      <td>52.7</td>\n",
              "      <td>57.0</td>\n",
              "      <td>256.0</td>\n",
              "      <td>9.9</td>\n",
              "      <td>1</td>\n",
              "      <td>True</td>\n",
              "      <td>False</td>\n",
              "      <td>False</td>\n",
              "    </tr>\n",
              "  </tbody>\n",
              "</table>\n",
              "</div>\n",
              "    <div class=\"colab-df-buttons\">\n",
              "\n",
              "  <div class=\"colab-df-container\">\n",
              "    <button class=\"colab-df-convert\" onclick=\"convertToInteractive('df-691f2827-6a90-42e6-90fd-ce16e2197f88')\"\n",
              "            title=\"Convert this dataframe to an interactive table.\"\n",
              "            style=\"display:none;\">\n",
              "\n",
              "  <svg xmlns=\"http://www.w3.org/2000/svg\" height=\"24px\" viewBox=\"0 -960 960 960\">\n",
              "    <path d=\"M120-120v-720h720v720H120Zm60-500h600v-160H180v160Zm220 220h160v-160H400v160Zm0 220h160v-160H400v160ZM180-400h160v-160H180v160Zm440 0h160v-160H620v160ZM180-180h160v-160H180v160Zm440 0h160v-160H620v160Z\"/>\n",
              "  </svg>\n",
              "    </button>\n",
              "\n",
              "  <style>\n",
              "    .colab-df-container {\n",
              "      display:flex;\n",
              "      gap: 12px;\n",
              "    }\n",
              "\n",
              "    .colab-df-convert {\n",
              "      background-color: #E8F0FE;\n",
              "      border: none;\n",
              "      border-radius: 50%;\n",
              "      cursor: pointer;\n",
              "      display: none;\n",
              "      fill: #1967D2;\n",
              "      height: 32px;\n",
              "      padding: 0 0 0 0;\n",
              "      width: 32px;\n",
              "    }\n",
              "\n",
              "    .colab-df-convert:hover {\n",
              "      background-color: #E2EBFA;\n",
              "      box-shadow: 0px 1px 2px rgba(60, 64, 67, 0.3), 0px 1px 3px 1px rgba(60, 64, 67, 0.15);\n",
              "      fill: #174EA6;\n",
              "    }\n",
              "\n",
              "    .colab-df-buttons div {\n",
              "      margin-bottom: 4px;\n",
              "    }\n",
              "\n",
              "    [theme=dark] .colab-df-convert {\n",
              "      background-color: #3B4455;\n",
              "      fill: #D2E3FC;\n",
              "    }\n",
              "\n",
              "    [theme=dark] .colab-df-convert:hover {\n",
              "      background-color: #434B5C;\n",
              "      box-shadow: 0px 1px 3px 1px rgba(0, 0, 0, 0.15);\n",
              "      filter: drop-shadow(0px 1px 2px rgba(0, 0, 0, 0.3));\n",
              "      fill: #FFFFFF;\n",
              "    }\n",
              "  </style>\n",
              "\n",
              "    <script>\n",
              "      const buttonEl =\n",
              "        document.querySelector('#df-691f2827-6a90-42e6-90fd-ce16e2197f88 button.colab-df-convert');\n",
              "      buttonEl.style.display =\n",
              "        google.colab.kernel.accessAllowed ? 'block' : 'none';\n",
              "\n",
              "      async function convertToInteractive(key) {\n",
              "        const element = document.querySelector('#df-691f2827-6a90-42e6-90fd-ce16e2197f88');\n",
              "        const dataTable =\n",
              "          await google.colab.kernel.invokeFunction('convertToInteractive',\n",
              "                                                    [key], {});\n",
              "        if (!dataTable) return;\n",
              "\n",
              "        const docLinkHtml = 'Like what you see? Visit the ' +\n",
              "          '<a target=\"_blank\" href=https://colab.research.google.com/notebooks/data_table.ipynb>data table notebook</a>'\n",
              "          + ' to learn more about interactive tables.';\n",
              "        element.innerHTML = '';\n",
              "        dataTable['output_type'] = 'display_data';\n",
              "        await google.colab.output.renderOutput(dataTable, element);\n",
              "        const docLink = document.createElement('div');\n",
              "        docLink.innerHTML = docLinkHtml;\n",
              "        element.appendChild(docLink);\n",
              "      }\n",
              "    </script>\n",
              "  </div>\n",
              "\n",
              "    </div>\n",
              "  </div>\n"
            ],
            "application/vnd.google.colaboratory.intrinsic+json": {
              "type": "dataframe",
              "variable_name": "data",
              "summary": "{\n  \"name\": \"data\",\n  \"rows\": 25000,\n  \"fields\": [\n    {\n      \"column\": \"Drug\",\n      \"properties\": {\n        \"dtype\": \"boolean\",\n        \"num_unique_values\": 2,\n        \"samples\": [\n          true,\n          false\n        ],\n        \"semantic_type\": \"\",\n        \"description\": \"\"\n      }\n    },\n    {\n      \"column\": \"Age\",\n      \"properties\": {\n        \"dtype\": \"number\",\n        \"std\": 10,\n        \"min\": 26,\n        \"max\": 78,\n        \"num_unique_values\": 50,\n        \"samples\": [\n          48,\n          38\n        ],\n        \"semantic_type\": \"\",\n        \"description\": \"\"\n      }\n    },\n    {\n      \"column\": \"Sex\",\n      \"properties\": {\n        \"dtype\": \"boolean\",\n        \"num_unique_values\": 2,\n        \"samples\": [\n          false,\n          true\n        ],\n        \"semantic_type\": \"\",\n        \"description\": \"\"\n      }\n    },\n    {\n      \"column\": \"Ascites\",\n      \"properties\": {\n        \"dtype\": \"boolean\",\n        \"num_unique_values\": 2,\n        \"samples\": [\n          true,\n          false\n        ],\n        \"semantic_type\": \"\",\n        \"description\": \"\"\n      }\n    },\n    {\n      \"column\": \"Hepatomegaly\",\n      \"properties\": {\n        \"dtype\": \"boolean\",\n        \"num_unique_values\": 2,\n        \"samples\": [\n          false,\n          true\n        ],\n        \"semantic_type\": \"\",\n        \"description\": \"\"\n      }\n    },\n    {\n      \"column\": \"Spiders\",\n      \"properties\": {\n        \"dtype\": \"boolean\",\n        \"num_unique_values\": 2,\n        \"samples\": [\n          true,\n          false\n        ],\n        \"semantic_type\": \"\",\n        \"description\": \"\"\n      }\n    },\n    {\n      \"column\": \"Bilirubin\",\n      \"properties\": {\n        \"dtype\": \"number\",\n        \"std\": 4.707490693353426,\n        \"min\": 0.3,\n        \"max\": 28.0,\n        \"num_unique_values\": 113,\n        \"samples\": [\n          13.6,\n          12.6\n        ],\n        \"semantic_type\": \"\",\n        \"description\": \"\"\n      }\n    },\n    {\n      \"column\": \"Cholesterol\",\n      \"properties\": {\n        \"dtype\": \"number\",\n        \"std\": 193.66845155130366,\n        \"min\": 120.0,\n        \"max\": 1775.0,\n        \"num_unique_values\": 220,\n        \"samples\": [\n          261.0,\n          288.0\n        ],\n        \"semantic_type\": \"\",\n        \"description\": \"\"\n      }\n    },\n    {\n      \"column\": \"Albumin\",\n      \"properties\": {\n        \"dtype\": \"number\",\n        \"std\": 0.38048839602571377,\n        \"min\": 1.96,\n        \"max\": 4.64,\n        \"num_unique_values\": 179,\n        \"samples\": [\n          3.31,\n          3.77\n        ],\n        \"semantic_type\": \"\",\n        \"description\": \"\"\n      }\n    },\n    {\n      \"column\": \"Copper\",\n      \"properties\": {\n        \"dtype\": \"number\",\n        \"std\": 73.1848398377281,\n        \"min\": 4.0,\n        \"max\": 588.0,\n        \"num_unique_values\": 197,\n        \"samples\": [\n          243.0,\n          57.0\n        ],\n        \"semantic_type\": \"\",\n        \"description\": \"\"\n      }\n    },\n    {\n      \"column\": \"Alk_Phos\",\n      \"properties\": {\n        \"dtype\": \"number\",\n        \"std\": 1798.8856595995696,\n        \"min\": 289.0,\n        \"max\": 13862.4,\n        \"num_unique_values\": 336,\n        \"samples\": [\n          1911.0,\n          11320.2\n        ],\n        \"semantic_type\": \"\",\n        \"description\": \"\"\n      }\n    },\n    {\n      \"column\": \"SGOT\",\n      \"properties\": {\n        \"dtype\": \"number\",\n        \"std\": 47.74761551308002,\n        \"min\": 26.35,\n        \"max\": 457.25,\n        \"num_unique_values\": 240,\n        \"samples\": [\n          170.5,\n          85.0\n        ],\n        \"semantic_type\": \"\",\n        \"description\": \"\"\n      }\n    },\n    {\n      \"column\": \"Tryglicerides\",\n      \"properties\": {\n        \"dtype\": \"number\",\n        \"std\": 52.78635024363871,\n        \"min\": 33.0,\n        \"max\": 598.0,\n        \"num_unique_values\": 157,\n        \"samples\": [\n          188.0,\n          71.0\n        ],\n        \"semantic_type\": \"\",\n        \"description\": \"\"\n      }\n    },\n    {\n      \"column\": \"Platelets\",\n      \"properties\": {\n        \"dtype\": \"number\",\n        \"std\": 98.67900578261023,\n        \"min\": 62.0,\n        \"max\": 721.0,\n        \"num_unique_values\": 295,\n        \"samples\": [\n          473.0,\n          270.0\n        ],\n        \"semantic_type\": \"\",\n        \"description\": \"\"\n      }\n    },\n    {\n      \"column\": \"Prothrombin\",\n      \"properties\": {\n        \"dtype\": \"number\",\n        \"std\": 0.9044358453176452,\n        \"min\": 9.0,\n        \"max\": 18.0,\n        \"num_unique_values\": 51,\n        \"samples\": [\n          9.0,\n          12.7\n        ],\n        \"semantic_type\": \"\",\n        \"description\": \"\"\n      }\n    },\n    {\n      \"column\": \"Stage\",\n      \"properties\": {\n        \"dtype\": \"number\",\n        \"std\": 0,\n        \"min\": 1,\n        \"max\": 3,\n        \"num_unique_values\": 3,\n        \"samples\": [\n          1,\n          2\n        ],\n        \"semantic_type\": \"\",\n        \"description\": \"\"\n      }\n    },\n    {\n      \"column\": \"Edema_N\",\n      \"properties\": {\n        \"dtype\": \"boolean\",\n        \"num_unique_values\": 2,\n        \"samples\": [\n          false,\n          true\n        ],\n        \"semantic_type\": \"\",\n        \"description\": \"\"\n      }\n    },\n    {\n      \"column\": \"Edema_S\",\n      \"properties\": {\n        \"dtype\": \"boolean\",\n        \"num_unique_values\": 2,\n        \"samples\": [\n          true,\n          false\n        ],\n        \"semantic_type\": \"\",\n        \"description\": \"\"\n      }\n    },\n    {\n      \"column\": \"Edema_Y\",\n      \"properties\": {\n        \"dtype\": \"boolean\",\n        \"num_unique_values\": 2,\n        \"samples\": [\n          true,\n          false\n        ],\n        \"semantic_type\": \"\",\n        \"description\": \"\"\n      }\n    }\n  ]\n}"
            }
          },
          "metadata": {},
          "execution_count": 15
        }
      ]
    },
    {
      "cell_type": "markdown",
      "source": [
        "Esempio: se la colonna `Edema` di un osservazione assumeva valore S, allora saranno settate così le nuove colonne: `Edema_N`=0, `Edema_S`=1,  `Edema_Y`=0"
      ],
      "metadata": {
        "id": "Qo2MJ-8fiXiS"
      }
    },
    {
      "cell_type": "markdown",
      "source": [
        "##Analisi dei dati\n",
        "Osserviamo la distribuzione dei dati all'interno del dataset"
      ],
      "metadata": {
        "id": "Q2oVlVeE6Hqk"
      }
    },
    {
      "cell_type": "code",
      "source": [
        "data.describe()"
      ],
      "metadata": {
        "colab": {
          "base_uri": "https://localhost:8080/",
          "height": 320
        },
        "id": "X5oNnuLY-LZ7",
        "outputId": "f3515737-ed63-424b-d43a-ad03e17c2268"
      },
      "execution_count": 16,
      "outputs": [
        {
          "output_type": "execute_result",
          "data": {
            "text/plain": [
              "                Age     Bilirubin   Cholesterol       Albumin        Copper  \\\n",
              "count  25000.000000  25000.000000  25000.000000  25000.000000  25000.000000   \n",
              "mean      50.669720      3.402644    372.331471      3.486578    100.184663   \n",
              "std       10.202984      4.707491    193.668452      0.380488     73.184840   \n",
              "min       26.000000      0.300000    120.000000      1.960000      4.000000   \n",
              "25%       43.000000      0.800000    275.000000      3.290000     52.000000   \n",
              "50%       51.000000      1.300000    369.510563      3.510000     97.648387   \n",
              "75%       57.000000      3.400000    369.510563      3.750000    107.000000   \n",
              "max       78.000000     28.000000   1775.000000      4.640000    588.000000   \n",
              "\n",
              "           Alk_Phos          SGOT  Tryglicerides     Platelets   Prothrombin  \\\n",
              "count  25000.000000  25000.000000   25000.000000  25000.000000  25000.000000   \n",
              "mean    1995.675597    123.166345     123.822548    256.007337     10.734549   \n",
              "std     1798.885660     47.747616      52.786350     98.679006      0.904436   \n",
              "min      289.000000     26.350000      33.000000     62.000000      9.000000   \n",
              "25%     1032.000000     92.000000      92.000000    189.000000     10.000000   \n",
              "50%     1828.000000    122.556346     124.702128    251.000000     10.600000   \n",
              "75%     1982.655769    134.850000     127.000000    311.000000     11.100000   \n",
              "max    13862.400000    457.250000     598.000000    721.000000     18.000000   \n",
              "\n",
              "             Stage  \n",
              "count  25000.00000  \n",
              "mean       2.00116  \n",
              "std        0.81387  \n",
              "min        1.00000  \n",
              "25%        1.00000  \n",
              "50%        2.00000  \n",
              "75%        3.00000  \n",
              "max        3.00000  "
            ],
            "text/html": [
              "\n",
              "  <div id=\"df-23797d0f-ae22-4dba-bcb6-7ca7e2ed46b5\" class=\"colab-df-container\">\n",
              "    <div>\n",
              "<style scoped>\n",
              "    .dataframe tbody tr th:only-of-type {\n",
              "        vertical-align: middle;\n",
              "    }\n",
              "\n",
              "    .dataframe tbody tr th {\n",
              "        vertical-align: top;\n",
              "    }\n",
              "\n",
              "    .dataframe thead th {\n",
              "        text-align: right;\n",
              "    }\n",
              "</style>\n",
              "<table border=\"1\" class=\"dataframe\">\n",
              "  <thead>\n",
              "    <tr style=\"text-align: right;\">\n",
              "      <th></th>\n",
              "      <th>Age</th>\n",
              "      <th>Bilirubin</th>\n",
              "      <th>Cholesterol</th>\n",
              "      <th>Albumin</th>\n",
              "      <th>Copper</th>\n",
              "      <th>Alk_Phos</th>\n",
              "      <th>SGOT</th>\n",
              "      <th>Tryglicerides</th>\n",
              "      <th>Platelets</th>\n",
              "      <th>Prothrombin</th>\n",
              "      <th>Stage</th>\n",
              "    </tr>\n",
              "  </thead>\n",
              "  <tbody>\n",
              "    <tr>\n",
              "      <th>count</th>\n",
              "      <td>25000.000000</td>\n",
              "      <td>25000.000000</td>\n",
              "      <td>25000.000000</td>\n",
              "      <td>25000.000000</td>\n",
              "      <td>25000.000000</td>\n",
              "      <td>25000.000000</td>\n",
              "      <td>25000.000000</td>\n",
              "      <td>25000.000000</td>\n",
              "      <td>25000.000000</td>\n",
              "      <td>25000.000000</td>\n",
              "      <td>25000.00000</td>\n",
              "    </tr>\n",
              "    <tr>\n",
              "      <th>mean</th>\n",
              "      <td>50.669720</td>\n",
              "      <td>3.402644</td>\n",
              "      <td>372.331471</td>\n",
              "      <td>3.486578</td>\n",
              "      <td>100.184663</td>\n",
              "      <td>1995.675597</td>\n",
              "      <td>123.166345</td>\n",
              "      <td>123.822548</td>\n",
              "      <td>256.007337</td>\n",
              "      <td>10.734549</td>\n",
              "      <td>2.00116</td>\n",
              "    </tr>\n",
              "    <tr>\n",
              "      <th>std</th>\n",
              "      <td>10.202984</td>\n",
              "      <td>4.707491</td>\n",
              "      <td>193.668452</td>\n",
              "      <td>0.380488</td>\n",
              "      <td>73.184840</td>\n",
              "      <td>1798.885660</td>\n",
              "      <td>47.747616</td>\n",
              "      <td>52.786350</td>\n",
              "      <td>98.679006</td>\n",
              "      <td>0.904436</td>\n",
              "      <td>0.81387</td>\n",
              "    </tr>\n",
              "    <tr>\n",
              "      <th>min</th>\n",
              "      <td>26.000000</td>\n",
              "      <td>0.300000</td>\n",
              "      <td>120.000000</td>\n",
              "      <td>1.960000</td>\n",
              "      <td>4.000000</td>\n",
              "      <td>289.000000</td>\n",
              "      <td>26.350000</td>\n",
              "      <td>33.000000</td>\n",
              "      <td>62.000000</td>\n",
              "      <td>9.000000</td>\n",
              "      <td>1.00000</td>\n",
              "    </tr>\n",
              "    <tr>\n",
              "      <th>25%</th>\n",
              "      <td>43.000000</td>\n",
              "      <td>0.800000</td>\n",
              "      <td>275.000000</td>\n",
              "      <td>3.290000</td>\n",
              "      <td>52.000000</td>\n",
              "      <td>1032.000000</td>\n",
              "      <td>92.000000</td>\n",
              "      <td>92.000000</td>\n",
              "      <td>189.000000</td>\n",
              "      <td>10.000000</td>\n",
              "      <td>1.00000</td>\n",
              "    </tr>\n",
              "    <tr>\n",
              "      <th>50%</th>\n",
              "      <td>51.000000</td>\n",
              "      <td>1.300000</td>\n",
              "      <td>369.510563</td>\n",
              "      <td>3.510000</td>\n",
              "      <td>97.648387</td>\n",
              "      <td>1828.000000</td>\n",
              "      <td>122.556346</td>\n",
              "      <td>124.702128</td>\n",
              "      <td>251.000000</td>\n",
              "      <td>10.600000</td>\n",
              "      <td>2.00000</td>\n",
              "    </tr>\n",
              "    <tr>\n",
              "      <th>75%</th>\n",
              "      <td>57.000000</td>\n",
              "      <td>3.400000</td>\n",
              "      <td>369.510563</td>\n",
              "      <td>3.750000</td>\n",
              "      <td>107.000000</td>\n",
              "      <td>1982.655769</td>\n",
              "      <td>134.850000</td>\n",
              "      <td>127.000000</td>\n",
              "      <td>311.000000</td>\n",
              "      <td>11.100000</td>\n",
              "      <td>3.00000</td>\n",
              "    </tr>\n",
              "    <tr>\n",
              "      <th>max</th>\n",
              "      <td>78.000000</td>\n",
              "      <td>28.000000</td>\n",
              "      <td>1775.000000</td>\n",
              "      <td>4.640000</td>\n",
              "      <td>588.000000</td>\n",
              "      <td>13862.400000</td>\n",
              "      <td>457.250000</td>\n",
              "      <td>598.000000</td>\n",
              "      <td>721.000000</td>\n",
              "      <td>18.000000</td>\n",
              "      <td>3.00000</td>\n",
              "    </tr>\n",
              "  </tbody>\n",
              "</table>\n",
              "</div>\n",
              "    <div class=\"colab-df-buttons\">\n",
              "\n",
              "  <div class=\"colab-df-container\">\n",
              "    <button class=\"colab-df-convert\" onclick=\"convertToInteractive('df-23797d0f-ae22-4dba-bcb6-7ca7e2ed46b5')\"\n",
              "            title=\"Convert this dataframe to an interactive table.\"\n",
              "            style=\"display:none;\">\n",
              "\n",
              "  <svg xmlns=\"http://www.w3.org/2000/svg\" height=\"24px\" viewBox=\"0 -960 960 960\">\n",
              "    <path d=\"M120-120v-720h720v720H120Zm60-500h600v-160H180v160Zm220 220h160v-160H400v160Zm0 220h160v-160H400v160ZM180-400h160v-160H180v160Zm440 0h160v-160H620v160ZM180-180h160v-160H180v160Zm440 0h160v-160H620v160Z\"/>\n",
              "  </svg>\n",
              "    </button>\n",
              "\n",
              "  <style>\n",
              "    .colab-df-container {\n",
              "      display:flex;\n",
              "      gap: 12px;\n",
              "    }\n",
              "\n",
              "    .colab-df-convert {\n",
              "      background-color: #E8F0FE;\n",
              "      border: none;\n",
              "      border-radius: 50%;\n",
              "      cursor: pointer;\n",
              "      display: none;\n",
              "      fill: #1967D2;\n",
              "      height: 32px;\n",
              "      padding: 0 0 0 0;\n",
              "      width: 32px;\n",
              "    }\n",
              "\n",
              "    .colab-df-convert:hover {\n",
              "      background-color: #E2EBFA;\n",
              "      box-shadow: 0px 1px 2px rgba(60, 64, 67, 0.3), 0px 1px 3px 1px rgba(60, 64, 67, 0.15);\n",
              "      fill: #174EA6;\n",
              "    }\n",
              "\n",
              "    .colab-df-buttons div {\n",
              "      margin-bottom: 4px;\n",
              "    }\n",
              "\n",
              "    [theme=dark] .colab-df-convert {\n",
              "      background-color: #3B4455;\n",
              "      fill: #D2E3FC;\n",
              "    }\n",
              "\n",
              "    [theme=dark] .colab-df-convert:hover {\n",
              "      background-color: #434B5C;\n",
              "      box-shadow: 0px 1px 3px 1px rgba(0, 0, 0, 0.15);\n",
              "      filter: drop-shadow(0px 1px 2px rgba(0, 0, 0, 0.3));\n",
              "      fill: #FFFFFF;\n",
              "    }\n",
              "  </style>\n",
              "\n",
              "    <script>\n",
              "      const buttonEl =\n",
              "        document.querySelector('#df-23797d0f-ae22-4dba-bcb6-7ca7e2ed46b5 button.colab-df-convert');\n",
              "      buttonEl.style.display =\n",
              "        google.colab.kernel.accessAllowed ? 'block' : 'none';\n",
              "\n",
              "      async function convertToInteractive(key) {\n",
              "        const element = document.querySelector('#df-23797d0f-ae22-4dba-bcb6-7ca7e2ed46b5');\n",
              "        const dataTable =\n",
              "          await google.colab.kernel.invokeFunction('convertToInteractive',\n",
              "                                                    [key], {});\n",
              "        if (!dataTable) return;\n",
              "\n",
              "        const docLinkHtml = 'Like what you see? Visit the ' +\n",
              "          '<a target=\"_blank\" href=https://colab.research.google.com/notebooks/data_table.ipynb>data table notebook</a>'\n",
              "          + ' to learn more about interactive tables.';\n",
              "        element.innerHTML = '';\n",
              "        dataTable['output_type'] = 'display_data';\n",
              "        await google.colab.output.renderOutput(dataTable, element);\n",
              "        const docLink = document.createElement('div');\n",
              "        docLink.innerHTML = docLinkHtml;\n",
              "        element.appendChild(docLink);\n",
              "      }\n",
              "    </script>\n",
              "  </div>\n",
              "\n",
              "\n",
              "<div id=\"df-aa0dce1b-47bb-4657-8442-6b6b466cdec6\">\n",
              "  <button class=\"colab-df-quickchart\" onclick=\"quickchart('df-aa0dce1b-47bb-4657-8442-6b6b466cdec6')\"\n",
              "            title=\"Suggest charts\"\n",
              "            style=\"display:none;\">\n",
              "\n",
              "<svg xmlns=\"http://www.w3.org/2000/svg\" height=\"24px\"viewBox=\"0 0 24 24\"\n",
              "     width=\"24px\">\n",
              "    <g>\n",
              "        <path d=\"M19 3H5c-1.1 0-2 .9-2 2v14c0 1.1.9 2 2 2h14c1.1 0 2-.9 2-2V5c0-1.1-.9-2-2-2zM9 17H7v-7h2v7zm4 0h-2V7h2v10zm4 0h-2v-4h2v4z\"/>\n",
              "    </g>\n",
              "</svg>\n",
              "  </button>\n",
              "\n",
              "<style>\n",
              "  .colab-df-quickchart {\n",
              "      --bg-color: #E8F0FE;\n",
              "      --fill-color: #1967D2;\n",
              "      --hover-bg-color: #E2EBFA;\n",
              "      --hover-fill-color: #174EA6;\n",
              "      --disabled-fill-color: #AAA;\n",
              "      --disabled-bg-color: #DDD;\n",
              "  }\n",
              "\n",
              "  [theme=dark] .colab-df-quickchart {\n",
              "      --bg-color: #3B4455;\n",
              "      --fill-color: #D2E3FC;\n",
              "      --hover-bg-color: #434B5C;\n",
              "      --hover-fill-color: #FFFFFF;\n",
              "      --disabled-bg-color: #3B4455;\n",
              "      --disabled-fill-color: #666;\n",
              "  }\n",
              "\n",
              "  .colab-df-quickchart {\n",
              "    background-color: var(--bg-color);\n",
              "    border: none;\n",
              "    border-radius: 50%;\n",
              "    cursor: pointer;\n",
              "    display: none;\n",
              "    fill: var(--fill-color);\n",
              "    height: 32px;\n",
              "    padding: 0;\n",
              "    width: 32px;\n",
              "  }\n",
              "\n",
              "  .colab-df-quickchart:hover {\n",
              "    background-color: var(--hover-bg-color);\n",
              "    box-shadow: 0 1px 2px rgba(60, 64, 67, 0.3), 0 1px 3px 1px rgba(60, 64, 67, 0.15);\n",
              "    fill: var(--button-hover-fill-color);\n",
              "  }\n",
              "\n",
              "  .colab-df-quickchart-complete:disabled,\n",
              "  .colab-df-quickchart-complete:disabled:hover {\n",
              "    background-color: var(--disabled-bg-color);\n",
              "    fill: var(--disabled-fill-color);\n",
              "    box-shadow: none;\n",
              "  }\n",
              "\n",
              "  .colab-df-spinner {\n",
              "    border: 2px solid var(--fill-color);\n",
              "    border-color: transparent;\n",
              "    border-bottom-color: var(--fill-color);\n",
              "    animation:\n",
              "      spin 1s steps(1) infinite;\n",
              "  }\n",
              "\n",
              "  @keyframes spin {\n",
              "    0% {\n",
              "      border-color: transparent;\n",
              "      border-bottom-color: var(--fill-color);\n",
              "      border-left-color: var(--fill-color);\n",
              "    }\n",
              "    20% {\n",
              "      border-color: transparent;\n",
              "      border-left-color: var(--fill-color);\n",
              "      border-top-color: var(--fill-color);\n",
              "    }\n",
              "    30% {\n",
              "      border-color: transparent;\n",
              "      border-left-color: var(--fill-color);\n",
              "      border-top-color: var(--fill-color);\n",
              "      border-right-color: var(--fill-color);\n",
              "    }\n",
              "    40% {\n",
              "      border-color: transparent;\n",
              "      border-right-color: var(--fill-color);\n",
              "      border-top-color: var(--fill-color);\n",
              "    }\n",
              "    60% {\n",
              "      border-color: transparent;\n",
              "      border-right-color: var(--fill-color);\n",
              "    }\n",
              "    80% {\n",
              "      border-color: transparent;\n",
              "      border-right-color: var(--fill-color);\n",
              "      border-bottom-color: var(--fill-color);\n",
              "    }\n",
              "    90% {\n",
              "      border-color: transparent;\n",
              "      border-bottom-color: var(--fill-color);\n",
              "    }\n",
              "  }\n",
              "</style>\n",
              "\n",
              "  <script>\n",
              "    async function quickchart(key) {\n",
              "      const quickchartButtonEl =\n",
              "        document.querySelector('#' + key + ' button');\n",
              "      quickchartButtonEl.disabled = true;  // To prevent multiple clicks.\n",
              "      quickchartButtonEl.classList.add('colab-df-spinner');\n",
              "      try {\n",
              "        const charts = await google.colab.kernel.invokeFunction(\n",
              "            'suggestCharts', [key], {});\n",
              "      } catch (error) {\n",
              "        console.error('Error during call to suggestCharts:', error);\n",
              "      }\n",
              "      quickchartButtonEl.classList.remove('colab-df-spinner');\n",
              "      quickchartButtonEl.classList.add('colab-df-quickchart-complete');\n",
              "    }\n",
              "    (() => {\n",
              "      let quickchartButtonEl =\n",
              "        document.querySelector('#df-aa0dce1b-47bb-4657-8442-6b6b466cdec6 button');\n",
              "      quickchartButtonEl.style.display =\n",
              "        google.colab.kernel.accessAllowed ? 'block' : 'none';\n",
              "    })();\n",
              "  </script>\n",
              "</div>\n",
              "    </div>\n",
              "  </div>\n"
            ],
            "application/vnd.google.colaboratory.intrinsic+json": {
              "type": "dataframe",
              "summary": "{\n  \"name\": \"data\",\n  \"rows\": 8,\n  \"fields\": [\n    {\n      \"column\": \"Age\",\n      \"properties\": {\n        \"dtype\": \"number\",\n        \"std\": 8822.904074678107,\n        \"min\": 10.202983835955356,\n        \"max\": 25000.0,\n        \"num_unique_values\": 8,\n        \"samples\": [\n          50.66972,\n          51.0,\n          25000.0\n        ],\n        \"semantic_type\": \"\",\n        \"description\": \"\"\n      }\n    },\n    {\n      \"column\": \"Bilirubin\",\n      \"properties\": {\n        \"dtype\": \"number\",\n        \"std\": 8836.722678032665,\n        \"min\": 0.3,\n        \"max\": 25000.0,\n        \"num_unique_values\": 8,\n        \"samples\": [\n          3.4026439999999996,\n          1.3,\n          25000.0\n        ],\n        \"semantic_type\": \"\",\n        \"description\": \"\"\n      }\n    },\n    {\n      \"column\": \"Cholesterol\",\n      \"properties\": {\n        \"dtype\": \"number\",\n        \"std\": 8679.503864478489,\n        \"min\": 120.0,\n        \"max\": 25000.0,\n        \"num_unique_values\": 7,\n        \"samples\": [\n          25000.0,\n          372.33147127416,\n          369.5105634\n        ],\n        \"semantic_type\": \"\",\n        \"description\": \"\"\n      }\n    },\n    {\n      \"column\": \"Albumin\",\n      \"properties\": {\n        \"dtype\": \"number\",\n        \"std\": 8837.773337836275,\n        \"min\": 0.38048839602571377,\n        \"max\": 25000.0,\n        \"num_unique_values\": 8,\n        \"samples\": [\n          3.4865783999999995,\n          3.51,\n          25000.0\n        ],\n        \"semantic_type\": \"\",\n        \"description\": \"\"\n      }\n    },\n    {\n      \"column\": \"Copper\",\n      \"properties\": {\n        \"dtype\": \"number\",\n        \"std\": 8789.130172416551,\n        \"min\": 4.0,\n        \"max\": 25000.0,\n        \"num_unique_values\": 8,\n        \"samples\": [\n          100.184662710544,\n          97.6483871,\n          25000.0\n        ],\n        \"semantic_type\": \"\",\n        \"description\": \"\"\n      }\n    },\n    {\n      \"column\": \"Alk_Phos\",\n      \"properties\": {\n        \"dtype\": \"number\",\n        \"std\": 8842.56675497257,\n        \"min\": 289.0,\n        \"max\": 25000.0,\n        \"num_unique_values\": 8,\n        \"samples\": [\n          1995.6755967074403,\n          1828.0,\n          25000.0\n        ],\n        \"semantic_type\": \"\",\n        \"description\": \"\"\n      }\n    },\n    {\n      \"column\": \"SGOT\",\n      \"properties\": {\n        \"dtype\": \"number\",\n        \"std\": 8789.14432966142,\n        \"min\": 26.35,\n        \"max\": 25000.0,\n        \"num_unique_values\": 8,\n        \"samples\": [\n          123.16634511984002,\n          122.5563462,\n          25000.0\n        ],\n        \"semantic_type\": \"\",\n        \"description\": \"\"\n      }\n    },\n    {\n      \"column\": \"Tryglicerides\",\n      \"properties\": {\n        \"dtype\": \"number\",\n        \"std\": 8782.536011029759,\n        \"min\": 33.0,\n        \"max\": 25000.0,\n        \"num_unique_values\": 8,\n        \"samples\": [\n          123.822548098788,\n          124.7021277,\n          25000.0\n        ],\n        \"semantic_type\": \"\",\n        \"description\": \"\"\n      }\n    },\n    {\n      \"column\": \"Platelets\",\n      \"properties\": {\n        \"dtype\": \"number\",\n        \"std\": 8745.768149290183,\n        \"min\": 62.0,\n        \"max\": 25000.0,\n        \"num_unique_values\": 8,\n        \"samples\": [\n          256.0073369584,\n          251.0,\n          25000.0\n        ],\n        \"semantic_type\": \"\",\n        \"description\": \"\"\n      }\n    },\n    {\n      \"column\": \"Prothrombin\",\n      \"properties\": {\n        \"dtype\": \"number\",\n        \"std\": 8835.283320844452,\n        \"min\": 0.9044358453176452,\n        \"max\": 25000.0,\n        \"num_unique_values\": 8,\n        \"samples\": [\n          10.734548923081599,\n          10.6,\n          25000.0\n        ],\n        \"semantic_type\": \"\",\n        \"description\": \"\"\n      }\n    },\n    {\n      \"column\": \"Stage\",\n      \"properties\": {\n        \"dtype\": \"number\",\n        \"std\": 8838.18755012614,\n        \"min\": 0.8138704748336756,\n        \"max\": 25000.0,\n        \"num_unique_values\": 6,\n        \"samples\": [\n          25000.0,\n          2.00116,\n          3.0\n        ],\n        \"semantic_type\": \"\",\n        \"description\": \"\"\n      }\n    }\n  ]\n}"
            }
          },
          "metadata": {},
          "execution_count": 16
        }
      ]
    },
    {
      "cell_type": "markdown",
      "source": [
        "Come si osserva dalla descrizione del dataset, si rilevano la media, deviazione standard, minimo, massimo e i percentili di ogni features.\n",
        "Si vede ad esempio `Age` ha come minimo 26 e massimo 78.\n",
        "\n"
      ],
      "metadata": {
        "id": "wQnVm0nOBXAk"
      }
    },
    {
      "cell_type": "markdown",
      "source": [
        "Utilizzando di grafici siamo in grado di visualizzare al meglio come sono strutturati i dati."
      ],
      "metadata": {
        "id": "NEaxwPhICv4g"
      }
    },
    {
      "cell_type": "markdown",
      "source": [
        "I dati di arrivo su cui verrà addestrato in seguito il dataset sono quasi perfettamente bilanciati."
      ],
      "metadata": {
        "id": "4GCVtxgrE3xm"
      }
    },
    {
      "cell_type": "code",
      "source": [
        "data[\"Stage\"].value_counts().plot.pie(autopct='%1.1f%%');"
      ],
      "metadata": {
        "colab": {
          "base_uri": "https://localhost:8080/",
          "height": 406
        },
        "id": "zzBA2KvoEXhW",
        "outputId": "81bbe140-8ad4-4016-948c-f4eb8d15270d"
      },
      "execution_count": 17,
      "outputs": [
        {
          "output_type": "display_data",
          "data": {
            "text/plain": [
              "<Figure size 640x480 with 1 Axes>"
            ],
            "image/png": "[encoded data removed]"
          },
          "metadata": {}
        }
      ]
    },
    {
      "cell_type": "markdown",
      "source": [
        "Rappresentiamo i grafici appartenenti alle feature continue del dataset."
      ],
      "metadata": {
        "id": "P-3nPvSB3V_H"
      }
    },
    {
      "cell_type": "code",
      "source": [
        "plt.figure(figsize=(20, 10))\n",
        "\n",
        "\n",
        "plt.subplot(3, 4, 1)\n",
        "plt.title('Age')\n",
        "plt.hist(data['Age'], label=\"Age\", color=\"Red\")\n",
        "plt.ylabel('count')\n",
        "plt.xlabel('Year')\n",
        "\n",
        "plt.subplot(3, 4, 2)\n",
        "plt.title('Bilirubin')\n",
        "plt.hist(data['Bilirubin'], label=\"Bilirubin\", color=\"Blue\")\n",
        "plt.ylabel('count')\n",
        "plt.xlabel('[mg/dl]')\n",
        "\n",
        "plt.subplot(3, 4, 3)\n",
        "plt.title('Cholesterol')\n",
        "plt.hist(data['Cholesterol'], label=\"Cholesterol\", color=\"Green\")\n",
        "plt.ylabel('count')\n",
        "plt.xlabel('[mg/dl]')\n",
        "\n",
        "plt.subplot(3, 4, 4)\n",
        "plt.title('Albumin')\n",
        "plt.hist(data['Albumin'], label=\"Albumin\", color=\"Khaki\")\n",
        "plt.ylabel('count')\n",
        "plt.xlabel('gr/dl')\n",
        "\n",
        "plt.subplot(3, 4, 5)\n",
        "plt.title('Copper')\n",
        "plt.hist(data['Copper'], label=\"Copper\", color=\"Orange\")\n",
        "plt.ylabel('count')\n",
        "plt.xlabel('ug/giorno')\n",
        "\n",
        "plt.subplot(3, 4, 6)\n",
        "plt.title('Alk_Phos')\n",
        "plt.hist(data['Alk_Phos'], label=\"Alk_Phos\", color=\"Purple\")\n",
        "plt.ylabel('count')\n",
        "plt.xlabel('U/litro')\n",
        "\n",
        "plt.subplot(3, 4, 7)\n",
        "plt.title('SGOT')\n",
        "plt.hist(data['SGOT'], label=\"SGOT\", color=\"Pink\")\n",
        "plt.ylabel('count')\n",
        "plt.xlabel('U/ml')\n",
        "\n",
        "plt.subplot(3, 4, 8)\n",
        "plt.title('Tryglicerides')\n",
        "plt.hist(data['Tryglicerides'], label=\"Tryglicerides\", color=\"Cyan\")\n",
        "plt.ylabel('count')\n",
        "plt.xlabel('mg/dl')\n",
        "\n",
        "plt.subplot(3, 4, 9)\n",
        "plt.title('Platelets')\n",
        "plt.hist(data['Platelets'], label=\"Platelets\", color=\"greenyellow\")\n",
        "plt.ylabel('count')\n",
        "plt.xlabel('ml/1000')\n",
        "\n",
        "plt.subplot(3, 4, 10)\n",
        "plt.title('Prothrombin')\n",
        "plt.hist(data['Prothrombin'], label=\"Prothrombin\", color=\"coral\")\n",
        "plt.ylabel('count')\n",
        "plt.xlabel('s')\n",
        "\n",
        "plt.subplots_adjust(\n",
        "                    wspace=0.4,\n",
        "                    hspace=0.4)\n",
        "\n",
        "plt.show()"
      ],
      "metadata": {
        "colab": {
          "base_uri": "https://localhost:8080/",
          "height": 596
        },
        "id": "494ZCqtN3cvi",
        "outputId": "94dfd6c6-813d-4679-8139-cea7145fc786"
      },
      "execution_count": 18,
      "outputs": [
        {
          "output_type": "display_data",
          "data": {
            "text/plain": [
              "<Figure size 2000x1000 with 10 Axes>"
            ],
            "image/png": "[encoded data removed]"
          },
          "metadata": {}
        }
      ]
    },
    {
      "cell_type": "markdown",
      "source": [
        "A giudicare dagli istogrammi l'età presenta una quantità maggiore di casi nel range 50-60 anni.\n",
        "Invece, tranne l'albumina, i valori correlati al sangue si presentano maggiormente nel corretto range che dovrebbero assumere, nonostante ciò, si vede una loro tendenza ad assumere valori che oltrepassano il loro range in eccesso."
      ],
      "metadata": {
        "id": "xpOgqdFJ99kg"
      }
    },
    {
      "cell_type": "markdown",
      "source": [
        "Può rilevarsi utile controllare se vi è una correlazione tra l'età e lo stadio della malattia."
      ],
      "metadata": {
        "id": "fPg__JCbCzpC"
      }
    },
    {
      "cell_type": "code",
      "source": [
        "from matplotlib import rcParams\n",
        "import seaborn as sns\n",
        "\n",
        "rcParams['figure.figsize'] = 14, 6\n",
        "sns.countplot(x='Age', hue='Stage', data=data, palette=\"Set2\")\n",
        "plt.show()"
      ],
      "metadata": {
        "colab": {
          "base_uri": "https://localhost:8080/",
          "height": 521
        },
        "id": "9Wt8SNg_4GDI",
        "outputId": "65ed594e-a5e1-417a-8704-512d811e6b1f"
      },
      "execution_count": 19,
      "outputs": [
        {
          "output_type": "display_data",
          "data": {
            "text/plain": [
              "<Figure size 1400x600 with 1 Axes>"
            ],
            "image/png": "[encoded data removed]"
          },
          "metadata": {}
        }
      ]
    },
    {
      "cell_type": "markdown",
      "source": [
        "Osservando il grafico può sembrare che l'età non sia particolarmente rilevante e correlata allo stadio delle malattie, nonostante ciò verrà valutata più avanti tale correlazione.\n",
        "N.B. si presentano più casi per valori \"centrali\" d'età anche grazie al maggior numero di casi registrati."
      ],
      "metadata": {
        "id": "bZZSRRrIC6j4"
      }
    },
    {
      "cell_type": "markdown",
      "source": [
        "##Modelli di classificazione\n",
        "\n",
        "Verranno di seguito utilizzate varie tipologie di modelli di classificazione mostrandone l'efficienza.\n",
        "Soltanto alla fine, su di essi, verrà fatta la riflessione adeguata.\n",
        "\n",
        "N.B. ogni modello viene usato insieme ad un filtro di standardizzazione visto che le feature del dataset sono rappresentate da scale diverse."
      ],
      "metadata": {
        "id": "t8NtJ7wLl-mx"
      }
    },
    {
      "cell_type": "markdown",
      "source": [
        "Divisione del dataset in train set e in validation set"
      ],
      "metadata": {
        "id": "KT-HhV5UBXG4"
      }
    },
    {
      "cell_type": "code",
      "source": [
        "X = data.drop(columns=\"Stage\")\n",
        "y = data[\"Stage\"]\n",
        "\n",
        "X_train, X_val, y_train, y_val = train_test_split(X, y, test_size=1/3, random_state=42)"
      ],
      "metadata": {
        "id": "NJJUKc-0iAHG"
      },
      "execution_count": 20,
      "outputs": []
    },
    {
      "cell_type": "markdown",
      "source": [
        "Viene definita una funzione che sarà utilizzata per valutare se il modello addestrato presenta o no overfitting.\n",
        "Non essendoci una soglia fissata è stato deciso, vista la \"ridotta\" misura del dataset, che, il modello è in overfitting se:\n",
        "\n",
        "`model.score(test_set) - model.score(validation) > 5%`\n",
        "\n",
        "\n"
      ],
      "metadata": {
        "id": "zFljRtHk5rwt"
      }
    },
    {
      "cell_type": "code",
      "source": [
        "def model_in_overfitting(model, X_train, X_val, y_train, y_val):\n",
        "  test_score = model.score(X_train,y_train)\n",
        "  val_score = model.score(X_val, y_val)\n",
        "  return (test_score - val_score) > 0.05"
      ],
      "metadata": {
        "id": "vDN8EKwK6poW"
      },
      "execution_count": 21,
      "outputs": []
    },
    {
      "cell_type": "markdown",
      "source": [
        "###Perceptron\n",
        "\n",
        "Si inizia utilizzando il modello più semplice. Esso è basato sulla capacità di trovare un iperpiano che divida due classi tra di loro. Se si ha un problema multiclasse viene utilizzata la tecnica OvA(One vs All) dove si usano più iperpiani\n",
        " separatori ciascuno allenato a riconoscere una specifica classe.\n"
      ],
      "metadata": {
        "id": "9tYV4x-O_RPK"
      }
    },
    {
      "cell_type": "code",
      "source": [
        "perceptron_model = Pipeline([\n",
        "    (\"scaler\", StandardScaler()),\n",
        "    (\"perceptron\", Perceptron())\n",
        "])"
      ],
      "metadata": {
        "id": "_a859Ca8mToi"
      },
      "execution_count": 22,
      "outputs": []
    },
    {
      "cell_type": "markdown",
      "source": [
        "Si cercano tramite la gridsearch gli iperparametri ottimali tra quelli che è stato deciso di inserire."
      ],
      "metadata": {
        "id": "qeibXkeuDk0t"
      }
    },
    {
      "cell_type": "code",
      "source": [
        "grid = [\n",
        "    {\n",
        "        \"scaler\": [None, StandardScaler()],\n",
        "        \"perceptron__penalty\": [\"l2\", \"l1\"],\n",
        "        \"perceptron__alpha\": [0.0001, 0.001, 0.01, 1],\n",
        "    },\n",
        "    {\n",
        "        \"scaler\": [None, StandardScaler()],\n",
        "        \"perceptron__penalty\": [\"elasticnet\"],\n",
        "        \"perceptron__alpha\": [0.0001, 0.001, 0.01, 1],\n",
        "        \"perceptron__l1_ratio\": [0.2, 0.5] #l1_ratio ha senso solo nel momento in cui si sceglie una penalty elasticnet\n",
        "    }\n",
        "]"
      ],
      "metadata": {
        "id": "FffeeEKcbsr7",
        "collapsed": true
      },
      "execution_count": 23,
      "outputs": []
    },
    {
      "cell_type": "code",
      "source": [
        "gs_perceptron = GridSearchCV(perceptron_model, param_grid=grid, cv=5, n_jobs=-1)"
      ],
      "metadata": {
        "id": "Ax9bGFD8b0oq"
      },
      "execution_count": 24,
      "outputs": []
    },
    {
      "cell_type": "code",
      "source": [
        "gs_perceptron.fit(X_train, y_train)"
      ],
      "metadata": {
        "colab": {
          "base_uri": "https://localhost:8080/",
          "height": 151
        },
        "collapsed": true,
        "id": "tM_GWxs7J8N-",
        "outputId": "9a9d99c5-c7cb-4a5c-9b91-3c0ff51f646c"
      },
      "execution_count": 25,
      "outputs": [
        {
          "output_type": "execute_result",
          "data": {
            "text/plain": [
              "GridSearchCV(cv=5,\n",
              "             estimator=Pipeline(steps=[('scaler', StandardScaler()),\n",
              "                                       ('perceptron', Perceptron())]),\n",
              "             n_jobs=-1,\n",
              "             param_grid=[{'perceptron__alpha': [0.0001, 0.001, 0.01, 1],\n",
              "                          'perceptron__penalty': ['l2', 'l1'],\n",
              "                          'scaler': [None, StandardScaler()]},\n",
              "                         {'perceptron__alpha': [0.0001, 0.001, 0.01, 1],\n",
              "                          'perceptron__l1_ratio': [0.2, 0.5],\n",
              "                          'perceptron__penalty': ['elasticnet'],\n",
              "                          'scaler': [None, StandardScaler()]}])"
            ],
            "text/html": [
              "<style>#sk-container-id-1 {color: black;background-color: white;}#sk-container-id-1 pre{padding: 0;}#sk-container-id-1 div.sk-toggleable {background-color: white;}#sk-container-id-1 label.sk-toggleable__label {cursor: pointer;display: block;width: 100%;margin-bottom: 0;padding: 0.3em;box-sizing: border-box;text-align: center;}#sk-container-id-1 label.sk-toggleable__label-arrow:before {content: \"▸\";float: left;margin-right: 0.25em;color: #696969;}#sk-container-id-1 label.sk-toggleable__label-arrow:hover:before {color: black;}#sk-container-id-1 div.sk-estimator:hover label.sk-toggleable__label-arrow:before {color: black;}#sk-container-id-1 div.sk-toggleable__content {max-height: 0;max-width: 0;overflow: hidden;text-align: left;background-color: #f0f8ff;}#sk-container-id-1 div.sk-toggleable__content pre {margin: 0.2em;color: black;border-radius: 0.25em;background-color: #f0f8ff;}#sk-container-id-1 input.sk-toggleable__control:checked~div.sk-toggleable__content {max-height: 200px;max-width: 100%;overflow: auto;}#sk-container-id-1 input.sk-toggleable__control:checked~label.sk-toggleable__label-arrow:before {content: \"▾\";}#sk-container-id-1 div.sk-estimator input.sk-toggleable__control:checked~label.sk-toggleable__label {background-color: #d4ebff;}#sk-container-id-1 div.sk-label input.sk-toggleable__control:checked~label.sk-toggleable__label {background-color: #d4ebff;}#sk-container-id-1 input.sk-hidden--visually {border: 0;clip: rect(1px 1px 1px 1px);clip: rect(1px, 1px, 1px, 1px);height: 1px;margin: -1px;overflow: hidden;padding: 0;position: absolute;width: 1px;}#sk-container-id-1 div.sk-estimator {font-family: monospace;background-color: #f0f8ff;border: 1px dotted black;border-radius: 0.25em;box-sizing: border-box;margin-bottom: 0.5em;}#sk-container-id-1 div.sk-estimator:hover {background-color: #d4ebff;}#sk-container-id-1 div.sk-parallel-item::after {content: \"\";width: 100%;border-bottom: 1px solid gray;flex-grow: 1;}#sk-container-id-1 div.sk-label:hover label.sk-toggleable__label {background-color: #d4ebff;}#sk-container-id-1 div.sk-serial::before {content: \"\";position: absolute;border-left: 1px solid gray;box-sizing: border-box;top: 0;bottom: 0;left: 50%;z-index: 0;}#sk-container-id-1 div.sk-serial {display: flex;flex-direction: column;align-items: center;background-color: white;padding-right: 0.2em;padding-left: 0.2em;position: relative;}#sk-container-id-1 div.sk-item {position: relative;z-index: 1;}#sk-container-id-1 div.sk-parallel {display: flex;align-items: stretch;justify-content: center;background-color: white;position: relative;}#sk-container-id-1 div.sk-item::before, #sk-container-id-1 div.sk-parallel-item::before {content: \"\";position: absolute;border-left: 1px solid gray;box-sizing: border-box;top: 0;bottom: 0;left: 50%;z-index: -1;}#sk-container-id-1 div.sk-parallel-item {display: flex;flex-direction: column;z-index: 1;position: relative;background-color: white;}#sk-container-id-1 div.sk-parallel-item:first-child::after {align-self: flex-end;width: 50%;}#sk-container-id-1 div.sk-parallel-item:last-child::after {align-self: flex-start;width: 50%;}#sk-container-id-1 div.sk-parallel-item:only-child::after {width: 0;}#sk-container-id-1 div.sk-dashed-wrapped {border: 1px dashed gray;margin: 0 0.4em 0.5em 0.4em;box-sizing: border-box;padding-bottom: 0.4em;background-color: white;}#sk-container-id-1 div.sk-label label {font-family: monospace;font-weight: bold;display: inline-block;line-height: 1.2em;}#sk-container-id-1 div.sk-label-container {text-align: center;}#sk-container-id-1 div.sk-container {/* jupyter's `normalize.less` sets `[hidden] { display: none; }` but bootstrap.min.css set `[hidden] { display: none !important; }` so we also need the `!important` here to be able to override the default hidden behavior on the sphinx rendered scikit-learn.org. See: https://github.com/scikit-learn/scikit-learn/issues/21755 */display: inline-block !important;position: relative;}#sk-container-id-1 div.sk-text-repr-fallback {display: none;}</style><div id=\"sk-container-id-1\" class=\"sk-top-container\"><div class=\"sk-text-repr-fallback\"><pre>GridSearchCV(cv=5,\n",
              "             estimator=Pipeline(steps=[(&#x27;scaler&#x27;, StandardScaler()),\n",
              "                                       (&#x27;perceptron&#x27;, Perceptron())]),\n",
              "             n_jobs=-1,\n",
              "             param_grid=[{&#x27;perceptron__alpha&#x27;: [0.0001, 0.001, 0.01, 1],\n",
              "                          &#x27;perceptron__penalty&#x27;: [&#x27;l2&#x27;, &#x27;l1&#x27;],\n",
              "                          &#x27;scaler&#x27;: [None, StandardScaler()]},\n",
              "                         {&#x27;perceptron__alpha&#x27;: [0.0001, 0.001, 0.01, 1],\n",
              "                          &#x27;perceptron__l1_ratio&#x27;: [0.2, 0.5],\n",
              "                          &#x27;perceptron__penalty&#x27;: [&#x27;elasticnet&#x27;],\n",
              "                          &#x27;scaler&#x27;: [None, StandardScaler()]}])</pre><b>In a Jupyter environment, please rerun this cell to show the HTML representation or trust the notebook. <br />On GitHub, the HTML representation is unable to render, please try loading this page with nbviewer.org.</b></div><div class=\"sk-container\" hidden><div class=\"sk-item sk-dashed-wrapped\"><div class=\"sk-label-container\"><div class=\"sk-label sk-toggleable\"><input class=\"sk-toggleable__control sk-hidden--visually\" id=\"sk-estimator-id-1\" type=\"checkbox\" ><label for=\"sk-estimator-id-1\" class=\"sk-toggleable__label sk-toggleable__label-arrow\">GridSearchCV</label><div class=\"sk-toggleable__content\"><pre>GridSearchCV(cv=5,\n",
              "             estimator=Pipeline(steps=[(&#x27;scaler&#x27;, StandardScaler()),\n",
              "                                       (&#x27;perceptron&#x27;, Perceptron())]),\n",
              "             n_jobs=-1,\n",
              "             param_grid=[{&#x27;perceptron__alpha&#x27;: [0.0001, 0.001, 0.01, 1],\n",
              "                          &#x27;perceptron__penalty&#x27;: [&#x27;l2&#x27;, &#x27;l1&#x27;],\n",
              "                          &#x27;scaler&#x27;: [None, StandardScaler()]},\n",
              "                         {&#x27;perceptron__alpha&#x27;: [0.0001, 0.001, 0.01, 1],\n",
              "                          &#x27;perceptron__l1_ratio&#x27;: [0.2, 0.5],\n",
              "                          &#x27;perceptron__penalty&#x27;: [&#x27;elasticnet&#x27;],\n",
              "                          &#x27;scaler&#x27;: [None, StandardScaler()]}])</pre></div></div></div><div class=\"sk-parallel\"><div class=\"sk-parallel-item\"><div class=\"sk-item\"><div class=\"sk-label-container\"><div class=\"sk-label sk-toggleable\"><input class=\"sk-toggleable__control sk-hidden--visually\" id=\"sk-estimator-id-2\" type=\"checkbox\" ><label for=\"sk-estimator-id-2\" class=\"sk-toggleable__label sk-toggleable__label-arrow\">estimator: Pipeline</label><div class=\"sk-toggleable__content\"><pre>Pipeline(steps=[(&#x27;scaler&#x27;, StandardScaler()), (&#x27;perceptron&#x27;, Perceptron())])</pre></div></div></div><div class=\"sk-serial\"><div class=\"sk-item\"><div class=\"sk-serial\"><div class=\"sk-item\"><div class=\"sk-estimator sk-toggleable\"><input class=\"sk-toggleable__control sk-hidden--visually\" id=\"sk-estimator-id-3\" type=\"checkbox\" ><label for=\"sk-estimator-id-3\" class=\"sk-toggleable__label sk-toggleable__label-arrow\">StandardScaler</label><div class=\"sk-toggleable__content\"><pre>StandardScaler()</pre></div></div></div><div class=\"sk-item\"><div class=\"sk-estimator sk-toggleable\"><input class=\"sk-toggleable__control sk-hidden--visually\" id=\"sk-estimator-id-4\" type=\"checkbox\" ><label for=\"sk-estimator-id-4\" class=\"sk-toggleable__label sk-toggleable__label-arrow\">Perceptron</label><div class=\"sk-toggleable__content\"><pre>Perceptron()</pre></div></div></div></div></div></div></div></div></div></div></div></div>"
            ]
          },
          "metadata": {},
          "execution_count": 25
        }
      ]
    },
    {
      "cell_type": "code",
      "source": [
        "print('Score migliore: {:.4f}%'.format(round(gs_perceptron.best_score_ * 100, 4)))\n",
        "print('\\nParametri migliori:')\n",
        "print(pd.Series(gs_perceptron.best_params_))\n",
        "\n",
        "print('\\nOverfitting: ', model_in_overfitting(gs_perceptron, X_train, X_val, y_train, y_val))"
      ],
      "metadata": {
        "colab": {
          "base_uri": "https://localhost:8080/"
        },
        "id": "nK3ey3NTJe7A",
        "outputId": "edc57073-bf1e-4247-a916-901145033798"
      },
      "execution_count": 26,
      "outputs": [
        {
          "output_type": "stream",
          "name": "stdout",
          "text": [
            "Score migliore: 49.7537%\n",
            "\n",
            "Parametri migliori:\n",
            "perceptron__alpha                  0.001\n",
            "perceptron__l1_ratio                 0.5\n",
            "perceptron__penalty           elasticnet\n",
            "scaler                  StandardScaler()\n",
            "dtype: object\n",
            "\n",
            "Overfitting:  False\n"
          ]
        }
      ]
    },
    {
      "cell_type": "markdown",
      "source": [
        "###Logistic Regression"
      ],
      "metadata": {
        "id": "BDQU5tQzYsaK"
      }
    },
    {
      "cell_type": "markdown",
      "source": [
        "La regressione logistica è un algoritmo di classificazione binaria che utilizza la funzione logistica per calcolare le probabilità di appartenenza delle osservazioni alle classi. A differenza del perceptron, la regressione logistica produce probabilità predette anziché decisioni categoriche"
      ],
      "metadata": {
        "id": "K5WG2epam2A8"
      }
    },
    {
      "cell_type": "code",
      "source": [
        "lr_model = Pipeline([\n",
        "    (\"scaler\", StandardScaler()),\n",
        "    (\"lr\", LogisticRegression(solver=\"saga\", random_state=42))\n",
        "])"
      ],
      "metadata": {
        "id": "5CRlz0RvYuWl"
      },
      "execution_count": 27,
      "outputs": []
    },
    {
      "cell_type": "markdown",
      "source": [
        "Si cercano tramite la gridsearch gli iperparametri ottimali tra quelli che è stato deciso di inserire."
      ],
      "metadata": {
        "id": "EIC0G5YqOPLZ"
      }
    },
    {
      "cell_type": "code",
      "source": [
        "grid = [\n",
        "    {\n",
        "        \"scaler\": [None, StandardScaler()],\n",
        "        \"lr__penalty\": [\"l1\", \"l2\"],\n",
        "        \"lr__C\": [0.1, 1, 3, 5, 10]\n",
        "    },\n",
        "    {\n",
        "        \"scaler\": [None, StandardScaler()],\n",
        "        \"lr__penalty\": [\"elasticnet\"],\n",
        "        \"lr__C\": [0.1, 1, 3, 5, 10],\n",
        "        \"lr__l1_ratio\": [0.2, 0.5]\n",
        "    }\n",
        "]"
      ],
      "metadata": {
        "id": "vRQAYhBEOhMg"
      },
      "execution_count": 28,
      "outputs": []
    },
    {
      "cell_type": "code",
      "source": [
        "gs_lr = GridSearchCV(lr_model, param_grid=grid, cv=5, n_jobs=-1)"
      ],
      "metadata": {
        "id": "aIm1BgcKY39h"
      },
      "execution_count": 29,
      "outputs": []
    },
    {
      "cell_type": "code",
      "source": [
        "gs_lr.fit(X_train, y_train)"
      ],
      "metadata": {
        "colab": {
          "base_uri": "https://localhost:8080/",
          "height": 151
        },
        "id": "E4-JppgSZGP0",
        "outputId": "ca24da84-88b0-4471-c0b0-c2c15128a28b",
        "collapsed": true
      },
      "execution_count": 30,
      "outputs": [
        {
          "output_type": "execute_result",
          "data": {
            "text/plain": [
              "GridSearchCV(cv=5,\n",
              "             estimator=Pipeline(steps=[('scaler', StandardScaler()),\n",
              "                                       ('lr',\n",
              "                                        LogisticRegression(random_state=42,\n",
              "                                                           solver='saga'))]),\n",
              "             n_jobs=-1,\n",
              "             param_grid=[{'lr__C': [0.1, 1, 3, 5, 10],\n",
              "                          'lr__penalty': ['l1', 'l2'],\n",
              "                          'scaler': [None, StandardScaler()]},\n",
              "                         {'lr__C': [0.1, 1, 3, 5, 10],\n",
              "                          'lr__l1_ratio': [0.2, 0.5],\n",
              "                          'lr__penalty': ['elasticnet'],\n",
              "                          'scaler': [None, StandardScaler()]}])"
            ],
            "text/html": [
              "<style>#sk-container-id-2 {color: black;background-color: white;}#sk-container-id-2 pre{padding: 0;}#sk-container-id-2 div.sk-toggleable {background-color: white;}#sk-container-id-2 label.sk-toggleable__label {cursor: pointer;display: block;width: 100%;margin-bottom: 0;padding: 0.3em;box-sizing: border-box;text-align: center;}#sk-container-id-2 label.sk-toggleable__label-arrow:before {content: \"▸\";float: left;margin-right: 0.25em;color: #696969;}#sk-container-id-2 label.sk-toggleable__label-arrow:hover:before {color: black;}#sk-container-id-2 div.sk-estimator:hover label.sk-toggleable__label-arrow:before {color: black;}#sk-container-id-2 div.sk-toggleable__content {max-height: 0;max-width: 0;overflow: hidden;text-align: left;background-color: #f0f8ff;}#sk-container-id-2 div.sk-toggleable__content pre {margin: 0.2em;color: black;border-radius: 0.25em;background-color: #f0f8ff;}#sk-container-id-2 input.sk-toggleable__control:checked~div.sk-toggleable__content {max-height: 200px;max-width: 100%;overflow: auto;}#sk-container-id-2 input.sk-toggleable__control:checked~label.sk-toggleable__label-arrow:before {content: \"▾\";}#sk-container-id-2 div.sk-estimator input.sk-toggleable__control:checked~label.sk-toggleable__label {background-color: #d4ebff;}#sk-container-id-2 div.sk-label input.sk-toggleable__control:checked~label.sk-toggleable__label {background-color: #d4ebff;}#sk-container-id-2 input.sk-hidden--visually {border: 0;clip: rect(1px 1px 1px 1px);clip: rect(1px, 1px, 1px, 1px);height: 1px;margin: -1px;overflow: hidden;padding: 0;position: absolute;width: 1px;}#sk-container-id-2 div.sk-estimator {font-family: monospace;background-color: #f0f8ff;border: 1px dotted black;border-radius: 0.25em;box-sizing: border-box;margin-bottom: 0.5em;}#sk-container-id-2 div.sk-estimator:hover {background-color: #d4ebff;}#sk-container-id-2 div.sk-parallel-item::after {content: \"\";width: 100%;border-bottom: 1px solid gray;flex-grow: 1;}#sk-container-id-2 div.sk-label:hover label.sk-toggleable__label {background-color: #d4ebff;}#sk-container-id-2 div.sk-serial::before {content: \"\";position: absolute;border-left: 1px solid gray;box-sizing: border-box;top: 0;bottom: 0;left: 50%;z-index: 0;}#sk-container-id-2 div.sk-serial {display: flex;flex-direction: column;align-items: center;background-color: white;padding-right: 0.2em;padding-left: 0.2em;position: relative;}#sk-container-id-2 div.sk-item {position: relative;z-index: 1;}#sk-container-id-2 div.sk-parallel {display: flex;align-items: stretch;justify-content: center;background-color: white;position: relative;}#sk-container-id-2 div.sk-item::before, #sk-container-id-2 div.sk-parallel-item::before {content: \"\";position: absolute;border-left: 1px solid gray;box-sizing: border-box;top: 0;bottom: 0;left: 50%;z-index: -1;}#sk-container-id-2 div.sk-parallel-item {display: flex;flex-direction: column;z-index: 1;position: relative;background-color: white;}#sk-container-id-2 div.sk-parallel-item:first-child::after {align-self: flex-end;width: 50%;}#sk-container-id-2 div.sk-parallel-item:last-child::after {align-self: flex-start;width: 50%;}#sk-container-id-2 div.sk-parallel-item:only-child::after {width: 0;}#sk-container-id-2 div.sk-dashed-wrapped {border: 1px dashed gray;margin: 0 0.4em 0.5em 0.4em;box-sizing: border-box;padding-bottom: 0.4em;background-color: white;}#sk-container-id-2 div.sk-label label {font-family: monospace;font-weight: bold;display: inline-block;line-height: 1.2em;}#sk-container-id-2 div.sk-label-container {text-align: center;}#sk-container-id-2 div.sk-container {/* jupyter's `normalize.less` sets `[hidden] { display: none; }` but bootstrap.min.css set `[hidden] { display: none !important; }` so we also need the `!important` here to be able to override the default hidden behavior on the sphinx rendered scikit-learn.org. See: https://github.com/scikit-learn/scikit-learn/issues/21755 */display: inline-block !important;position: relative;}#sk-container-id-2 div.sk-text-repr-fallback {display: none;}</style><div id=\"sk-container-id-2\" class=\"sk-top-container\"><div class=\"sk-text-repr-fallback\"><pre>GridSearchCV(cv=5,\n",
              "             estimator=Pipeline(steps=[(&#x27;scaler&#x27;, StandardScaler()),\n",
              "                                       (&#x27;lr&#x27;,\n",
              "                                        LogisticRegression(random_state=42,\n",
              "                                                           solver=&#x27;saga&#x27;))]),\n",
              "             n_jobs=-1,\n",
              "             param_grid=[{&#x27;lr__C&#x27;: [0.1, 1, 3, 5, 10],\n",
              "                          &#x27;lr__penalty&#x27;: [&#x27;l1&#x27;, &#x27;l2&#x27;],\n",
              "                          &#x27;scaler&#x27;: [None, StandardScaler()]},\n",
              "                         {&#x27;lr__C&#x27;: [0.1, 1, 3, 5, 10],\n",
              "                          &#x27;lr__l1_ratio&#x27;: [0.2, 0.5],\n",
              "                          &#x27;lr__penalty&#x27;: [&#x27;elasticnet&#x27;],\n",
              "                          &#x27;scaler&#x27;: [None, StandardScaler()]}])</pre><b>In a Jupyter environment, please rerun this cell to show the HTML representation or trust the notebook. <br />On GitHub, the HTML representation is unable to render, please try loading this page with nbviewer.org.</b></div><div class=\"sk-container\" hidden><div class=\"sk-item sk-dashed-wrapped\"><div class=\"sk-label-container\"><div class=\"sk-label sk-toggleable\"><input class=\"sk-toggleable__control sk-hidden--visually\" id=\"sk-estimator-id-5\" type=\"checkbox\" ><label for=\"sk-estimator-id-5\" class=\"sk-toggleable__label sk-toggleable__label-arrow\">GridSearchCV</label><div class=\"sk-toggleable__content\"><pre>GridSearchCV(cv=5,\n",
              "             estimator=Pipeline(steps=[(&#x27;scaler&#x27;, StandardScaler()),\n",
              "                                       (&#x27;lr&#x27;,\n",
              "                                        LogisticRegression(random_state=42,\n",
              "                                                           solver=&#x27;saga&#x27;))]),\n",
              "             n_jobs=-1,\n",
              "             param_grid=[{&#x27;lr__C&#x27;: [0.1, 1, 3, 5, 10],\n",
              "                          &#x27;lr__penalty&#x27;: [&#x27;l1&#x27;, &#x27;l2&#x27;],\n",
              "                          &#x27;scaler&#x27;: [None, StandardScaler()]},\n",
              "                         {&#x27;lr__C&#x27;: [0.1, 1, 3, 5, 10],\n",
              "                          &#x27;lr__l1_ratio&#x27;: [0.2, 0.5],\n",
              "                          &#x27;lr__penalty&#x27;: [&#x27;elasticnet&#x27;],\n",
              "                          &#x27;scaler&#x27;: [None, StandardScaler()]}])</pre></div></div></div><div class=\"sk-parallel\"><div class=\"sk-parallel-item\"><div class=\"sk-item\"><div class=\"sk-label-container\"><div class=\"sk-label sk-toggleable\"><input class=\"sk-toggleable__control sk-hidden--visually\" id=\"sk-estimator-id-6\" type=\"checkbox\" ><label for=\"sk-estimator-id-6\" class=\"sk-toggleable__label sk-toggleable__label-arrow\">estimator: Pipeline</label><div class=\"sk-toggleable__content\"><pre>Pipeline(steps=[(&#x27;scaler&#x27;, StandardScaler()),\n",
              "                (&#x27;lr&#x27;, LogisticRegression(random_state=42, solver=&#x27;saga&#x27;))])</pre></div></div></div><div class=\"sk-serial\"><div class=\"sk-item\"><div class=\"sk-serial\"><div class=\"sk-item\"><div class=\"sk-estimator sk-toggleable\"><input class=\"sk-toggleable__control sk-hidden--visually\" id=\"sk-estimator-id-7\" type=\"checkbox\" ><label for=\"sk-estimator-id-7\" class=\"sk-toggleable__label sk-toggleable__label-arrow\">StandardScaler</label><div class=\"sk-toggleable__content\"><pre>StandardScaler()</pre></div></div></div><div class=\"sk-item\"><div class=\"sk-estimator sk-toggleable\"><input class=\"sk-toggleable__control sk-hidden--visually\" id=\"sk-estimator-id-8\" type=\"checkbox\" ><label for=\"sk-estimator-id-8\" class=\"sk-toggleable__label sk-toggleable__label-arrow\">LogisticRegression</label><div class=\"sk-toggleable__content\"><pre>LogisticRegression(random_state=42, solver=&#x27;saga&#x27;)</pre></div></div></div></div></div></div></div></div></div></div></div></div>"
            ]
          },
          "metadata": {},
          "execution_count": 30
        }
      ]
    },
    {
      "cell_type": "code",
      "source": [
        "print('Score migliore: {:.4f}%'.format(round(gs_lr.best_score_ * 100, 4)))\n",
        "print('\\nParametri migliori:')\n",
        "print(pd.Series(gs_lr.best_params_))\n",
        "print('\\nOverfitting: ', model_in_overfitting(gs_lr, X_train, X_val, y_train, y_val))"
      ],
      "metadata": {
        "id": "_9B1sPDBZVt6",
        "colab": {
          "base_uri": "https://localhost:8080/"
        },
        "outputId": "457a3b19-2c15-44d5-8a55-456d4cb20067"
      },
      "execution_count": 31,
      "outputs": [
        {
          "output_type": "stream",
          "name": "stdout",
          "text": [
            "Score migliore: 57.7043%\n",
            "\n",
            "Parametri migliori:\n",
            "lr__C                       0.1\n",
            "lr__penalty                  l2\n",
            "scaler         StandardScaler()\n",
            "dtype: object\n",
            "\n",
            "Overfitting:  False\n"
          ]
        }
      ]
    },
    {
      "cell_type": "markdown",
      "source": [
        "###SVM"
      ],
      "metadata": {
        "id": "YnbBhYH0fnfX"
      }
    },
    {
      "cell_type": "markdown",
      "source": [
        "Il Support Vector Machines è un modello che sfrutta i Support Vector, ovvero quegli elementi che sono situati ai \"bordi\" dei confini della propria classe, permettendo all'algoritmo di ricercare l'iperpiano che massima la distanza da sè stesso e due diverse classi."
      ],
      "metadata": {
        "id": "ZcVYAQ-4q7kM"
      }
    },
    {
      "cell_type": "code",
      "source": [
        "svm_model = Pipeline([\n",
        "    (\"std\", StandardScaler()),\n",
        "    (\"svm\", SVC())\n",
        "])"
      ],
      "metadata": {
        "id": "Obh6MwDMfpOk"
      },
      "execution_count": 32,
      "outputs": []
    },
    {
      "cell_type": "markdown",
      "source": [
        "Si cercano tramite la gridsearch gli iperparametri ottimali tra quelli che è stato deciso di inserire."
      ],
      "metadata": {
        "id": "wXc0WoFKnAlX"
      }
    },
    {
      "cell_type": "code",
      "source": [
        "grid = {\n",
        "    \"svm__gamma\" : [0.1, 1, 5],\n",
        "    \"svm__C\" : [1, 5],\n",
        "    \"svm__kernel\" : ['rbf']\n",
        "}"
      ],
      "metadata": {
        "id": "d9rYiFWpgp32"
      },
      "execution_count": 33,
      "outputs": []
    },
    {
      "cell_type": "code",
      "source": [
        "gs_svm = GridSearchCV(svm_model, param_grid=grid, cv=5, n_jobs=-1)"
      ],
      "metadata": {
        "id": "hyGkQVIthab4"
      },
      "execution_count": 34,
      "outputs": []
    },
    {
      "cell_type": "code",
      "source": [
        "gs_svm.fit(X_train, y_train)"
      ],
      "metadata": {
        "colab": {
          "base_uri": "https://localhost:8080/",
          "height": 151
        },
        "collapsed": true,
        "id": "vSosSpj_XfT9",
        "outputId": "712b0b43-0b10-434a-a416-8049d972ba43"
      },
      "execution_count": 35,
      "outputs": [
        {
          "output_type": "execute_result",
          "data": {
            "text/plain": [
              "GridSearchCV(cv=5,\n",
              "             estimator=Pipeline(steps=[('std', StandardScaler()),\n",
              "                                       ('svm', SVC())]),\n",
              "             n_jobs=-1,\n",
              "             param_grid={'svm__C': [1, 5], 'svm__gamma': [0.1, 1, 5],\n",
              "                         'svm__kernel': ['rbf']})"
            ],
            "text/html": [
              "<style>#sk-container-id-3 {color: black;background-color: white;}#sk-container-id-3 pre{padding: 0;}#sk-container-id-3 div.sk-toggleable {background-color: white;}#sk-container-id-3 label.sk-toggleable__label {cursor: pointer;display: block;width: 100%;margin-bottom: 0;padding: 0.3em;box-sizing: border-box;text-align: center;}#sk-container-id-3 label.sk-toggleable__label-arrow:before {content: \"▸\";float: left;margin-right: 0.25em;color: #696969;}#sk-container-id-3 label.sk-toggleable__label-arrow:hover:before {color: black;}#sk-container-id-3 div.sk-estimator:hover label.sk-toggleable__label-arrow:before {color: black;}#sk-container-id-3 div.sk-toggleable__content {max-height: 0;max-width: 0;overflow: hidden;text-align: left;background-color: #f0f8ff;}#sk-container-id-3 div.sk-toggleable__content pre {margin: 0.2em;color: black;border-radius: 0.25em;background-color: #f0f8ff;}#sk-container-id-3 input.sk-toggleable__control:checked~div.sk-toggleable__content {max-height: 200px;max-width: 100%;overflow: auto;}#sk-container-id-3 input.sk-toggleable__control:checked~label.sk-toggleable__label-arrow:before {content: \"▾\";}#sk-container-id-3 div.sk-estimator input.sk-toggleable__control:checked~label.sk-toggleable__label {background-color: #d4ebff;}#sk-container-id-3 div.sk-label input.sk-toggleable__control:checked~label.sk-toggleable__label {background-color: #d4ebff;}#sk-container-id-3 input.sk-hidden--visually {border: 0;clip: rect(1px 1px 1px 1px);clip: rect(1px, 1px, 1px, 1px);height: 1px;margin: -1px;overflow: hidden;padding: 0;position: absolute;width: 1px;}#sk-container-id-3 div.sk-estimator {font-family: monospace;background-color: #f0f8ff;border: 1px dotted black;border-radius: 0.25em;box-sizing: border-box;margin-bottom: 0.5em;}#sk-container-id-3 div.sk-estimator:hover {background-color: #d4ebff;}#sk-container-id-3 div.sk-parallel-item::after {content: \"\";width: 100%;border-bottom: 1px solid gray;flex-grow: 1;}#sk-container-id-3 div.sk-label:hover label.sk-toggleable__label {background-color: #d4ebff;}#sk-container-id-3 div.sk-serial::before {content: \"\";position: absolute;border-left: 1px solid gray;box-sizing: border-box;top: 0;bottom: 0;left: 50%;z-index: 0;}#sk-container-id-3 div.sk-serial {display: flex;flex-direction: column;align-items: center;background-color: white;padding-right: 0.2em;padding-left: 0.2em;position: relative;}#sk-container-id-3 div.sk-item {position: relative;z-index: 1;}#sk-container-id-3 div.sk-parallel {display: flex;align-items: stretch;justify-content: center;background-color: white;position: relative;}#sk-container-id-3 div.sk-item::before, #sk-container-id-3 div.sk-parallel-item::before {content: \"\";position: absolute;border-left: 1px solid gray;box-sizing: border-box;top: 0;bottom: 0;left: 50%;z-index: -1;}#sk-container-id-3 div.sk-parallel-item {display: flex;flex-direction: column;z-index: 1;position: relative;background-color: white;}#sk-container-id-3 div.sk-parallel-item:first-child::after {align-self: flex-end;width: 50%;}#sk-container-id-3 div.sk-parallel-item:last-child::after {align-self: flex-start;width: 50%;}#sk-container-id-3 div.sk-parallel-item:only-child::after {width: 0;}#sk-container-id-3 div.sk-dashed-wrapped {border: 1px dashed gray;margin: 0 0.4em 0.5em 0.4em;box-sizing: border-box;padding-bottom: 0.4em;background-color: white;}#sk-container-id-3 div.sk-label label {font-family: monospace;font-weight: bold;display: inline-block;line-height: 1.2em;}#sk-container-id-3 div.sk-label-container {text-align: center;}#sk-container-id-3 div.sk-container {/* jupyter's `normalize.less` sets `[hidden] { display: none; }` but bootstrap.min.css set `[hidden] { display: none !important; }` so we also need the `!important` here to be able to override the default hidden behavior on the sphinx rendered scikit-learn.org. See: https://github.com/scikit-learn/scikit-learn/issues/21755 */display: inline-block !important;position: relative;}#sk-container-id-3 div.sk-text-repr-fallback {display: none;}</style><div id=\"sk-container-id-3\" class=\"sk-top-container\"><div class=\"sk-text-repr-fallback\"><pre>GridSearchCV(cv=5,\n",
              "             estimator=Pipeline(steps=[(&#x27;std&#x27;, StandardScaler()),\n",
              "                                       (&#x27;svm&#x27;, SVC())]),\n",
              "             n_jobs=-1,\n",
              "             param_grid={&#x27;svm__C&#x27;: [1, 5], &#x27;svm__gamma&#x27;: [0.1, 1, 5],\n",
              "                         &#x27;svm__kernel&#x27;: [&#x27;rbf&#x27;]})</pre><b>In a Jupyter environment, please rerun this cell to show the HTML representation or trust the notebook. <br />On GitHub, the HTML representation is unable to render, please try loading this page with nbviewer.org.</b></div><div class=\"sk-container\" hidden><div class=\"sk-item sk-dashed-wrapped\"><div class=\"sk-label-container\"><div class=\"sk-label sk-toggleable\"><input class=\"sk-toggleable__control sk-hidden--visually\" id=\"sk-estimator-id-9\" type=\"checkbox\" ><label for=\"sk-estimator-id-9\" class=\"sk-toggleable__label sk-toggleable__label-arrow\">GridSearchCV</label><div class=\"sk-toggleable__content\"><pre>GridSearchCV(cv=5,\n",
              "             estimator=Pipeline(steps=[(&#x27;std&#x27;, StandardScaler()),\n",
              "                                       (&#x27;svm&#x27;, SVC())]),\n",
              "             n_jobs=-1,\n",
              "             param_grid={&#x27;svm__C&#x27;: [1, 5], &#x27;svm__gamma&#x27;: [0.1, 1, 5],\n",
              "                         &#x27;svm__kernel&#x27;: [&#x27;rbf&#x27;]})</pre></div></div></div><div class=\"sk-parallel\"><div class=\"sk-parallel-item\"><div class=\"sk-item\"><div class=\"sk-label-container\"><div class=\"sk-label sk-toggleable\"><input class=\"sk-toggleable__control sk-hidden--visually\" id=\"sk-estimator-id-10\" type=\"checkbox\" ><label for=\"sk-estimator-id-10\" class=\"sk-toggleable__label sk-toggleable__label-arrow\">estimator: Pipeline</label><div class=\"sk-toggleable__content\"><pre>Pipeline(steps=[(&#x27;std&#x27;, StandardScaler()), (&#x27;svm&#x27;, SVC())])</pre></div></div></div><div class=\"sk-serial\"><div class=\"sk-item\"><div class=\"sk-serial\"><div class=\"sk-item\"><div class=\"sk-estimator sk-toggleable\"><input class=\"sk-toggleable__control sk-hidden--visually\" id=\"sk-estimator-id-11\" type=\"checkbox\" ><label for=\"sk-estimator-id-11\" class=\"sk-toggleable__label sk-toggleable__label-arrow\">StandardScaler</label><div class=\"sk-toggleable__content\"><pre>StandardScaler()</pre></div></div></div><div class=\"sk-item\"><div class=\"sk-estimator sk-toggleable\"><input class=\"sk-toggleable__control sk-hidden--visually\" id=\"sk-estimator-id-12\" type=\"checkbox\" ><label for=\"sk-estimator-id-12\" class=\"sk-toggleable__label sk-toggleable__label-arrow\">SVC</label><div class=\"sk-toggleable__content\"><pre>SVC()</pre></div></div></div></div></div></div></div></div></div></div></div></div>"
            ]
          },
          "metadata": {},
          "execution_count": 35
        }
      ]
    },
    {
      "cell_type": "code",
      "source": [
        "print('Score migliore: {:.4f}%'.format(round(gs_svm.best_score_ * 100, 4)))\n",
        "\n",
        "print('\\nParametri migliori:')\n",
        "print(pd.Series(gs_svm.best_params_))\n",
        "print('\\nOverfitting: ', model_in_overfitting(gs_svm, X_train, X_val, y_train, y_val))"
      ],
      "metadata": {
        "colab": {
          "base_uri": "https://localhost:8080/"
        },
        "id": "f4cYHdkoXrNJ",
        "outputId": "7ed3357f-3f40-4a19-d475-378ea7892e52"
      },
      "execution_count": 36,
      "outputs": [
        {
          "output_type": "stream",
          "name": "stdout",
          "text": [
            "Score migliore: 89.2896%\n",
            "\n",
            "Parametri migliori:\n",
            "svm__C           5\n",
            "svm__gamma       1\n",
            "svm__kernel    rbf\n",
            "dtype: object\n",
            "\n",
            "Overfitting:  True\n"
          ]
        }
      ]
    },
    {
      "cell_type": "markdown",
      "source": [
        "Visto il risultato ottenuto, è stato valutato (in un altro notebook) che la soluzione migliore senza che si registri un caso di overfitting è con gli iperparametri utilizzati nella seguente cella."
      ],
      "metadata": {
        "id": "IunLU57ig_gp"
      }
    },
    {
      "cell_type": "code",
      "source": [
        "svm_no_of = Pipeline([\n",
        "    (\"std\", StandardScaler()),\n",
        "    (\"svm\", SVC(C=1, gamma=0.1, kernel=\"rbf\"))\n",
        "])\n",
        "svm_no_of.fit(X_train, y_train)\n",
        "print('Score: {:.4f}%'.format(round(svm_no_of.score(X_train, y_train) * 100, 4)))\n",
        "print('\\nOverfitting: ', model_in_overfitting(svm_no_of, X_train, X_val, y_train, y_val))"
      ],
      "metadata": {
        "colab": {
          "base_uri": "https://localhost:8080/"
        },
        "collapsed": true,
        "id": "2P4ANYzJXw4G",
        "outputId": "d1546ea7-dd09-4a17-c05d-1e93e6011161"
      },
      "execution_count": 37,
      "outputs": [
        {
          "output_type": "stream",
          "name": "stdout",
          "text": [
            "Score: 86.3555%\n",
            "\n",
            "Overfitting:  False\n"
          ]
        }
      ]
    },
    {
      "cell_type": "markdown",
      "source": [
        "###Albero decisionale\n",
        "\n"
      ],
      "metadata": {
        "id": "Bh7xnre3Xeny"
      }
    },
    {
      "cell_type": "markdown",
      "source": [
        "Un albero decisionale è un algoritmo di apprendimento supervisionato che suddivide iterativamente i dati in gruppi omogenei basandosi su criteri di separazione. Ciascun nodo interno rappresenta una decisione basata su una caratteristica dei dati, mentre le foglie rappresentano le etichette di classificazione."
      ],
      "metadata": {
        "id": "7t60s1KOV9Er"
      }
    },
    {
      "cell_type": "code",
      "source": [
        "tree_model = Pipeline([\n",
        "    (\"scaler\", StandardScaler()),\n",
        "    (\"tree\", DecisionTreeClassifier())\n",
        "])"
      ],
      "metadata": {
        "id": "Oqnpp08gcE30"
      },
      "execution_count": 38,
      "outputs": []
    },
    {
      "cell_type": "markdown",
      "source": [
        "Si cercano tramite la gridsearch gli iperparametri ottimali tra quelli che è stato deciso di inserire."
      ],
      "metadata": {
        "id": "5_0wiCkBnFd_"
      }
    },
    {
      "cell_type": "code",
      "source": [
        "grid = {\n",
        "    \"tree__max_depth\" : [8, 10, 12],\n",
        "    \"tree__min_samples_split\" : [2, 5, 10],\n",
        "    \"tree__min_samples_leaf\": [1, 2, 4],\n",
        "}"
      ],
      "metadata": {
        "id": "wq_1uhKwjw_l"
      },
      "execution_count": 39,
      "outputs": []
    },
    {
      "cell_type": "code",
      "source": [
        "gs_tree = GridSearchCV(tree_model, param_grid=grid, cv=5, n_jobs=-1)"
      ],
      "metadata": {
        "id": "nNUvmWPGjzQV"
      },
      "execution_count": 40,
      "outputs": []
    },
    {
      "cell_type": "code",
      "source": [
        "gs_tree.fit(X_train, y_train)"
      ],
      "metadata": {
        "colab": {
          "base_uri": "https://localhost:8080/",
          "height": 151
        },
        "collapsed": true,
        "id": "Yj1dDULLcudd",
        "outputId": "2199e70e-75ee-4490-ad12-28f861409003"
      },
      "execution_count": 41,
      "outputs": [
        {
          "output_type": "execute_result",
          "data": {
            "text/plain": [
              "GridSearchCV(cv=5,\n",
              "             estimator=Pipeline(steps=[('scaler', StandardScaler()),\n",
              "                                       ('tree', DecisionTreeClassifier())]),\n",
              "             n_jobs=-1,\n",
              "             param_grid={'tree__max_depth': [8, 10, 12],\n",
              "                         'tree__min_samples_leaf': [1, 2, 4],\n",
              "                         'tree__min_samples_split': [2, 5, 10]})"
            ],
            "text/html": [
              "<style>#sk-container-id-4 {color: black;background-color: white;}#sk-container-id-4 pre{padding: 0;}#sk-container-id-4 div.sk-toggleable {background-color: white;}#sk-container-id-4 label.sk-toggleable__label {cursor: pointer;display: block;width: 100%;margin-bottom: 0;padding: 0.3em;box-sizing: border-box;text-align: center;}#sk-container-id-4 label.sk-toggleable__label-arrow:before {content: \"▸\";float: left;margin-right: 0.25em;color: #696969;}#sk-container-id-4 label.sk-toggleable__label-arrow:hover:before {color: black;}#sk-container-id-4 div.sk-estimator:hover label.sk-toggleable__label-arrow:before {color: black;}#sk-container-id-4 div.sk-toggleable__content {max-height: 0;max-width: 0;overflow: hidden;text-align: left;background-color: #f0f8ff;}#sk-container-id-4 div.sk-toggleable__content pre {margin: 0.2em;color: black;border-radius: 0.25em;background-color: #f0f8ff;}#sk-container-id-4 input.sk-toggleable__control:checked~div.sk-toggleable__content {max-height: 200px;max-width: 100%;overflow: auto;}#sk-container-id-4 input.sk-toggleable__control:checked~label.sk-toggleable__label-arrow:before {content: \"▾\";}#sk-container-id-4 div.sk-estimator input.sk-toggleable__control:checked~label.sk-toggleable__label {background-color: #d4ebff;}#sk-container-id-4 div.sk-label input.sk-toggleable__control:checked~label.sk-toggleable__label {background-color: #d4ebff;}#sk-container-id-4 input.sk-hidden--visually {border: 0;clip: rect(1px 1px 1px 1px);clip: rect(1px, 1px, 1px, 1px);height: 1px;margin: -1px;overflow: hidden;padding: 0;position: absolute;width: 1px;}#sk-container-id-4 div.sk-estimator {font-family: monospace;background-color: #f0f8ff;border: 1px dotted black;border-radius: 0.25em;box-sizing: border-box;margin-bottom: 0.5em;}#sk-container-id-4 div.sk-estimator:hover {background-color: #d4ebff;}#sk-container-id-4 div.sk-parallel-item::after {content: \"\";width: 100%;border-bottom: 1px solid gray;flex-grow: 1;}#sk-container-id-4 div.sk-label:hover label.sk-toggleable__label {background-color: #d4ebff;}#sk-container-id-4 div.sk-serial::before {content: \"\";position: absolute;border-left: 1px solid gray;box-sizing: border-box;top: 0;bottom: 0;left: 50%;z-index: 0;}#sk-container-id-4 div.sk-serial {display: flex;flex-direction: column;align-items: center;background-color: white;padding-right: 0.2em;padding-left: 0.2em;position: relative;}#sk-container-id-4 div.sk-item {position: relative;z-index: 1;}#sk-container-id-4 div.sk-parallel {display: flex;align-items: stretch;justify-content: center;background-color: white;position: relative;}#sk-container-id-4 div.sk-item::before, #sk-container-id-4 div.sk-parallel-item::before {content: \"\";position: absolute;border-left: 1px solid gray;box-sizing: border-box;top: 0;bottom: 0;left: 50%;z-index: -1;}#sk-container-id-4 div.sk-parallel-item {display: flex;flex-direction: column;z-index: 1;position: relative;background-color: white;}#sk-container-id-4 div.sk-parallel-item:first-child::after {align-self: flex-end;width: 50%;}#sk-container-id-4 div.sk-parallel-item:last-child::after {align-self: flex-start;width: 50%;}#sk-container-id-4 div.sk-parallel-item:only-child::after {width: 0;}#sk-container-id-4 div.sk-dashed-wrapped {border: 1px dashed gray;margin: 0 0.4em 0.5em 0.4em;box-sizing: border-box;padding-bottom: 0.4em;background-color: white;}#sk-container-id-4 div.sk-label label {font-family: monospace;font-weight: bold;display: inline-block;line-height: 1.2em;}#sk-container-id-4 div.sk-label-container {text-align: center;}#sk-container-id-4 div.sk-container {/* jupyter's `normalize.less` sets `[hidden] { display: none; }` but bootstrap.min.css set `[hidden] { display: none !important; }` so we also need the `!important` here to be able to override the default hidden behavior on the sphinx rendered scikit-learn.org. See: https://github.com/scikit-learn/scikit-learn/issues/21755 */display: inline-block !important;position: relative;}#sk-container-id-4 div.sk-text-repr-fallback {display: none;}</style><div id=\"sk-container-id-4\" class=\"sk-top-container\"><div class=\"sk-text-repr-fallback\"><pre>GridSearchCV(cv=5,\n",
              "             estimator=Pipeline(steps=[(&#x27;scaler&#x27;, StandardScaler()),\n",
              "                                       (&#x27;tree&#x27;, DecisionTreeClassifier())]),\n",
              "             n_jobs=-1,\n",
              "             param_grid={&#x27;tree__max_depth&#x27;: [8, 10, 12],\n",
              "                         &#x27;tree__min_samples_leaf&#x27;: [1, 2, 4],\n",
              "                         &#x27;tree__min_samples_split&#x27;: [2, 5, 10]})</pre><b>In a Jupyter environment, please rerun this cell to show the HTML representation or trust the notebook. <br />On GitHub, the HTML representation is unable to render, please try loading this page with nbviewer.org.</b></div><div class=\"sk-container\" hidden><div class=\"sk-item sk-dashed-wrapped\"><div class=\"sk-label-container\"><div class=\"sk-label sk-toggleable\"><input class=\"sk-toggleable__control sk-hidden--visually\" id=\"sk-estimator-id-13\" type=\"checkbox\" ><label for=\"sk-estimator-id-13\" class=\"sk-toggleable__label sk-toggleable__label-arrow\">GridSearchCV</label><div class=\"sk-toggleable__content\"><pre>GridSearchCV(cv=5,\n",
              "             estimator=Pipeline(steps=[(&#x27;scaler&#x27;, StandardScaler()),\n",
              "                                       (&#x27;tree&#x27;, DecisionTreeClassifier())]),\n",
              "             n_jobs=-1,\n",
              "             param_grid={&#x27;tree__max_depth&#x27;: [8, 10, 12],\n",
              "                         &#x27;tree__min_samples_leaf&#x27;: [1, 2, 4],\n",
              "                         &#x27;tree__min_samples_split&#x27;: [2, 5, 10]})</pre></div></div></div><div class=\"sk-parallel\"><div class=\"sk-parallel-item\"><div class=\"sk-item\"><div class=\"sk-label-container\"><div class=\"sk-label sk-toggleable\"><input class=\"sk-toggleable__control sk-hidden--visually\" id=\"sk-estimator-id-14\" type=\"checkbox\" ><label for=\"sk-estimator-id-14\" class=\"sk-toggleable__label sk-toggleable__label-arrow\">estimator: Pipeline</label><div class=\"sk-toggleable__content\"><pre>Pipeline(steps=[(&#x27;scaler&#x27;, StandardScaler()),\n",
              "                (&#x27;tree&#x27;, DecisionTreeClassifier())])</pre></div></div></div><div class=\"sk-serial\"><div class=\"sk-item\"><div class=\"sk-serial\"><div class=\"sk-item\"><div class=\"sk-estimator sk-toggleable\"><input class=\"sk-toggleable__control sk-hidden--visually\" id=\"sk-estimator-id-15\" type=\"checkbox\" ><label for=\"sk-estimator-id-15\" class=\"sk-toggleable__label sk-toggleable__label-arrow\">StandardScaler</label><div class=\"sk-toggleable__content\"><pre>StandardScaler()</pre></div></div></div><div class=\"sk-item\"><div class=\"sk-estimator sk-toggleable\"><input class=\"sk-toggleable__control sk-hidden--visually\" id=\"sk-estimator-id-16\" type=\"checkbox\" ><label for=\"sk-estimator-id-16\" class=\"sk-toggleable__label sk-toggleable__label-arrow\">DecisionTreeClassifier</label><div class=\"sk-toggleable__content\"><pre>DecisionTreeClassifier()</pre></div></div></div></div></div></div></div></div></div></div></div></div>"
            ]
          },
          "metadata": {},
          "execution_count": 41
        }
      ]
    },
    {
      "cell_type": "code",
      "source": [
        "print('Score migliore: {:.4f}%'.format(round(gs_tree.best_score_ * 100, 4)))\n",
        "print('\\nParametri migliori:')\n",
        "print(pd.Series(gs_tree.best_params_))\n",
        "print('\\nOverfitting: ', model_in_overfitting(gs_tree, X_train, X_val, y_train, y_val))"
      ],
      "metadata": {
        "colab": {
          "base_uri": "https://localhost:8080/"
        },
        "id": "FPKLfSXikY3U",
        "outputId": "88f871f8-c4ee-40a4-da61-9d886aa13e0d"
      },
      "execution_count": 42,
      "outputs": [
        {
          "output_type": "stream",
          "name": "stdout",
          "text": [
            "Score migliore: 84.6575%\n",
            "\n",
            "Parametri migliori:\n",
            "tree__max_depth            12\n",
            "tree__min_samples_leaf      1\n",
            "tree__min_samples_split     2\n",
            "dtype: int64\n",
            "\n",
            "Overfitting:  False\n"
          ]
        }
      ]
    },
    {
      "cell_type": "markdown",
      "source": [
        "###LightGBM"
      ],
      "metadata": {
        "id": "mxvhqTgLXdNb"
      }
    },
    {
      "cell_type": "markdown",
      "source": [
        "LightGBM è un'implementazione efficiente e scalabile di alberi decisionali potenziata dal gradient boosting framework. Si basa su una strategia di apprendimento basata su gradienti, costruendo alberi decisionali in modo incrementale e concentrandosi sui campioni più difficili da classificare o da predire. Ciò rende LightGBM particolarmente adatto per grandi dataset e problemi complessi."
      ],
      "metadata": {
        "id": "YYkBPsGRV_pc"
      }
    },
    {
      "cell_type": "code",
      "source": [
        "lgbm_model = Pipeline([\n",
        "    (\"scaler\", StandardScaler()),\n",
        "    (\"lgbm\", LGBMClassifier(objective='multiclass',num_class=3, max_depth=15))\n",
        "])"
      ],
      "metadata": {
        "id": "A5-v7J8qhaRa"
      },
      "execution_count": 43,
      "outputs": []
    },
    {
      "cell_type": "markdown",
      "source": [
        "Si cercano tramite la gridsearch gli iperparametri ottimali tra quelli che è stato deciso di inserire."
      ],
      "metadata": {
        "id": "iLinRws1nG1P"
      }
    },
    {
      "cell_type": "code",
      "source": [
        "grid = {\n",
        "    \"lgbm__learning_rate\":[0.05, 0.01],\n",
        "    \"lgbm__subsample\": [0.8, 1.0],\n",
        "    \"lgbm__boosting_type\" : [\"gbdt\"],\n",
        "}"
      ],
      "metadata": {
        "id": "wT0530caypud"
      },
      "execution_count": 44,
      "outputs": []
    },
    {
      "cell_type": "code",
      "source": [
        "gs_lgbm = GridSearchCV(lgbm_model, param_grid=grid, cv=5, n_jobs=-1)"
      ],
      "metadata": {
        "id": "OMTL9MPazgg6"
      },
      "execution_count": 45,
      "outputs": []
    },
    {
      "cell_type": "code",
      "source": [
        "gs_lgbm.fit(X_train, y_train)"
      ],
      "metadata": {
        "colab": {
          "base_uri": "https://localhost:8080/",
          "height": 333
        },
        "collapsed": true,
        "id": "RXKorYigzmjp",
        "outputId": "f6991d0b-cc36-48d1-ab4c-c9b958f5e060"
      },
      "execution_count": 46,
      "outputs": [
        {
          "output_type": "stream",
          "name": "stdout",
          "text": [
            "[LightGBM] [Info] Auto-choosing row-wise multi-threading, the overhead of testing was 0.001759 seconds.\n",
            "You can set `force_row_wise=true` to remove the overhead.\n",
            "And if memory is not enough, you can set `force_col_wise=true`.\n",
            "[LightGBM] [Info] Total Bins 1572\n",
            "[LightGBM] [Info] Number of data points in the train set: 16666, number of used features: 18\n",
            "[LightGBM] [Info] Start training from score -1.108441\n",
            "[LightGBM] [Info] Start training from score -1.094540\n",
            "[LightGBM] [Info] Start training from score -1.092928\n"
          ]
        },
        {
          "output_type": "execute_result",
          "data": {
            "text/plain": [
              "GridSearchCV(cv=5,\n",
              "             estimator=Pipeline(steps=[('scaler', StandardScaler()),\n",
              "                                       ('lgbm',\n",
              "                                        LGBMClassifier(max_depth=15,\n",
              "                                                       num_class=3,\n",
              "                                                       objective='multiclass'))]),\n",
              "             n_jobs=-1,\n",
              "             param_grid={'lgbm__boosting_type': ['gbdt'],\n",
              "                         'lgbm__learning_rate': [0.05, 0.01],\n",
              "                         'lgbm__subsample': [0.8, 1.0]})"
            ],
            "text/html": [
              "<style>#sk-container-id-5 {color: black;background-color: white;}#sk-container-id-5 pre{padding: 0;}#sk-container-id-5 div.sk-toggleable {background-color: white;}#sk-container-id-5 label.sk-toggleable__label {cursor: pointer;display: block;width: 100%;margin-bottom: 0;padding: 0.3em;box-sizing: border-box;text-align: center;}#sk-container-id-5 label.sk-toggleable__label-arrow:before {content: \"▸\";float: left;margin-right: 0.25em;color: #696969;}#sk-container-id-5 label.sk-toggleable__label-arrow:hover:before {color: black;}#sk-container-id-5 div.sk-estimator:hover label.sk-toggleable__label-arrow:before {color: black;}#sk-container-id-5 div.sk-toggleable__content {max-height: 0;max-width: 0;overflow: hidden;text-align: left;background-color: #f0f8ff;}#sk-container-id-5 div.sk-toggleable__content pre {margin: 0.2em;color: black;border-radius: 0.25em;background-color: #f0f8ff;}#sk-container-id-5 input.sk-toggleable__control:checked~div.sk-toggleable__content {max-height: 200px;max-width: 100%;overflow: auto;}#sk-container-id-5 input.sk-toggleable__control:checked~label.sk-toggleable__label-arrow:before {content: \"▾\";}#sk-container-id-5 div.sk-estimator input.sk-toggleable__control:checked~label.sk-toggleable__label {background-color: #d4ebff;}#sk-container-id-5 div.sk-label input.sk-toggleable__control:checked~label.sk-toggleable__label {background-color: #d4ebff;}#sk-container-id-5 input.sk-hidden--visually {border: 0;clip: rect(1px 1px 1px 1px);clip: rect(1px, 1px, 1px, 1px);height: 1px;margin: -1px;overflow: hidden;padding: 0;position: absolute;width: 1px;}#sk-container-id-5 div.sk-estimator {font-family: monospace;background-color: #f0f8ff;border: 1px dotted black;border-radius: 0.25em;box-sizing: border-box;margin-bottom: 0.5em;}#sk-container-id-5 div.sk-estimator:hover {background-color: #d4ebff;}#sk-container-id-5 div.sk-parallel-item::after {content: \"\";width: 100%;border-bottom: 1px solid gray;flex-grow: 1;}#sk-container-id-5 div.sk-label:hover label.sk-toggleable__label {background-color: #d4ebff;}#sk-container-id-5 div.sk-serial::before {content: \"\";position: absolute;border-left: 1px solid gray;box-sizing: border-box;top: 0;bottom: 0;left: 50%;z-index: 0;}#sk-container-id-5 div.sk-serial {display: flex;flex-direction: column;align-items: center;background-color: white;padding-right: 0.2em;padding-left: 0.2em;position: relative;}#sk-container-id-5 div.sk-item {position: relative;z-index: 1;}#sk-container-id-5 div.sk-parallel {display: flex;align-items: stretch;justify-content: center;background-color: white;position: relative;}#sk-container-id-5 div.sk-item::before, #sk-container-id-5 div.sk-parallel-item::before {content: \"\";position: absolute;border-left: 1px solid gray;box-sizing: border-box;top: 0;bottom: 0;left: 50%;z-index: -1;}#sk-container-id-5 div.sk-parallel-item {display: flex;flex-direction: column;z-index: 1;position: relative;background-color: white;}#sk-container-id-5 div.sk-parallel-item:first-child::after {align-self: flex-end;width: 50%;}#sk-container-id-5 div.sk-parallel-item:last-child::after {align-self: flex-start;width: 50%;}#sk-container-id-5 div.sk-parallel-item:only-child::after {width: 0;}#sk-container-id-5 div.sk-dashed-wrapped {border: 1px dashed gray;margin: 0 0.4em 0.5em 0.4em;box-sizing: border-box;padding-bottom: 0.4em;background-color: white;}#sk-container-id-5 div.sk-label label {font-family: monospace;font-weight: bold;display: inline-block;line-height: 1.2em;}#sk-container-id-5 div.sk-label-container {text-align: center;}#sk-container-id-5 div.sk-container {/* jupyter's `normalize.less` sets `[hidden] { display: none; }` but bootstrap.min.css set `[hidden] { display: none !important; }` so we also need the `!important` here to be able to override the default hidden behavior on the sphinx rendered scikit-learn.org. See: https://github.com/scikit-learn/scikit-learn/issues/21755 */display: inline-block !important;position: relative;}#sk-container-id-5 div.sk-text-repr-fallback {display: none;}</style><div id=\"sk-container-id-5\" class=\"sk-top-container\"><div class=\"sk-text-repr-fallback\"><pre>GridSearchCV(cv=5,\n",
              "             estimator=Pipeline(steps=[(&#x27;scaler&#x27;, StandardScaler()),\n",
              "                                       (&#x27;lgbm&#x27;,\n",
              "                                        LGBMClassifier(max_depth=15,\n",
              "                                                       num_class=3,\n",
              "                                                       objective=&#x27;multiclass&#x27;))]),\n",
              "             n_jobs=-1,\n",
              "             param_grid={&#x27;lgbm__boosting_type&#x27;: [&#x27;gbdt&#x27;],\n",
              "                         &#x27;lgbm__learning_rate&#x27;: [0.05, 0.01],\n",
              "                         &#x27;lgbm__subsample&#x27;: [0.8, 1.0]})</pre><b>In a Jupyter environment, please rerun this cell to show the HTML representation or trust the notebook. <br />On GitHub, the HTML representation is unable to render, please try loading this page with nbviewer.org.</b></div><div class=\"sk-container\" hidden><div class=\"sk-item sk-dashed-wrapped\"><div class=\"sk-label-container\"><div class=\"sk-label sk-toggleable\"><input class=\"sk-toggleable__control sk-hidden--visually\" id=\"sk-estimator-id-17\" type=\"checkbox\" ><label for=\"sk-estimator-id-17\" class=\"sk-toggleable__label sk-toggleable__label-arrow\">GridSearchCV</label><div class=\"sk-toggleable__content\"><pre>GridSearchCV(cv=5,\n",
              "             estimator=Pipeline(steps=[(&#x27;scaler&#x27;, StandardScaler()),\n",
              "                                       (&#x27;lgbm&#x27;,\n",
              "                                        LGBMClassifier(max_depth=15,\n",
              "                                                       num_class=3,\n",
              "                                                       objective=&#x27;multiclass&#x27;))]),\n",
              "             n_jobs=-1,\n",
              "             param_grid={&#x27;lgbm__boosting_type&#x27;: [&#x27;gbdt&#x27;],\n",
              "                         &#x27;lgbm__learning_rate&#x27;: [0.05, 0.01],\n",
              "                         &#x27;lgbm__subsample&#x27;: [0.8, 1.0]})</pre></div></div></div><div class=\"sk-parallel\"><div class=\"sk-parallel-item\"><div class=\"sk-item\"><div class=\"sk-label-container\"><div class=\"sk-label sk-toggleable\"><input class=\"sk-toggleable__control sk-hidden--visually\" id=\"sk-estimator-id-18\" type=\"checkbox\" ><label for=\"sk-estimator-id-18\" class=\"sk-toggleable__label sk-toggleable__label-arrow\">estimator: Pipeline</label><div class=\"sk-toggleable__content\"><pre>Pipeline(steps=[(&#x27;scaler&#x27;, StandardScaler()),\n",
              "                (&#x27;lgbm&#x27;,\n",
              "                 LGBMClassifier(max_depth=15, num_class=3,\n",
              "                                objective=&#x27;multiclass&#x27;))])</pre></div></div></div><div class=\"sk-serial\"><div class=\"sk-item\"><div class=\"sk-serial\"><div class=\"sk-item\"><div class=\"sk-estimator sk-toggleable\"><input class=\"sk-toggleable__control sk-hidden--visually\" id=\"sk-estimator-id-19\" type=\"checkbox\" ><label for=\"sk-estimator-id-19\" class=\"sk-toggleable__label sk-toggleable__label-arrow\">StandardScaler</label><div class=\"sk-toggleable__content\"><pre>StandardScaler()</pre></div></div></div><div class=\"sk-item\"><div class=\"sk-estimator sk-toggleable\"><input class=\"sk-toggleable__control sk-hidden--visually\" id=\"sk-estimator-id-20\" type=\"checkbox\" ><label for=\"sk-estimator-id-20\" class=\"sk-toggleable__label sk-toggleable__label-arrow\">LGBMClassifier</label><div class=\"sk-toggleable__content\"><pre>LGBMClassifier(max_depth=15, num_class=3, objective=&#x27;multiclass&#x27;)</pre></div></div></div></div></div></div></div></div></div></div></div></div>"
            ]
          },
          "metadata": {},
          "execution_count": 46
        }
      ]
    },
    {
      "cell_type": "code",
      "source": [
        "print('Score migliore: {:.4f}%'.format(round(gs_lgbm.best_score_ * 100, 4)))\n",
        "print('\\nParametri migliori:')\n",
        "print(pd.Series(gs_lgbm.best_params_))\n",
        "print('\\nOverfitting: ', model_in_overfitting(gs_lgbm, X_train, X_val, y_train, y_val))"
      ],
      "metadata": {
        "id": "LOy-s-3choYJ",
        "colab": {
          "base_uri": "https://localhost:8080/"
        },
        "outputId": "8a31c060-3d16-4768-b71e-3e300e7e24dc"
      },
      "execution_count": 47,
      "outputs": [
        {
          "output_type": "stream",
          "name": "stdout",
          "text": [
            "Score migliore: 93.3697%\n",
            "\n",
            "Parametri migliori:\n",
            "lgbm__boosting_type    gbdt\n",
            "lgbm__learning_rate    0.05\n",
            "lgbm__subsample         0.8\n",
            "dtype: object\n",
            "\n",
            "Overfitting:  False\n"
          ]
        }
      ]
    },
    {
      "cell_type": "markdown",
      "source": [
        "##Valutazione dei modelli"
      ],
      "metadata": {
        "id": "FZCWi48FBbGq"
      }
    },
    {
      "cell_type": "markdown",
      "source": [
        "I modelli vengono ora valutati tramite i seguenti metodi:\n",
        "- Matrice di confusione\n",
        "- Precision, Recall, F1\n",
        "- Intervallo di confidenza\n",
        "- Test di McNemar"
      ],
      "metadata": {
        "id": "gojBFJ0tl_fd"
      }
    },
    {
      "cell_type": "markdown",
      "source": [
        "###Matrice di confusione"
      ],
      "metadata": {
        "id": "lrilGGzRBf2b"
      }
    },
    {
      "cell_type": "markdown",
      "source": [
        "Fornisce una rappresentazione tabellare delle previsioni di un modello rispetto alle vere etichette di classe presenti nei dati di test.\n"
      ],
      "metadata": {
        "id": "pr1AO1sgN9VF"
      }
    },
    {
      "cell_type": "code",
      "source": [
        "def print_confusion_matrix(model, X_val, y_val):\n",
        "    matrix = confusion_matrix(y_val, model.predict(X_val))\n",
        "    display(pd.DataFrame(matrix, index=[1,2,3], columns=[1,2,3]))\n",
        "    return"
      ],
      "metadata": {
        "id": "iaFOAMWiBdTN"
      },
      "execution_count": 48,
      "outputs": []
    },
    {
      "cell_type": "code",
      "source": [
        "BOLD = \"\\033[1m\"\n",
        "END_BOLD = \"\\033[0m\"\n",
        "\n",
        "print(BOLD + \"Perceptron model confusion matrix\" + END_BOLD)\n",
        "print_confusion_matrix(gs_perceptron, X_val, y_val)\n",
        "\n",
        "print(BOLD + \"\\n\\nLogistic Regression model confusion matrix\" + END_BOLD)\n",
        "print_confusion_matrix(gs_lr, X_val, y_val)\n",
        "\n",
        "print(BOLD + \"\\n\\nSVM model confusion matrix\" + END_BOLD)\n",
        "print_confusion_matrix(svm_no_of, X_val, y_val)\n",
        "\n",
        "print(BOLD + \"\\n\\nDecision tree model confusion matrix\" + END_BOLD)\n",
        "print_confusion_matrix(gs_tree, X_val, y_val)\n",
        "\n",
        "print(BOLD + \"\\n\\nLightGBM model confusion matrix\" + END_BOLD)\n",
        "print_confusion_matrix(gs_lgbm, X_val, y_val)"
      ],
      "metadata": {
        "id": "H1q8qSARCrs7",
        "colab": {
          "base_uri": "https://localhost:8080/",
          "height": 902
        },
        "outputId": "fb0da75a-94b7-423e-e634-50d4b5429604"
      },
      "execution_count": 49,
      "outputs": [
        {
          "output_type": "stream",
          "name": "stdout",
          "text": [
            "\u001b[1mPerceptron model confusion matrix\u001b[0m\n"
          ]
        },
        {
          "output_type": "display_data",
          "data": {
            "text/plain": [
              "     1     2     3\n",
              "1  361  1745   658\n",
              "2  231  1805   827\n",
              "3  109   720  1878"
            ],
            "text/html": [
              "\n",
              "  <div id=\"df-604e7d2c-1849-41a7-b868-b185c5444f6d\" class=\"colab-df-container\">\n",
              "    <div>\n",
              "<style scoped>\n",
              "    .dataframe tbody tr th:only-of-type {\n",
              "        vertical-align: middle;\n",
              "    }\n",
              "\n",
              "    .dataframe tbody tr th {\n",
              "        vertical-align: top;\n",
              "    }\n",
              "\n",
              "    .dataframe thead th {\n",
              "        text-align: right;\n",
              "    }\n",
              "</style>\n",
              "<table border=\"1\" class=\"dataframe\">\n",
              "  <thead>\n",
              "    <tr style=\"text-align: right;\">\n",
              "      <th></th>\n",
              "      <th>1</th>\n",
              "      <th>2</th>\n",
              "      <th>3</th>\n",
              "    </tr>\n",
              "  </thead>\n",
              "  <tbody>\n",
              "    <tr>\n",
              "      <th>1</th>\n",
              "      <td>361</td>\n",
              "      <td>1745</td>\n",
              "      <td>658</td>\n",
              "    </tr>\n",
              "    <tr>\n",
              "      <th>2</th>\n",
              "      <td>231</td>\n",
              "      <td>1805</td>\n",
              "      <td>827</td>\n",
              "    </tr>\n",
              "    <tr>\n",
              "      <th>3</th>\n",
              "      <td>109</td>\n",
              "      <td>720</td>\n",
              "      <td>1878</td>\n",
              "    </tr>\n",
              "  </tbody>\n",
              "</table>\n",
              "</div>\n",
              "    <div class=\"colab-df-buttons\">\n",
              "\n",
              "  <div class=\"colab-df-container\">\n",
              "    <button class=\"colab-df-convert\" onclick=\"convertToInteractive('df-604e7d2c-1849-41a7-b868-b185c5444f6d')\"\n",
              "            title=\"Convert this dataframe to an interactive table.\"\n",
              "            style=\"display:none;\">\n",
              "\n",
              "  <svg xmlns=\"http://www.w3.org/2000/svg\" height=\"24px\" viewBox=\"0 -960 960 960\">\n",
              "    <path d=\"M120-120v-720h720v720H120Zm60-500h600v-160H180v160Zm220 220h160v-160H400v160Zm0 220h160v-160H400v160ZM180-400h160v-160H180v160Zm440 0h160v-160H620v160ZM180-180h160v-160H180v160Zm440 0h160v-160H620v160Z\"/>\n",
              "  </svg>\n",
              "    </button>\n",
              "\n",
              "  <style>\n",
              "    .colab-df-container {\n",
              "      display:flex;\n",
              "      gap: 12px;\n",
              "    }\n",
              "\n",
              "    .colab-df-convert {\n",
              "      background-color: #E8F0FE;\n",
              "      border: none;\n",
              "      border-radius: 50%;\n",
              "      cursor: pointer;\n",
              "      display: none;\n",
              "      fill: #1967D2;\n",
              "      height: 32px;\n",
              "      padding: 0 0 0 0;\n",
              "      width: 32px;\n",
              "    }\n",
              "\n",
              "    .colab-df-convert:hover {\n",
              "      background-color: #E2EBFA;\n",
              "      box-shadow: 0px 1px 2px rgba(60, 64, 67, 0.3), 0px 1px 3px 1px rgba(60, 64, 67, 0.15);\n",
              "      fill: #174EA6;\n",
              "    }\n",
              "\n",
              "    .colab-df-buttons div {\n",
              "      margin-bottom: 4px;\n",
              "    }\n",
              "\n",
              "    [theme=dark] .colab-df-convert {\n",
              "      background-color: #3B4455;\n",
              "      fill: #D2E3FC;\n",
              "    }\n",
              "\n",
              "    [theme=dark] .colab-df-convert:hover {\n",
              "      background-color: #434B5C;\n",
              "      box-shadow: 0px 1px 3px 1px rgba(0, 0, 0, 0.15);\n",
              "      filter: drop-shadow(0px 1px 2px rgba(0, 0, 0, 0.3));\n",
              "      fill: #FFFFFF;\n",
              "    }\n",
              "  </style>\n",
              "\n",
              "    <script>\n",
              "      const buttonEl =\n",
              "        document.querySelector('#df-604e7d2c-1849-41a7-b868-b185c5444f6d button.colab-df-convert');\n",
              "      buttonEl.style.display =\n",
              "        google.colab.kernel.accessAllowed ? 'block' : 'none';\n",
              "\n",
              "      async function convertToInteractive(key) {\n",
              "        const element = document.querySelector('#df-604e7d2c-1849-41a7-b868-b185c5444f6d');\n",
              "        const dataTable =\n",
              "          await google.colab.kernel.invokeFunction('convertToInteractive',\n",
              "                                                    [key], {});\n",
              "        if (!dataTable) return;\n",
              "\n",
              "        const docLinkHtml = 'Like what you see? Visit the ' +\n",
              "          '<a target=\"_blank\" href=https://colab.research.google.com/notebooks/data_table.ipynb>data table notebook</a>'\n",
              "          + ' to learn more about interactive tables.';\n",
              "        element.innerHTML = '';\n",
              "        dataTable['output_type'] = 'display_data';\n",
              "        await google.colab.output.renderOutput(dataTable, element);\n",
              "        const docLink = document.createElement('div');\n",
              "        docLink.innerHTML = docLinkHtml;\n",
              "        element.appendChild(docLink);\n",
              "      }\n",
              "    </script>\n",
              "  </div>\n",
              "\n",
              "\n",
              "<div id=\"df-c61b3e22-b36d-4b0c-8668-f34348dc5734\">\n",
              "  <button class=\"colab-df-quickchart\" onclick=\"quickchart('df-c61b3e22-b36d-4b0c-8668-f34348dc5734')\"\n",
              "            title=\"Suggest charts\"\n",
              "            style=\"display:none;\">\n",
              "\n",
              "<svg xmlns=\"http://www.w3.org/2000/svg\" height=\"24px\"viewBox=\"0 0 24 24\"\n",
              "     width=\"24px\">\n",
              "    <g>\n",
              "        <path d=\"M19 3H5c-1.1 0-2 .9-2 2v14c0 1.1.9 2 2 2h14c1.1 0 2-.9 2-2V5c0-1.1-.9-2-2-2zM9 17H7v-7h2v7zm4 0h-2V7h2v10zm4 0h-2v-4h2v4z\"/>\n",
              "    </g>\n",
              "</svg>\n",
              "  </button>\n",
              "\n",
              "<style>\n",
              "  .colab-df-quickchart {\n",
              "      --bg-color: #E8F0FE;\n",
              "      --fill-color: #1967D2;\n",
              "      --hover-bg-color: #E2EBFA;\n",
              "      --hover-fill-color: #174EA6;\n",
              "      --disabled-fill-color: #AAA;\n",
              "      --disabled-bg-color: #DDD;\n",
              "  }\n",
              "\n",
              "  [theme=dark] .colab-df-quickchart {\n",
              "      --bg-color: #3B4455;\n",
              "      --fill-color: #D2E3FC;\n",
              "      --hover-bg-color: #434B5C;\n",
              "      --hover-fill-color: #FFFFFF;\n",
              "      --disabled-bg-color: #3B4455;\n",
              "      --disabled-fill-color: #666;\n",
              "  }\n",
              "\n",
              "  .colab-df-quickchart {\n",
              "    background-color: var(--bg-color);\n",
              "    border: none;\n",
              "    border-radius: 50%;\n",
              "    cursor: pointer;\n",
              "    display: none;\n",
              "    fill: var(--fill-color);\n",
              "    height: 32px;\n",
              "    padding: 0;\n",
              "    width: 32px;\n",
              "  }\n",
              "\n",
              "  .colab-df-quickchart:hover {\n",
              "    background-color: var(--hover-bg-color);\n",
              "    box-shadow: 0 1px 2px rgba(60, 64, 67, 0.3), 0 1px 3px 1px rgba(60, 64, 67, 0.15);\n",
              "    fill: var(--button-hover-fill-color);\n",
              "  }\n",
              "\n",
              "  .colab-df-quickchart-complete:disabled,\n",
              "  .colab-df-quickchart-complete:disabled:hover {\n",
              "    background-color: var(--disabled-bg-color);\n",
              "    fill: var(--disabled-fill-color);\n",
              "    box-shadow: none;\n",
              "  }\n",
              "\n",
              "  .colab-df-spinner {\n",
              "    border: 2px solid var(--fill-color);\n",
              "    border-color: transparent;\n",
              "    border-bottom-color: var(--fill-color);\n",
              "    animation:\n",
              "      spin 1s steps(1) infinite;\n",
              "  }\n",
              "\n",
              "  @keyframes spin {\n",
              "    0% {\n",
              "      border-color: transparent;\n",
              "      border-bottom-color: var(--fill-color);\n",
              "      border-left-color: var(--fill-color);\n",
              "    }\n",
              "    20% {\n",
              "      border-color: transparent;\n",
              "      border-left-color: var(--fill-color);\n",
              "      border-top-color: var(--fill-color);\n",
              "    }\n",
              "    30% {\n",
              "      border-color: transparent;\n",
              "      border-left-color: var(--fill-color);\n",
              "      border-top-color: var(--fill-color);\n",
              "      border-right-color: var(--fill-color);\n",
              "    }\n",
              "    40% {\n",
              "      border-color: transparent;\n",
              "      border-right-color: var(--fill-color);\n",
              "      border-top-color: var(--fill-color);\n",
              "    }\n",
              "    60% {\n",
              "      border-color: transparent;\n",
              "      border-right-color: var(--fill-color);\n",
              "    }\n",
              "    80% {\n",
              "      border-color: transparent;\n",
              "      border-right-color: var(--fill-color);\n",
              "      border-bottom-color: var(--fill-color);\n",
              "    }\n",
              "    90% {\n",
              "      border-color: transparent;\n",
              "      border-bottom-color: var(--fill-color);\n",
              "    }\n",
              "  }\n",
              "</style>\n",
              "\n",
              "  <script>\n",
              "    async function quickchart(key) {\n",
              "      const quickchartButtonEl =\n",
              "        document.querySelector('#' + key + ' button');\n",
              "      quickchartButtonEl.disabled = true;  // To prevent multiple clicks.\n",
              "      quickchartButtonEl.classList.add('colab-df-spinner');\n",
              "      try {\n",
              "        const charts = await google.colab.kernel.invokeFunction(\n",
              "            'suggestCharts', [key], {});\n",
              "      } catch (error) {\n",
              "        console.error('Error during call to suggestCharts:', error);\n",
              "      }\n",
              "      quickchartButtonEl.classList.remove('colab-df-spinner');\n",
              "      quickchartButtonEl.classList.add('colab-df-quickchart-complete');\n",
              "    }\n",
              "    (() => {\n",
              "      let quickchartButtonEl =\n",
              "        document.querySelector('#df-c61b3e22-b36d-4b0c-8668-f34348dc5734 button');\n",
              "      quickchartButtonEl.style.display =\n",
              "        google.colab.kernel.accessAllowed ? 'block' : 'none';\n",
              "    })();\n",
              "  </script>\n",
              "</div>\n",
              "    </div>\n",
              "  </div>\n"
            ],
            "application/vnd.google.colaboratory.intrinsic+json": {
              "type": "dataframe",
              "summary": "{\n  \"name\": \"print_confusion_matrix(gs_lgbm, X_val, y_val)\",\n  \"rows\": 3,\n  \"fields\": [\n    {\n      \"column\": 1,\n      \"properties\": {\n        \"dtype\": \"number\",\n        \"std\": 126,\n        \"min\": 109,\n        \"max\": 361,\n        \"num_unique_values\": 3,\n        \"samples\": [\n          361,\n          231,\n          109\n        ],\n        \"semantic_type\": \"\",\n        \"description\": \"\"\n      }\n    },\n    {\n      \"column\": 2,\n      \"properties\": {\n        \"dtype\": \"number\",\n        \"std\": 609,\n        \"min\": 720,\n        \"max\": 1805,\n        \"num_unique_values\": 3,\n        \"samples\": [\n          1745,\n          1805,\n          720\n        ],\n        \"semantic_type\": \"\",\n        \"description\": \"\"\n      }\n    },\n    {\n      \"column\": 3,\n      \"properties\": {\n        \"dtype\": \"number\",\n        \"std\": 661,\n        \"min\": 658,\n        \"max\": 1878,\n        \"num_unique_values\": 3,\n        \"samples\": [\n          658,\n          827,\n          1878\n        ],\n        \"semantic_type\": \"\",\n        \"description\": \"\"\n      }\n    }\n  ]\n}"
            }
          },
          "metadata": {}
        },
        {
          "output_type": "stream",
          "name": "stdout",
          "text": [
            "\u001b[1m\n",
            "\n",
            "Logistic Regression model confusion matrix\u001b[0m\n"
          ]
        },
        {
          "output_type": "display_data",
          "data": {
            "text/plain": [
              "      1     2     3\n",
              "1  1682   681   401\n",
              "2   963  1281   619\n",
              "3   368   402  1937"
            ],
            "text/html": [
              "\n",
              "  <div id=\"df-c87d376a-e3ae-4f69-85a3-3a4105044288\" class=\"colab-df-container\">\n",
              "    <div>\n",
              "<style scoped>\n",
              "    .dataframe tbody tr th:only-of-type {\n",
              "        vertical-align: middle;\n",
              "    }\n",
              "\n",
              "    .dataframe tbody tr th {\n",
              "        vertical-align: top;\n",
              "    }\n",
              "\n",
              "    .dataframe thead th {\n",
              "        text-align: right;\n",
              "    }\n",
              "</style>\n",
              "<table border=\"1\" class=\"dataframe\">\n",
              "  <thead>\n",
              "    <tr style=\"text-align: right;\">\n",
              "      <th></th>\n",
              "      <th>1</th>\n",
              "      <th>2</th>\n",
              "      <th>3</th>\n",
              "    </tr>\n",
              "  </thead>\n",
              "  <tbody>\n",
              "    <tr>\n",
              "      <th>1</th>\n",
              "      <td>1682</td>\n",
              "      <td>681</td>\n",
              "      <td>401</td>\n",
              "    </tr>\n",
              "    <tr>\n",
              "      <th>2</th>\n",
              "      <td>963</td>\n",
              "      <td>1281</td>\n",
              "      <td>619</td>\n",
              "    </tr>\n",
              "    <tr>\n",
              "      <th>3</th>\n",
              "      <td>368</td>\n",
              "      <td>402</td>\n",
              "      <td>1937</td>\n",
              "    </tr>\n",
              "  </tbody>\n",
              "</table>\n",
              "</div>\n",
              "    <div class=\"colab-df-buttons\">\n",
              "\n",
              "  <div class=\"colab-df-container\">\n",
              "    <button class=\"colab-df-convert\" onclick=\"convertToInteractive('df-c87d376a-e3ae-4f69-85a3-3a4105044288')\"\n",
              "            title=\"Convert this dataframe to an interactive table.\"\n",
              "            style=\"display:none;\">\n",
              "\n",
              "  <svg xmlns=\"http://www.w3.org/2000/svg\" height=\"24px\" viewBox=\"0 -960 960 960\">\n",
              "    <path d=\"M120-120v-720h720v720H120Zm60-500h600v-160H180v160Zm220 220h160v-160H400v160Zm0 220h160v-160H400v160ZM180-400h160v-160H180v160Zm440 0h160v-160H620v160ZM180-180h160v-160H180v160Zm440 0h160v-160H620v160Z\"/>\n",
              "  </svg>\n",
              "    </button>\n",
              "\n",
              "  <style>\n",
              "    .colab-df-container {\n",
              "      display:flex;\n",
              "      gap: 12px;\n",
              "    }\n",
              "\n",
              "    .colab-df-convert {\n",
              "      background-color: #E8F0FE;\n",
              "      border: none;\n",
              "      border-radius: 50%;\n",
              "      cursor: pointer;\n",
              "      display: none;\n",
              "      fill: #1967D2;\n",
              "      height: 32px;\n",
              "      padding: 0 0 0 0;\n",
              "      width: 32px;\n",
              "    }\n",
              "\n",
              "    .colab-df-convert:hover {\n",
              "      background-color: #E2EBFA;\n",
              "      box-shadow: 0px 1px 2px rgba(60, 64, 67, 0.3), 0px 1px 3px 1px rgba(60, 64, 67, 0.15);\n",
              "      fill: #174EA6;\n",
              "    }\n",
              "\n",
              "    .colab-df-buttons div {\n",
              "      margin-bottom: 4px;\n",
              "    }\n",
              "\n",
              "    [theme=dark] .colab-df-convert {\n",
              "      background-color: #3B4455;\n",
              "      fill: #D2E3FC;\n",
              "    }\n",
              "\n",
              "    [theme=dark] .colab-df-convert:hover {\n",
              "      background-color: #434B5C;\n",
              "      box-shadow: 0px 1px 3px 1px rgba(0, 0, 0, 0.15);\n",
              "      filter: drop-shadow(0px 1px 2px rgba(0, 0, 0, 0.3));\n",
              "      fill: #FFFFFF;\n",
              "    }\n",
              "  </style>\n",
              "\n",
              "    <script>\n",
              "      const buttonEl =\n",
              "        document.querySelector('#df-c87d376a-e3ae-4f69-85a3-3a4105044288 button.colab-df-convert');\n",
              "      buttonEl.style.display =\n",
              "        google.colab.kernel.accessAllowed ? 'block' : 'none';\n",
              "\n",
              "      async function convertToInteractive(key) {\n",
              "        const element = document.querySelector('#df-c87d376a-e3ae-4f69-85a3-3a4105044288');\n",
              "        const dataTable =\n",
              "          await google.colab.kernel.invokeFunction('convertToInteractive',\n",
              "                                                    [key], {});\n",
              "        if (!dataTable) return;\n",
              "\n",
              "        const docLinkHtml = 'Like what you see? Visit the ' +\n",
              "          '<a target=\"_blank\" href=https://colab.research.google.com/notebooks/data_table.ipynb>data table notebook</a>'\n",
              "          + ' to learn more about interactive tables.';\n",
              "        element.innerHTML = '';\n",
              "        dataTable['output_type'] = 'display_data';\n",
              "        await google.colab.output.renderOutput(dataTable, element);\n",
              "        const docLink = document.createElement('div');\n",
              "        docLink.innerHTML = docLinkHtml;\n",
              "        element.appendChild(docLink);\n",
              "      }\n",
              "    </script>\n",
              "  </div>\n",
              "\n",
              "\n",
              "<div id=\"df-11d1c022-fa9d-4fec-a5e6-8026b430f3f7\">\n",
              "  <button class=\"colab-df-quickchart\" onclick=\"quickchart('df-11d1c022-fa9d-4fec-a5e6-8026b430f3f7')\"\n",
              "            title=\"Suggest charts\"\n",
              "            style=\"display:none;\">\n",
              "\n",
              "<svg xmlns=\"http://www.w3.org/2000/svg\" height=\"24px\"viewBox=\"0 0 24 24\"\n",
              "     width=\"24px\">\n",
              "    <g>\n",
              "        <path d=\"M19 3H5c-1.1 0-2 .9-2 2v14c0 1.1.9 2 2 2h14c1.1 0 2-.9 2-2V5c0-1.1-.9-2-2-2zM9 17H7v-7h2v7zm4 0h-2V7h2v10zm4 0h-2v-4h2v4z\"/>\n",
              "    </g>\n",
              "</svg>\n",
              "  </button>\n",
              "\n",
              "<style>\n",
              "  .colab-df-quickchart {\n",
              "      --bg-color: #E8F0FE;\n",
              "      --fill-color: #1967D2;\n",
              "      --hover-bg-color: #E2EBFA;\n",
              "      --hover-fill-color: #174EA6;\n",
              "      --disabled-fill-color: #AAA;\n",
              "      --disabled-bg-color: #DDD;\n",
              "  }\n",
              "\n",
              "  [theme=dark] .colab-df-quickchart {\n",
              "      --bg-color: #3B4455;\n",
              "      --fill-color: #D2E3FC;\n",
              "      --hover-bg-color: #434B5C;\n",
              "      --hover-fill-color: #FFFFFF;\n",
              "      --disabled-bg-color: #3B4455;\n",
              "      --disabled-fill-color: #666;\n",
              "  }\n",
              "\n",
              "  .colab-df-quickchart {\n",
              "    background-color: var(--bg-color);\n",
              "    border: none;\n",
              "    border-radius: 50%;\n",
              "    cursor: pointer;\n",
              "    display: none;\n",
              "    fill: var(--fill-color);\n",
              "    height: 32px;\n",
              "    padding: 0;\n",
              "    width: 32px;\n",
              "  }\n",
              "\n",
              "  .colab-df-quickchart:hover {\n",
              "    background-color: var(--hover-bg-color);\n",
              "    box-shadow: 0 1px 2px rgba(60, 64, 67, 0.3), 0 1px 3px 1px rgba(60, 64, 67, 0.15);\n",
              "    fill: var(--button-hover-fill-color);\n",
              "  }\n",
              "\n",
              "  .colab-df-quickchart-complete:disabled,\n",
              "  .colab-df-quickchart-complete:disabled:hover {\n",
              "    background-color: var(--disabled-bg-color);\n",
              "    fill: var(--disabled-fill-color);\n",
              "    box-shadow: none;\n",
              "  }\n",
              "\n",
              "  .colab-df-spinner {\n",
              "    border: 2px solid var(--fill-color);\n",
              "    border-color: transparent;\n",
              "    border-bottom-color: var(--fill-color);\n",
              "    animation:\n",
              "      spin 1s steps(1) infinite;\n",
              "  }\n",
              "\n",
              "  @keyframes spin {\n",
              "    0% {\n",
              "      border-color: transparent;\n",
              "      border-bottom-color: var(--fill-color);\n",
              "      border-left-color: var(--fill-color);\n",
              "    }\n",
              "    20% {\n",
              "      border-color: transparent;\n",
              "      border-left-color: var(--fill-color);\n",
              "      border-top-color: var(--fill-color);\n",
              "    }\n",
              "    30% {\n",
              "      border-color: transparent;\n",
              "      border-left-color: var(--fill-color);\n",
              "      border-top-color: var(--fill-color);\n",
              "      border-right-color: var(--fill-color);\n",
              "    }\n",
              "    40% {\n",
              "      border-color: transparent;\n",
              "      border-right-color: var(--fill-color);\n",
              "      border-top-color: var(--fill-color);\n",
              "    }\n",
              "    60% {\n",
              "      border-color: transparent;\n",
              "      border-right-color: var(--fill-color);\n",
              "    }\n",
              "    80% {\n",
              "      border-color: transparent;\n",
              "      border-right-color: var(--fill-color);\n",
              "      border-bottom-color: var(--fill-color);\n",
              "    }\n",
              "    90% {\n",
              "      border-color: transparent;\n",
              "      border-bottom-color: var(--fill-color);\n",
              "    }\n",
              "  }\n",
              "</style>\n",
              "\n",
              "  <script>\n",
              "    async function quickchart(key) {\n",
              "      const quickchartButtonEl =\n",
              "        document.querySelector('#' + key + ' button');\n",
              "      quickchartButtonEl.disabled = true;  // To prevent multiple clicks.\n",
              "      quickchartButtonEl.classList.add('colab-df-spinner');\n",
              "      try {\n",
              "        const charts = await google.colab.kernel.invokeFunction(\n",
              "            'suggestCharts', [key], {});\n",
              "      } catch (error) {\n",
              "        console.error('Error during call to suggestCharts:', error);\n",
              "      }\n",
              "      quickchartButtonEl.classList.remove('colab-df-spinner');\n",
              "      quickchartButtonEl.classList.add('colab-df-quickchart-complete');\n",
              "    }\n",
              "    (() => {\n",
              "      let quickchartButtonEl =\n",
              "        document.querySelector('#df-11d1c022-fa9d-4fec-a5e6-8026b430f3f7 button');\n",
              "      quickchartButtonEl.style.display =\n",
              "        google.colab.kernel.accessAllowed ? 'block' : 'none';\n",
              "    })();\n",
              "  </script>\n",
              "</div>\n",
              "    </div>\n",
              "  </div>\n"
            ],
            "application/vnd.google.colaboratory.intrinsic+json": {
              "type": "dataframe",
              "summary": "{\n  \"name\": \"print_confusion_matrix(gs_lgbm, X_val, y_val)\",\n  \"rows\": 3,\n  \"fields\": [\n    {\n      \"column\": 1,\n      \"properties\": {\n        \"dtype\": \"number\",\n        \"std\": 657,\n        \"min\": 368,\n        \"max\": 1682,\n        \"num_unique_values\": 3,\n        \"samples\": [\n          1682,\n          963,\n          368\n        ],\n        \"semantic_type\": \"\",\n        \"description\": \"\"\n      }\n    },\n    {\n      \"column\": 2,\n      \"properties\": {\n        \"dtype\": \"number\",\n        \"std\": 449,\n        \"min\": 402,\n        \"max\": 1281,\n        \"num_unique_values\": 3,\n        \"samples\": [\n          681,\n          1281,\n          402\n        ],\n        \"semantic_type\": \"\",\n        \"description\": \"\"\n      }\n    },\n    {\n      \"column\": 3,\n      \"properties\": {\n        \"dtype\": \"number\",\n        \"std\": 831,\n        \"min\": 401,\n        \"max\": 1937,\n        \"num_unique_values\": 3,\n        \"samples\": [\n          401,\n          619,\n          1937\n        ],\n        \"semantic_type\": \"\",\n        \"description\": \"\"\n      }\n    }\n  ]\n}"
            }
          },
          "metadata": {}
        },
        {
          "output_type": "stream",
          "name": "stdout",
          "text": [
            "\u001b[1m\n",
            "\n",
            "SVM model confusion matrix\u001b[0m\n"
          ]
        },
        {
          "output_type": "display_data",
          "data": {
            "text/plain": [
              "      1     2     3\n",
              "1  2274   381   109\n",
              "2   348  2351   164\n",
              "3   171   207  2329"
            ],
            "text/html": [
              "\n",
              "  <div id=\"df-916b2072-7a55-4d5a-abc6-b8d6b8faeb5d\" class=\"colab-df-container\">\n",
              "    <div>\n",
              "<style scoped>\n",
              "    .dataframe tbody tr th:only-of-type {\n",
              "        vertical-align: middle;\n",
              "    }\n",
              "\n",
              "    .dataframe tbody tr th {\n",
              "        vertical-align: top;\n",
              "    }\n",
              "\n",
              "    .dataframe thead th {\n",
              "        text-align: right;\n",
              "    }\n",
              "</style>\n",
              "<table border=\"1\" class=\"dataframe\">\n",
              "  <thead>\n",
              "    <tr style=\"text-align: right;\">\n",
              "      <th></th>\n",
              "      <th>1</th>\n",
              "      <th>2</th>\n",
              "      <th>3</th>\n",
              "    </tr>\n",
              "  </thead>\n",
              "  <tbody>\n",
              "    <tr>\n",
              "      <th>1</th>\n",
              "      <td>2274</td>\n",
              "      <td>381</td>\n",
              "      <td>109</td>\n",
              "    </tr>\n",
              "    <tr>\n",
              "      <th>2</th>\n",
              "      <td>348</td>\n",
              "      <td>2351</td>\n",
              "      <td>164</td>\n",
              "    </tr>\n",
              "    <tr>\n",
              "      <th>3</th>\n",
              "      <td>171</td>\n",
              "      <td>207</td>\n",
              "      <td>2329</td>\n",
              "    </tr>\n",
              "  </tbody>\n",
              "</table>\n",
              "</div>\n",
              "    <div class=\"colab-df-buttons\">\n",
              "\n",
              "  <div class=\"colab-df-container\">\n",
              "    <button class=\"colab-df-convert\" onclick=\"convertToInteractive('df-916b2072-7a55-4d5a-abc6-b8d6b8faeb5d')\"\n",
              "            title=\"Convert this dataframe to an interactive table.\"\n",
              "            style=\"display:none;\">\n",
              "\n",
              "  <svg xmlns=\"http://www.w3.org/2000/svg\" height=\"24px\" viewBox=\"0 -960 960 960\">\n",
              "    <path d=\"M120-120v-720h720v720H120Zm60-500h600v-160H180v160Zm220 220h160v-160H400v160Zm0 220h160v-160H400v160ZM180-400h160v-160H180v160Zm440 0h160v-160H620v160ZM180-180h160v-160H180v160Zm440 0h160v-160H620v160Z\"/>\n",
              "  </svg>\n",
              "    </button>\n",
              "\n",
              "  <style>\n",
              "    .colab-df-container {\n",
              "      display:flex;\n",
              "      gap: 12px;\n",
              "    }\n",
              "\n",
              "    .colab-df-convert {\n",
              "      background-color: #E8F0FE;\n",
              "      border: none;\n",
              "      border-radius: 50%;\n",
              "      cursor: pointer;\n",
              "      display: none;\n",
              "      fill: #1967D2;\n",
              "      height: 32px;\n",
              "      padding: 0 0 0 0;\n",
              "      width: 32px;\n",
              "    }\n",
              "\n",
              "    .colab-df-convert:hover {\n",
              "      background-color: #E2EBFA;\n",
              "      box-shadow: 0px 1px 2px rgba(60, 64, 67, 0.3), 0px 1px 3px 1px rgba(60, 64, 67, 0.15);\n",
              "      fill: #174EA6;\n",
              "    }\n",
              "\n",
              "    .colab-df-buttons div {\n",
              "      margin-bottom: 4px;\n",
              "    }\n",
              "\n",
              "    [theme=dark] .colab-df-convert {\n",
              "      background-color: #3B4455;\n",
              "      fill: #D2E3FC;\n",
              "    }\n",
              "\n",
              "    [theme=dark] .colab-df-convert:hover {\n",
              "      background-color: #434B5C;\n",
              "      box-shadow: 0px 1px 3px 1px rgba(0, 0, 0, 0.15);\n",
              "      filter: drop-shadow(0px 1px 2px rgba(0, 0, 0, 0.3));\n",
              "      fill: #FFFFFF;\n",
              "    }\n",
              "  </style>\n",
              "\n",
              "    <script>\n",
              "      const buttonEl =\n",
              "        document.querySelector('#df-916b2072-7a55-4d5a-abc6-b8d6b8faeb5d button.colab-df-convert');\n",
              "      buttonEl.style.display =\n",
              "        google.colab.kernel.accessAllowed ? 'block' : 'none';\n",
              "\n",
              "      async function convertToInteractive(key) {\n",
              "        const element = document.querySelector('#df-916b2072-7a55-4d5a-abc6-b8d6b8faeb5d');\n",
              "        const dataTable =\n",
              "          await google.colab.kernel.invokeFunction('convertToInteractive',\n",
              "                                                    [key], {});\n",
              "        if (!dataTable) return;\n",
              "\n",
              "        const docLinkHtml = 'Like what you see? Visit the ' +\n",
              "          '<a target=\"_blank\" href=https://colab.research.google.com/notebooks/data_table.ipynb>data table notebook</a>'\n",
              "          + ' to learn more about interactive tables.';\n",
              "        element.innerHTML = '';\n",
              "        dataTable['output_type'] = 'display_data';\n",
              "        await google.colab.output.renderOutput(dataTable, element);\n",
              "        const docLink = document.createElement('div');\n",
              "        docLink.innerHTML = docLinkHtml;\n",
              "        element.appendChild(docLink);\n",
              "      }\n",
              "    </script>\n",
              "  </div>\n",
              "\n",
              "\n",
              "<div id=\"df-7091ddda-3de0-446d-a4ce-3970987179cc\">\n",
              "  <button class=\"colab-df-quickchart\" onclick=\"quickchart('df-7091ddda-3de0-446d-a4ce-3970987179cc')\"\n",
              "            title=\"Suggest charts\"\n",
              "            style=\"display:none;\">\n",
              "\n",
              "<svg xmlns=\"http://www.w3.org/2000/svg\" height=\"24px\"viewBox=\"0 0 24 24\"\n",
              "     width=\"24px\">\n",
              "    <g>\n",
              "        <path d=\"M19 3H5c-1.1 0-2 .9-2 2v14c0 1.1.9 2 2 2h14c1.1 0 2-.9 2-2V5c0-1.1-.9-2-2-2zM9 17H7v-7h2v7zm4 0h-2V7h2v10zm4 0h-2v-4h2v4z\"/>\n",
              "    </g>\n",
              "</svg>\n",
              "  </button>\n",
              "\n",
              "<style>\n",
              "  .colab-df-quickchart {\n",
              "      --bg-color: #E8F0FE;\n",
              "      --fill-color: #1967D2;\n",
              "      --hover-bg-color: #E2EBFA;\n",
              "      --hover-fill-color: #174EA6;\n",
              "      --disabled-fill-color: #AAA;\n",
              "      --disabled-bg-color: #DDD;\n",
              "  }\n",
              "\n",
              "  [theme=dark] .colab-df-quickchart {\n",
              "      --bg-color: #3B4455;\n",
              "      --fill-color: #D2E3FC;\n",
              "      --hover-bg-color: #434B5C;\n",
              "      --hover-fill-color: #FFFFFF;\n",
              "      --disabled-bg-color: #3B4455;\n",
              "      --disabled-fill-color: #666;\n",
              "  }\n",
              "\n",
              "  .colab-df-quickchart {\n",
              "    background-color: var(--bg-color);\n",
              "    border: none;\n",
              "    border-radius: 50%;\n",
              "    cursor: pointer;\n",
              "    display: none;\n",
              "    fill: var(--fill-color);\n",
              "    height: 32px;\n",
              "    padding: 0;\n",
              "    width: 32px;\n",
              "  }\n",
              "\n",
              "  .colab-df-quickchart:hover {\n",
              "    background-color: var(--hover-bg-color);\n",
              "    box-shadow: 0 1px 2px rgba(60, 64, 67, 0.3), 0 1px 3px 1px rgba(60, 64, 67, 0.15);\n",
              "    fill: var(--button-hover-fill-color);\n",
              "  }\n",
              "\n",
              "  .colab-df-quickchart-complete:disabled,\n",
              "  .colab-df-quickchart-complete:disabled:hover {\n",
              "    background-color: var(--disabled-bg-color);\n",
              "    fill: var(--disabled-fill-color);\n",
              "    box-shadow: none;\n",
              "  }\n",
              "\n",
              "  .colab-df-spinner {\n",
              "    border: 2px solid var(--fill-color);\n",
              "    border-color: transparent;\n",
              "    border-bottom-color: var(--fill-color);\n",
              "    animation:\n",
              "      spin 1s steps(1) infinite;\n",
              "  }\n",
              "\n",
              "  @keyframes spin {\n",
              "    0% {\n",
              "      border-color: transparent;\n",
              "      border-bottom-color: var(--fill-color);\n",
              "      border-left-color: var(--fill-color);\n",
              "    }\n",
              "    20% {\n",
              "      border-color: transparent;\n",
              "      border-left-color: var(--fill-color);\n",
              "      border-top-color: var(--fill-color);\n",
              "    }\n",
              "    30% {\n",
              "      border-color: transparent;\n",
              "      border-left-color: var(--fill-color);\n",
              "      border-top-color: var(--fill-color);\n",
              "      border-right-color: var(--fill-color);\n",
              "    }\n",
              "    40% {\n",
              "      border-color: transparent;\n",
              "      border-right-color: var(--fill-color);\n",
              "      border-top-color: var(--fill-color);\n",
              "    }\n",
              "    60% {\n",
              "      border-color: transparent;\n",
              "      border-right-color: var(--fill-color);\n",
              "    }\n",
              "    80% {\n",
              "      border-color: transparent;\n",
              "      border-right-color: var(--fill-color);\n",
              "      border-bottom-color: var(--fill-color);\n",
              "    }\n",
              "    90% {\n",
              "      border-color: transparent;\n",
              "      border-bottom-color: var(--fill-color);\n",
              "    }\n",
              "  }\n",
              "</style>\n",
              "\n",
              "  <script>\n",
              "    async function quickchart(key) {\n",
              "      const quickchartButtonEl =\n",
              "        document.querySelector('#' + key + ' button');\n",
              "      quickchartButtonEl.disabled = true;  // To prevent multiple clicks.\n",
              "      quickchartButtonEl.classList.add('colab-df-spinner');\n",
              "      try {\n",
              "        const charts = await google.colab.kernel.invokeFunction(\n",
              "            'suggestCharts', [key], {});\n",
              "      } catch (error) {\n",
              "        console.error('Error during call to suggestCharts:', error);\n",
              "      }\n",
              "      quickchartButtonEl.classList.remove('colab-df-spinner');\n",
              "      quickchartButtonEl.classList.add('colab-df-quickchart-complete');\n",
              "    }\n",
              "    (() => {\n",
              "      let quickchartButtonEl =\n",
              "        document.querySelector('#df-7091ddda-3de0-446d-a4ce-3970987179cc button');\n",
              "      quickchartButtonEl.style.display =\n",
              "        google.colab.kernel.accessAllowed ? 'block' : 'none';\n",
              "    })();\n",
              "  </script>\n",
              "</div>\n",
              "    </div>\n",
              "  </div>\n"
            ],
            "application/vnd.google.colaboratory.intrinsic+json": {
              "type": "dataframe",
              "summary": "{\n  \"name\": \"print_confusion_matrix(gs_lgbm, X_val, y_val)\",\n  \"rows\": 3,\n  \"fields\": [\n    {\n      \"column\": 1,\n      \"properties\": {\n        \"dtype\": \"number\",\n        \"std\": 1166,\n        \"min\": 171,\n        \"max\": 2274,\n        \"num_unique_values\": 3,\n        \"samples\": [\n          2274,\n          348,\n          171\n        ],\n        \"semantic_type\": \"\",\n        \"description\": \"\"\n      }\n    },\n    {\n      \"column\": 2,\n      \"properties\": {\n        \"dtype\": \"number\",\n        \"std\": 1190,\n        \"min\": 207,\n        \"max\": 2351,\n        \"num_unique_values\": 3,\n        \"samples\": [\n          381,\n          2351,\n          207\n        ],\n        \"semantic_type\": \"\",\n        \"description\": \"\"\n      }\n    },\n    {\n      \"column\": 3,\n      \"properties\": {\n        \"dtype\": \"number\",\n        \"std\": 1266,\n        \"min\": 109,\n        \"max\": 2329,\n        \"num_unique_values\": 3,\n        \"samples\": [\n          109,\n          164,\n          2329\n        ],\n        \"semantic_type\": \"\",\n        \"description\": \"\"\n      }\n    }\n  ]\n}"
            }
          },
          "metadata": {}
        },
        {
          "output_type": "stream",
          "name": "stdout",
          "text": [
            "\u001b[1m\n",
            "\n",
            "Decision tree model confusion matrix\u001b[0m\n"
          ]
        },
        {
          "output_type": "display_data",
          "data": {
            "text/plain": [
              "      1     2     3\n",
              "1  2237   453    74\n",
              "2   171  2573   119\n",
              "3    99   303  2305"
            ],
            "text/html": [
              "\n",
              "  <div id=\"df-c2011677-a980-4a0f-beb0-f4717b9fa11f\" class=\"colab-df-container\">\n",
              "    <div>\n",
              "<style scoped>\n",
              "    .dataframe tbody tr th:only-of-type {\n",
              "        vertical-align: middle;\n",
              "    }\n",
              "\n",
              "    .dataframe tbody tr th {\n",
              "        vertical-align: top;\n",
              "    }\n",
              "\n",
              "    .dataframe thead th {\n",
              "        text-align: right;\n",
              "    }\n",
              "</style>\n",
              "<table border=\"1\" class=\"dataframe\">\n",
              "  <thead>\n",
              "    <tr style=\"text-align: right;\">\n",
              "      <th></th>\n",
              "      <th>1</th>\n",
              "      <th>2</th>\n",
              "      <th>3</th>\n",
              "    </tr>\n",
              "  </thead>\n",
              "  <tbody>\n",
              "    <tr>\n",
              "      <th>1</th>\n",
              "      <td>2237</td>\n",
              "      <td>453</td>\n",
              "      <td>74</td>\n",
              "    </tr>\n",
              "    <tr>\n",
              "      <th>2</th>\n",
              "      <td>171</td>\n",
              "      <td>2573</td>\n",
              "      <td>119</td>\n",
              "    </tr>\n",
              "    <tr>\n",
              "      <th>3</th>\n",
              "      <td>99</td>\n",
              "      <td>303</td>\n",
              "      <td>2305</td>\n",
              "    </tr>\n",
              "  </tbody>\n",
              "</table>\n",
              "</div>\n",
              "    <div class=\"colab-df-buttons\">\n",
              "\n",
              "  <div class=\"colab-df-container\">\n",
              "    <button class=\"colab-df-convert\" onclick=\"convertToInteractive('df-c2011677-a980-4a0f-beb0-f4717b9fa11f')\"\n",
              "            title=\"Convert this dataframe to an interactive table.\"\n",
              "            style=\"display:none;\">\n",
              "\n",
              "  <svg xmlns=\"http://www.w3.org/2000/svg\" height=\"24px\" viewBox=\"0 -960 960 960\">\n",
              "    <path d=\"M120-120v-720h720v720H120Zm60-500h600v-160H180v160Zm220 220h160v-160H400v160Zm0 220h160v-160H400v160ZM180-400h160v-160H180v160Zm440 0h160v-160H620v160ZM180-180h160v-160H180v160Zm440 0h160v-160H620v160Z\"/>\n",
              "  </svg>\n",
              "    </button>\n",
              "\n",
              "  <style>\n",
              "    .colab-df-container {\n",
              "      display:flex;\n",
              "      gap: 12px;\n",
              "    }\n",
              "\n",
              "    .colab-df-convert {\n",
              "      background-color: #E8F0FE;\n",
              "      border: none;\n",
              "      border-radius: 50%;\n",
              "      cursor: pointer;\n",
              "      display: none;\n",
              "      fill: #1967D2;\n",
              "      height: 32px;\n",
              "      padding: 0 0 0 0;\n",
              "      width: 32px;\n",
              "    }\n",
              "\n",
              "    .colab-df-convert:hover {\n",
              "      background-color: #E2EBFA;\n",
              "      box-shadow: 0px 1px 2px rgba(60, 64, 67, 0.3), 0px 1px 3px 1px rgba(60, 64, 67, 0.15);\n",
              "      fill: #174EA6;\n",
              "    }\n",
              "\n",
              "    .colab-df-buttons div {\n",
              "      margin-bottom: 4px;\n",
              "    }\n",
              "\n",
              "    [theme=dark] .colab-df-convert {\n",
              "      background-color: #3B4455;\n",
              "      fill: #D2E3FC;\n",
              "    }\n",
              "\n",
              "    [theme=dark] .colab-df-convert:hover {\n",
              "      background-color: #434B5C;\n",
              "      box-shadow: 0px 1px 3px 1px rgba(0, 0, 0, 0.15);\n",
              "      filter: drop-shadow(0px 1px 2px rgba(0, 0, 0, 0.3));\n",
              "      fill: #FFFFFF;\n",
              "    }\n",
              "  </style>\n",
              "\n",
              "    <script>\n",
              "      const buttonEl =\n",
              "        document.querySelector('#df-c2011677-a980-4a0f-beb0-f4717b9fa11f button.colab-df-convert');\n",
              "      buttonEl.style.display =\n",
              "        google.colab.kernel.accessAllowed ? 'block' : 'none';\n",
              "\n",
              "      async function convertToInteractive(key) {\n",
              "        const element = document.querySelector('#df-c2011677-a980-4a0f-beb0-f4717b9fa11f');\n",
              "        const dataTable =\n",
              "          await google.colab.kernel.invokeFunction('convertToInteractive',\n",
              "                                                    [key], {});\n",
              "        if (!dataTable) return;\n",
              "\n",
              "        const docLinkHtml = 'Like what you see? Visit the ' +\n",
              "          '<a target=\"_blank\" href=https://colab.research.google.com/notebooks/data_table.ipynb>data table notebook</a>'\n",
              "          + ' to learn more about interactive tables.';\n",
              "        element.innerHTML = '';\n",
              "        dataTable['output_type'] = 'display_data';\n",
              "        await google.colab.output.renderOutput(dataTable, element);\n",
              "        const docLink = document.createElement('div');\n",
              "        docLink.innerHTML = docLinkHtml;\n",
              "        element.appendChild(docLink);\n",
              "      }\n",
              "    </script>\n",
              "  </div>\n",
              "\n",
              "\n",
              "<div id=\"df-f7257601-ac59-497c-93cc-3a95552ddcff\">\n",
              "  <button class=\"colab-df-quickchart\" onclick=\"quickchart('df-f7257601-ac59-497c-93cc-3a95552ddcff')\"\n",
              "            title=\"Suggest charts\"\n",
              "            style=\"display:none;\">\n",
              "\n",
              "<svg xmlns=\"http://www.w3.org/2000/svg\" height=\"24px\"viewBox=\"0 0 24 24\"\n",
              "     width=\"24px\">\n",
              "    <g>\n",
              "        <path d=\"M19 3H5c-1.1 0-2 .9-2 2v14c0 1.1.9 2 2 2h14c1.1 0 2-.9 2-2V5c0-1.1-.9-2-2-2zM9 17H7v-7h2v7zm4 0h-2V7h2v10zm4 0h-2v-4h2v4z\"/>\n",
              "    </g>\n",
              "</svg>\n",
              "  </button>\n",
              "\n",
              "<style>\n",
              "  .colab-df-quickchart {\n",
              "      --bg-color: #E8F0FE;\n",
              "      --fill-color: #1967D2;\n",
              "      --hover-bg-color: #E2EBFA;\n",
              "      --hover-fill-color: #174EA6;\n",
              "      --disabled-fill-color: #AAA;\n",
              "      --disabled-bg-color: #DDD;\n",
              "  }\n",
              "\n",
              "  [theme=dark] .colab-df-quickchart {\n",
              "      --bg-color: #3B4455;\n",
              "      --fill-color: #D2E3FC;\n",
              "      --hover-bg-color: #434B5C;\n",
              "      --hover-fill-color: #FFFFFF;\n",
              "      --disabled-bg-color: #3B4455;\n",
              "      --disabled-fill-color: #666;\n",
              "  }\n",
              "\n",
              "  .colab-df-quickchart {\n",
              "    background-color: var(--bg-color);\n",
              "    border: none;\n",
              "    border-radius: 50%;\n",
              "    cursor: pointer;\n",
              "    display: none;\n",
              "    fill: var(--fill-color);\n",
              "    height: 32px;\n",
              "    padding: 0;\n",
              "    width: 32px;\n",
              "  }\n",
              "\n",
              "  .colab-df-quickchart:hover {\n",
              "    background-color: var(--hover-bg-color);\n",
              "    box-shadow: 0 1px 2px rgba(60, 64, 67, 0.3), 0 1px 3px 1px rgba(60, 64, 67, 0.15);\n",
              "    fill: var(--button-hover-fill-color);\n",
              "  }\n",
              "\n",
              "  .colab-df-quickchart-complete:disabled,\n",
              "  .colab-df-quickchart-complete:disabled:hover {\n",
              "    background-color: var(--disabled-bg-color);\n",
              "    fill: var(--disabled-fill-color);\n",
              "    box-shadow: none;\n",
              "  }\n",
              "\n",
              "  .colab-df-spinner {\n",
              "    border: 2px solid var(--fill-color);\n",
              "    border-color: transparent;\n",
              "    border-bottom-color: var(--fill-color);\n",
              "    animation:\n",
              "      spin 1s steps(1) infinite;\n",
              "  }\n",
              "\n",
              "  @keyframes spin {\n",
              "    0% {\n",
              "      border-color: transparent;\n",
              "      border-bottom-color: var(--fill-color);\n",
              "      border-left-color: var(--fill-color);\n",
              "    }\n",
              "    20% {\n",
              "      border-color: transparent;\n",
              "      border-left-color: var(--fill-color);\n",
              "      border-top-color: var(--fill-color);\n",
              "    }\n",
              "    30% {\n",
              "      border-color: transparent;\n",
              "      border-left-color: var(--fill-color);\n",
              "      border-top-color: var(--fill-color);\n",
              "      border-right-color: var(--fill-color);\n",
              "    }\n",
              "    40% {\n",
              "      border-color: transparent;\n",
              "      border-right-color: var(--fill-color);\n",
              "      border-top-color: var(--fill-color);\n",
              "    }\n",
              "    60% {\n",
              "      border-color: transparent;\n",
              "      border-right-color: var(--fill-color);\n",
              "    }\n",
              "    80% {\n",
              "      border-color: transparent;\n",
              "      border-right-color: var(--fill-color);\n",
              "      border-bottom-color: var(--fill-color);\n",
              "    }\n",
              "    90% {\n",
              "      border-color: transparent;\n",
              "      border-bottom-color: var(--fill-color);\n",
              "    }\n",
              "  }\n",
              "</style>\n",
              "\n",
              "  <script>\n",
              "    async function quickchart(key) {\n",
              "      const quickchartButtonEl =\n",
              "        document.querySelector('#' + key + ' button');\n",
              "      quickchartButtonEl.disabled = true;  // To prevent multiple clicks.\n",
              "      quickchartButtonEl.classList.add('colab-df-spinner');\n",
              "      try {\n",
              "        const charts = await google.colab.kernel.invokeFunction(\n",
              "            'suggestCharts', [key], {});\n",
              "      } catch (error) {\n",
              "        console.error('Error during call to suggestCharts:', error);\n",
              "      }\n",
              "      quickchartButtonEl.classList.remove('colab-df-spinner');\n",
              "      quickchartButtonEl.classList.add('colab-df-quickchart-complete');\n",
              "    }\n",
              "    (() => {\n",
              "      let quickchartButtonEl =\n",
              "        document.querySelector('#df-f7257601-ac59-497c-93cc-3a95552ddcff button');\n",
              "      quickchartButtonEl.style.display =\n",
              "        google.colab.kernel.accessAllowed ? 'block' : 'none';\n",
              "    })();\n",
              "  </script>\n",
              "</div>\n",
              "    </div>\n",
              "  </div>\n"
            ],
            "application/vnd.google.colaboratory.intrinsic+json": {
              "type": "dataframe",
              "summary": "{\n  \"name\": \"print_confusion_matrix(gs_lgbm, X_val, y_val)\",\n  \"rows\": 3,\n  \"fields\": [\n    {\n      \"column\": 1,\n      \"properties\": {\n        \"dtype\": \"number\",\n        \"std\": 1214,\n        \"min\": 99,\n        \"max\": 2237,\n        \"num_unique_values\": 3,\n        \"samples\": [\n          2237,\n          171,\n          99\n        ],\n        \"semantic_type\": \"\",\n        \"description\": \"\"\n      }\n    },\n    {\n      \"column\": 2,\n      \"properties\": {\n        \"dtype\": \"number\",\n        \"std\": 1269,\n        \"min\": 303,\n        \"max\": 2573,\n        \"num_unique_values\": 3,\n        \"samples\": [\n          453,\n          2573,\n          303\n        ],\n        \"semantic_type\": \"\",\n        \"description\": \"\"\n      }\n    },\n    {\n      \"column\": 3,\n      \"properties\": {\n        \"dtype\": \"number\",\n        \"std\": 1275,\n        \"min\": 74,\n        \"max\": 2305,\n        \"num_unique_values\": 3,\n        \"samples\": [\n          74,\n          119,\n          2305\n        ],\n        \"semantic_type\": \"\",\n        \"description\": \"\"\n      }\n    }\n  ]\n}"
            }
          },
          "metadata": {}
        },
        {
          "output_type": "stream",
          "name": "stdout",
          "text": [
            "\u001b[1m\n",
            "\n",
            "LightGBM model confusion matrix\u001b[0m\n"
          ]
        },
        {
          "output_type": "display_data",
          "data": {
            "text/plain": [
              "      1     2     3\n",
              "1  2562   155    47\n",
              "2    95  2687    81\n",
              "3    56    95  2556"
            ],
            "text/html": [
              "\n",
              "  <div id=\"df-a23ce413-07d4-4519-a112-a85ba0b67625\" class=\"colab-df-container\">\n",
              "    <div>\n",
              "<style scoped>\n",
              "    .dataframe tbody tr th:only-of-type {\n",
              "        vertical-align: middle;\n",
              "    }\n",
              "\n",
              "    .dataframe tbody tr th {\n",
              "        vertical-align: top;\n",
              "    }\n",
              "\n",
              "    .dataframe thead th {\n",
              "        text-align: right;\n",
              "    }\n",
              "</style>\n",
              "<table border=\"1\" class=\"dataframe\">\n",
              "  <thead>\n",
              "    <tr style=\"text-align: right;\">\n",
              "      <th></th>\n",
              "      <th>1</th>\n",
              "      <th>2</th>\n",
              "      <th>3</th>\n",
              "    </tr>\n",
              "  </thead>\n",
              "  <tbody>\n",
              "    <tr>\n",
              "      <th>1</th>\n",
              "      <td>2562</td>\n",
              "      <td>155</td>\n",
              "      <td>47</td>\n",
              "    </tr>\n",
              "    <tr>\n",
              "      <th>2</th>\n",
              "      <td>95</td>\n",
              "      <td>2687</td>\n",
              "      <td>81</td>\n",
              "    </tr>\n",
              "    <tr>\n",
              "      <th>3</th>\n",
              "      <td>56</td>\n",
              "      <td>95</td>\n",
              "      <td>2556</td>\n",
              "    </tr>\n",
              "  </tbody>\n",
              "</table>\n",
              "</div>\n",
              "    <div class=\"colab-df-buttons\">\n",
              "\n",
              "  <div class=\"colab-df-container\">\n",
              "    <button class=\"colab-df-convert\" onclick=\"convertToInteractive('df-a23ce413-07d4-4519-a112-a85ba0b67625')\"\n",
              "            title=\"Convert this dataframe to an interactive table.\"\n",
              "            style=\"display:none;\">\n",
              "\n",
              "  <svg xmlns=\"http://www.w3.org/2000/svg\" height=\"24px\" viewBox=\"0 -960 960 960\">\n",
              "    <path d=\"M120-120v-720h720v720H120Zm60-500h600v-160H180v160Zm220 220h160v-160H400v160Zm0 220h160v-160H400v160ZM180-400h160v-160H180v160Zm440 0h160v-160H620v160ZM180-180h160v-160H180v160Zm440 0h160v-160H620v160Z\"/>\n",
              "  </svg>\n",
              "    </button>\n",
              "\n",
              "  <style>\n",
              "    .colab-df-container {\n",
              "      display:flex;\n",
              "      gap: 12px;\n",
              "    }\n",
              "\n",
              "    .colab-df-convert {\n",
              "      background-color: #E8F0FE;\n",
              "      border: none;\n",
              "      border-radius: 50%;\n",
              "      cursor: pointer;\n",
              "      display: none;\n",
              "      fill: #1967D2;\n",
              "      height: 32px;\n",
              "      padding: 0 0 0 0;\n",
              "      width: 32px;\n",
              "    }\n",
              "\n",
              "    .colab-df-convert:hover {\n",
              "      background-color: #E2EBFA;\n",
              "      box-shadow: 0px 1px 2px rgba(60, 64, 67, 0.3), 0px 1px 3px 1px rgba(60, 64, 67, 0.15);\n",
              "      fill: #174EA6;\n",
              "    }\n",
              "\n",
              "    .colab-df-buttons div {\n",
              "      margin-bottom: 4px;\n",
              "    }\n",
              "\n",
              "    [theme=dark] .colab-df-convert {\n",
              "      background-color: #3B4455;\n",
              "      fill: #D2E3FC;\n",
              "    }\n",
              "\n",
              "    [theme=dark] .colab-df-convert:hover {\n",
              "      background-color: #434B5C;\n",
              "      box-shadow: 0px 1px 3px 1px rgba(0, 0, 0, 0.15);\n",
              "      filter: drop-shadow(0px 1px 2px rgba(0, 0, 0, 0.3));\n",
              "      fill: #FFFFFF;\n",
              "    }\n",
              "  </style>\n",
              "\n",
              "    <script>\n",
              "      const buttonEl =\n",
              "        document.querySelector('#df-a23ce413-07d4-4519-a112-a85ba0b67625 button.colab-df-convert');\n",
              "      buttonEl.style.display =\n",
              "        google.colab.kernel.accessAllowed ? 'block' : 'none';\n",
              "\n",
              "      async function convertToInteractive(key) {\n",
              "        const element = document.querySelector('#df-a23ce413-07d4-4519-a112-a85ba0b67625');\n",
              "        const dataTable =\n",
              "          await google.colab.kernel.invokeFunction('convertToInteractive',\n",
              "                                                    [key], {});\n",
              "        if (!dataTable) return;\n",
              "\n",
              "        const docLinkHtml = 'Like what you see? Visit the ' +\n",
              "          '<a target=\"_blank\" href=https://colab.research.google.com/notebooks/data_table.ipynb>data table notebook</a>'\n",
              "          + ' to learn more about interactive tables.';\n",
              "        element.innerHTML = '';\n",
              "        dataTable['output_type'] = 'display_data';\n",
              "        await google.colab.output.renderOutput(dataTable, element);\n",
              "        const docLink = document.createElement('div');\n",
              "        docLink.innerHTML = docLinkHtml;\n",
              "        element.appendChild(docLink);\n",
              "      }\n",
              "    </script>\n",
              "  </div>\n",
              "\n",
              "\n",
              "<div id=\"df-2dbcf79f-7c64-408d-a3a5-78fe9eb642df\">\n",
              "  <button class=\"colab-df-quickchart\" onclick=\"quickchart('df-2dbcf79f-7c64-408d-a3a5-78fe9eb642df')\"\n",
              "            title=\"Suggest charts\"\n",
              "            style=\"display:none;\">\n",
              "\n",
              "<svg xmlns=\"http://www.w3.org/2000/svg\" height=\"24px\"viewBox=\"0 0 24 24\"\n",
              "     width=\"24px\">\n",
              "    <g>\n",
              "        <path d=\"M19 3H5c-1.1 0-2 .9-2 2v14c0 1.1.9 2 2 2h14c1.1 0 2-.9 2-2V5c0-1.1-.9-2-2-2zM9 17H7v-7h2v7zm4 0h-2V7h2v10zm4 0h-2v-4h2v4z\"/>\n",
              "    </g>\n",
              "</svg>\n",
              "  </button>\n",
              "\n",
              "<style>\n",
              "  .colab-df-quickchart {\n",
              "      --bg-color: #E8F0FE;\n",
              "      --fill-color: #1967D2;\n",
              "      --hover-bg-color: #E2EBFA;\n",
              "      --hover-fill-color: #174EA6;\n",
              "      --disabled-fill-color: #AAA;\n",
              "      --disabled-bg-color: #DDD;\n",
              "  }\n",
              "\n",
              "  [theme=dark] .colab-df-quickchart {\n",
              "      --bg-color: #3B4455;\n",
              "      --fill-color: #D2E3FC;\n",
              "      --hover-bg-color: #434B5C;\n",
              "      --hover-fill-color: #FFFFFF;\n",
              "      --disabled-bg-color: #3B4455;\n",
              "      --disabled-fill-color: #666;\n",
              "  }\n",
              "\n",
              "  .colab-df-quickchart {\n",
              "    background-color: var(--bg-color);\n",
              "    border: none;\n",
              "    border-radius: 50%;\n",
              "    cursor: pointer;\n",
              "    display: none;\n",
              "    fill: var(--fill-color);\n",
              "    height: 32px;\n",
              "    padding: 0;\n",
              "    width: 32px;\n",
              "  }\n",
              "\n",
              "  .colab-df-quickchart:hover {\n",
              "    background-color: var(--hover-bg-color);\n",
              "    box-shadow: 0 1px 2px rgba(60, 64, 67, 0.3), 0 1px 3px 1px rgba(60, 64, 67, 0.15);\n",
              "    fill: var(--button-hover-fill-color);\n",
              "  }\n",
              "\n",
              "  .colab-df-quickchart-complete:disabled,\n",
              "  .colab-df-quickchart-complete:disabled:hover {\n",
              "    background-color: var(--disabled-bg-color);\n",
              "    fill: var(--disabled-fill-color);\n",
              "    box-shadow: none;\n",
              "  }\n",
              "\n",
              "  .colab-df-spinner {\n",
              "    border: 2px solid var(--fill-color);\n",
              "    border-color: transparent;\n",
              "    border-bottom-color: var(--fill-color);\n",
              "    animation:\n",
              "      spin 1s steps(1) infinite;\n",
              "  }\n",
              "\n",
              "  @keyframes spin {\n",
              "    0% {\n",
              "      border-color: transparent;\n",
              "      border-bottom-color: var(--fill-color);\n",
              "      border-left-color: var(--fill-color);\n",
              "    }\n",
              "    20% {\n",
              "      border-color: transparent;\n",
              "      border-left-color: var(--fill-color);\n",
              "      border-top-color: var(--fill-color);\n",
              "    }\n",
              "    30% {\n",
              "      border-color: transparent;\n",
              "      border-left-color: var(--fill-color);\n",
              "      border-top-color: var(--fill-color);\n",
              "      border-right-color: var(--fill-color);\n",
              "    }\n",
              "    40% {\n",
              "      border-color: transparent;\n",
              "      border-right-color: var(--fill-color);\n",
              "      border-top-color: var(--fill-color);\n",
              "    }\n",
              "    60% {\n",
              "      border-color: transparent;\n",
              "      border-right-color: var(--fill-color);\n",
              "    }\n",
              "    80% {\n",
              "      border-color: transparent;\n",
              "      border-right-color: var(--fill-color);\n",
              "      border-bottom-color: var(--fill-color);\n",
              "    }\n",
              "    90% {\n",
              "      border-color: transparent;\n",
              "      border-bottom-color: var(--fill-color);\n",
              "    }\n",
              "  }\n",
              "</style>\n",
              "\n",
              "  <script>\n",
              "    async function quickchart(key) {\n",
              "      const quickchartButtonEl =\n",
              "        document.querySelector('#' + key + ' button');\n",
              "      quickchartButtonEl.disabled = true;  // To prevent multiple clicks.\n",
              "      quickchartButtonEl.classList.add('colab-df-spinner');\n",
              "      try {\n",
              "        const charts = await google.colab.kernel.invokeFunction(\n",
              "            'suggestCharts', [key], {});\n",
              "      } catch (error) {\n",
              "        console.error('Error during call to suggestCharts:', error);\n",
              "      }\n",
              "      quickchartButtonEl.classList.remove('colab-df-spinner');\n",
              "      quickchartButtonEl.classList.add('colab-df-quickchart-complete');\n",
              "    }\n",
              "    (() => {\n",
              "      let quickchartButtonEl =\n",
              "        document.querySelector('#df-2dbcf79f-7c64-408d-a3a5-78fe9eb642df button');\n",
              "      quickchartButtonEl.style.display =\n",
              "        google.colab.kernel.accessAllowed ? 'block' : 'none';\n",
              "    })();\n",
              "  </script>\n",
              "</div>\n",
              "    </div>\n",
              "  </div>\n"
            ],
            "application/vnd.google.colaboratory.intrinsic+json": {
              "type": "dataframe",
              "summary": "{\n  \"name\": \"print_confusion_matrix(gs_lgbm, X_val, y_val)\",\n  \"rows\": 3,\n  \"fields\": [\n    {\n      \"column\": 1,\n      \"properties\": {\n        \"dtype\": \"number\",\n        \"std\": 1435,\n        \"min\": 56,\n        \"max\": 2562,\n        \"num_unique_values\": 3,\n        \"samples\": [\n          2562,\n          95,\n          56\n        ],\n        \"semantic_type\": \"\",\n        \"description\": \"\"\n      }\n    },\n    {\n      \"column\": 2,\n      \"properties\": {\n        \"dtype\": \"number\",\n        \"std\": 1479,\n        \"min\": 95,\n        \"max\": 2687,\n        \"num_unique_values\": 3,\n        \"samples\": [\n          155,\n          2687,\n          95\n        ],\n        \"semantic_type\": \"\",\n        \"description\": \"\"\n      }\n    },\n    {\n      \"column\": 3,\n      \"properties\": {\n        \"dtype\": \"number\",\n        \"std\": 1438,\n        \"min\": 47,\n        \"max\": 2556,\n        \"num_unique_values\": 3,\n        \"samples\": [\n          47,\n          81,\n          2556\n        ],\n        \"semantic_type\": \"\",\n        \"description\": \"\"\n      }\n    }\n  ]\n}"
            }
          },
          "metadata": {}
        }
      ]
    },
    {
      "cell_type": "markdown",
      "source": [
        "Le istanze classificate correttamente sono quelle contate lungo la diagonale della matrice, si può notare ad occhio come i modelli confondano maggiormente tra di loro le istanze 1 e 2.\n",
        "Probabilmente questo si verifica perchè nei dati le classi 1 e 2 si sovrappongono maggiormente."
      ],
      "metadata": {
        "id": "sRH2g3iRdl-0"
      }
    },
    {
      "cell_type": "markdown",
      "source": [
        "###Precision - Recall - F1"
      ],
      "metadata": {
        "id": "L0J7MoH9GkoP"
      }
    },
    {
      "cell_type": "markdown",
      "source": [
        "- **Precision** è l’accuratezza con cui il sistema di machine learning prevede le classi positive.\n",
        "Non è sempre la migliore daconsiderare visto che considera solo le previsioni positive.\n",
        "\n",
        "- **Recall** indica il rapporto di istanze positive correttamente individuate dal modello.\n",
        "\n",
        "- **F1** è la media armonica delle due precedenti.\n",
        "Rispetto ad una media convenzionale, quella armonica attribuisce un peso maggiore ai valori piccoli. Questò fa sì che un classificatore ottenga un alto punteggio F1 solo quando precisione e recupero sono entrambi alti."
      ],
      "metadata": {
        "id": "9SWehXTsisoR"
      }
    },
    {
      "cell_type": "code",
      "source": [
        "def calculate_precision_recall_f1(model, X_val, y_val):\n",
        "    y_pred = model.predict(X_val)\n",
        "    p = precision_score(y_val, y_pred, pos_label=1, average=\"macro\")\n",
        "    r = recall_score(y_val, y_pred, average=\"macro\")\n",
        "    f1 = f1_score(y_val, y_pred, average=\"macro\")\n",
        "    return {\"precision\" : p, \"recall\": r, \"f1-score\": f1}"
      ],
      "metadata": {
        "id": "uzj1gXbFC1Ff"
      },
      "execution_count": 50,
      "outputs": []
    },
    {
      "cell_type": "code",
      "source": [
        "display(\n",
        "    pd.DataFrame([calculate_precision_recall_f1(gs_perceptron, X_val, y_val),\n",
        "                  calculate_precision_recall_f1(gs_lr, X_val, y_val),\n",
        "                  calculate_precision_recall_f1(svm_no_of, X_val, y_val),\n",
        "                  calculate_precision_recall_f1(gs_tree, X_val, y_val),\n",
        "                  calculate_precision_recall_f1(gs_lgbm, X_val, y_val)],\n",
        "                  index=[\"Perceptron\", \"Logistic Regression\", \"SVM\", \"Decisional Tree\", \"LightGBM\"])\n",
        "    )"
      ],
      "metadata": {
        "id": "9TnW94UkHUJb",
        "colab": {
          "base_uri": "https://localhost:8080/",
          "height": 224
        },
        "outputId": "eba6416b-0a3a-4d20-b2bf-0af2e124c53f"
      },
      "execution_count": 51,
      "outputs": [
        {
          "output_type": "stream",
          "name": "stdout",
          "text": [
            "[LightGBM] [Warning] Accuracy may be bad since you didn't explicitly set num_leaves OR 2^max_depth > num_leaves. (num_leaves=31).\n"
          ]
        },
        {
          "output_type": "display_data",
          "data": {
            "text/plain": [
              "                     precision    recall  f1-score\n",
              "Perceptron            0.498708  0.484941  0.444416\n",
              "Logistic Regression   0.585061  0.590508  0.585475\n",
              "SVM                   0.836397  0.834750  0.835405\n",
              "Decisional Tree       0.862648  0.853179  0.855185\n",
              "LightGBM              0.937177  0.936554  0.936782"
            ],
            "text/html": [
              "\n",
              "  <div id=\"df-ef5ad844-b5cb-4383-8054-957570218c74\" class=\"colab-df-container\">\n",
              "    <div>\n",
              "<style scoped>\n",
              "    .dataframe tbody tr th:only-of-type {\n",
              "        vertical-align: middle;\n",
              "    }\n",
              "\n",
              "    .dataframe tbody tr th {\n",
              "        vertical-align: top;\n",
              "    }\n",
              "\n",
              "    .dataframe thead th {\n",
              "        text-align: right;\n",
              "    }\n",
              "</style>\n",
              "<table border=\"1\" class=\"dataframe\">\n",
              "  <thead>\n",
              "    <tr style=\"text-align: right;\">\n",
              "      <th></th>\n",
              "      <th>precision</th>\n",
              "      <th>recall</th>\n",
              "      <th>f1-score</th>\n",
              "    </tr>\n",
              "  </thead>\n",
              "  <tbody>\n",
              "    <tr>\n",
              "      <th>Perceptron</th>\n",
              "      <td>0.498708</td>\n",
              "      <td>0.484941</td>\n",
              "      <td>0.444416</td>\n",
              "    </tr>\n",
              "    <tr>\n",
              "      <th>Logistic Regression</th>\n",
              "      <td>0.585061</td>\n",
              "      <td>0.590508</td>\n",
              "      <td>0.585475</td>\n",
              "    </tr>\n",
              "    <tr>\n",
              "      <th>SVM</th>\n",
              "      <td>0.836397</td>\n",
              "      <td>0.834750</td>\n",
              "      <td>0.835405</td>\n",
              "    </tr>\n",
              "    <tr>\n",
              "      <th>Decisional Tree</th>\n",
              "      <td>0.862648</td>\n",
              "      <td>0.853179</td>\n",
              "      <td>0.855185</td>\n",
              "    </tr>\n",
              "    <tr>\n",
              "      <th>LightGBM</th>\n",
              "      <td>0.937177</td>\n",
              "      <td>0.936554</td>\n",
              "      <td>0.936782</td>\n",
              "    </tr>\n",
              "  </tbody>\n",
              "</table>\n",
              "</div>\n",
              "    <div class=\"colab-df-buttons\">\n",
              "\n",
              "  <div class=\"colab-df-container\">\n",
              "    <button class=\"colab-df-convert\" onclick=\"convertToInteractive('df-ef5ad844-b5cb-4383-8054-957570218c74')\"\n",
              "            title=\"Convert this dataframe to an interactive table.\"\n",
              "            style=\"display:none;\">\n",
              "\n",
              "  <svg xmlns=\"http://www.w3.org/2000/svg\" height=\"24px\" viewBox=\"0 -960 960 960\">\n",
              "    <path d=\"M120-120v-720h720v720H120Zm60-500h600v-160H180v160Zm220 220h160v-160H400v160Zm0 220h160v-160H400v160ZM180-400h160v-160H180v160Zm440 0h160v-160H620v160ZM180-180h160v-160H180v160Zm440 0h160v-160H620v160Z\"/>\n",
              "  </svg>\n",
              "    </button>\n",
              "\n",
              "  <style>\n",
              "    .colab-df-container {\n",
              "      display:flex;\n",
              "      gap: 12px;\n",
              "    }\n",
              "\n",
              "    .colab-df-convert {\n",
              "      background-color: #E8F0FE;\n",
              "      border: none;\n",
              "      border-radius: 50%;\n",
              "      cursor: pointer;\n",
              "      display: none;\n",
              "      fill: #1967D2;\n",
              "      height: 32px;\n",
              "      padding: 0 0 0 0;\n",
              "      width: 32px;\n",
              "    }\n",
              "\n",
              "    .colab-df-convert:hover {\n",
              "      background-color: #E2EBFA;\n",
              "      box-shadow: 0px 1px 2px rgba(60, 64, 67, 0.3), 0px 1px 3px 1px rgba(60, 64, 67, 0.15);\n",
              "      fill: #174EA6;\n",
              "    }\n",
              "\n",
              "    .colab-df-buttons div {\n",
              "      margin-bottom: 4px;\n",
              "    }\n",
              "\n",
              "    [theme=dark] .colab-df-convert {\n",
              "      background-color: #3B4455;\n",
              "      fill: #D2E3FC;\n",
              "    }\n",
              "\n",
              "    [theme=dark] .colab-df-convert:hover {\n",
              "      background-color: #434B5C;\n",
              "      box-shadow: 0px 1px 3px 1px rgba(0, 0, 0, 0.15);\n",
              "      filter: drop-shadow(0px 1px 2px rgba(0, 0, 0, 0.3));\n",
              "      fill: #FFFFFF;\n",
              "    }\n",
              "  </style>\n",
              "\n",
              "    <script>\n",
              "      const buttonEl =\n",
              "        document.querySelector('#df-ef5ad844-b5cb-4383-8054-957570218c74 button.colab-df-convert');\n",
              "      buttonEl.style.display =\n",
              "        google.colab.kernel.accessAllowed ? 'block' : 'none';\n",
              "\n",
              "      async function convertToInteractive(key) {\n",
              "        const element = document.querySelector('#df-ef5ad844-b5cb-4383-8054-957570218c74');\n",
              "        const dataTable =\n",
              "          await google.colab.kernel.invokeFunction('convertToInteractive',\n",
              "                                                    [key], {});\n",
              "        if (!dataTable) return;\n",
              "\n",
              "        const docLinkHtml = 'Like what you see? Visit the ' +\n",
              "          '<a target=\"_blank\" href=https://colab.research.google.com/notebooks/data_table.ipynb>data table notebook</a>'\n",
              "          + ' to learn more about interactive tables.';\n",
              "        element.innerHTML = '';\n",
              "        dataTable['output_type'] = 'display_data';\n",
              "        await google.colab.output.renderOutput(dataTable, element);\n",
              "        const docLink = document.createElement('div');\n",
              "        docLink.innerHTML = docLinkHtml;\n",
              "        element.appendChild(docLink);\n",
              "      }\n",
              "    </script>\n",
              "  </div>\n",
              "\n",
              "\n",
              "<div id=\"df-3bae6806-9606-4fff-9e0f-b8a764134e5b\">\n",
              "  <button class=\"colab-df-quickchart\" onclick=\"quickchart('df-3bae6806-9606-4fff-9e0f-b8a764134e5b')\"\n",
              "            title=\"Suggest charts\"\n",
              "            style=\"display:none;\">\n",
              "\n",
              "<svg xmlns=\"http://www.w3.org/2000/svg\" height=\"24px\"viewBox=\"0 0 24 24\"\n",
              "     width=\"24px\">\n",
              "    <g>\n",
              "        <path d=\"M19 3H5c-1.1 0-2 .9-2 2v14c0 1.1.9 2 2 2h14c1.1 0 2-.9 2-2V5c0-1.1-.9-2-2-2zM9 17H7v-7h2v7zm4 0h-2V7h2v10zm4 0h-2v-4h2v4z\"/>\n",
              "    </g>\n",
              "</svg>\n",
              "  </button>\n",
              "\n",
              "<style>\n",
              "  .colab-df-quickchart {\n",
              "      --bg-color: #E8F0FE;\n",
              "      --fill-color: #1967D2;\n",
              "      --hover-bg-color: #E2EBFA;\n",
              "      --hover-fill-color: #174EA6;\n",
              "      --disabled-fill-color: #AAA;\n",
              "      --disabled-bg-color: #DDD;\n",
              "  }\n",
              "\n",
              "  [theme=dark] .colab-df-quickchart {\n",
              "      --bg-color: #3B4455;\n",
              "      --fill-color: #D2E3FC;\n",
              "      --hover-bg-color: #434B5C;\n",
              "      --hover-fill-color: #FFFFFF;\n",
              "      --disabled-bg-color: #3B4455;\n",
              "      --disabled-fill-color: #666;\n",
              "  }\n",
              "\n",
              "  .colab-df-quickchart {\n",
              "    background-color: var(--bg-color);\n",
              "    border: none;\n",
              "    border-radius: 50%;\n",
              "    cursor: pointer;\n",
              "    display: none;\n",
              "    fill: var(--fill-color);\n",
              "    height: 32px;\n",
              "    padding: 0;\n",
              "    width: 32px;\n",
              "  }\n",
              "\n",
              "  .colab-df-quickchart:hover {\n",
              "    background-color: var(--hover-bg-color);\n",
              "    box-shadow: 0 1px 2px rgba(60, 64, 67, 0.3), 0 1px 3px 1px rgba(60, 64, 67, 0.15);\n",
              "    fill: var(--button-hover-fill-color);\n",
              "  }\n",
              "\n",
              "  .colab-df-quickchart-complete:disabled,\n",
              "  .colab-df-quickchart-complete:disabled:hover {\n",
              "    background-color: var(--disabled-bg-color);\n",
              "    fill: var(--disabled-fill-color);\n",
              "    box-shadow: none;\n",
              "  }\n",
              "\n",
              "  .colab-df-spinner {\n",
              "    border: 2px solid var(--fill-color);\n",
              "    border-color: transparent;\n",
              "    border-bottom-color: var(--fill-color);\n",
              "    animation:\n",
              "      spin 1s steps(1) infinite;\n",
              "  }\n",
              "\n",
              "  @keyframes spin {\n",
              "    0% {\n",
              "      border-color: transparent;\n",
              "      border-bottom-color: var(--fill-color);\n",
              "      border-left-color: var(--fill-color);\n",
              "    }\n",
              "    20% {\n",
              "      border-color: transparent;\n",
              "      border-left-color: var(--fill-color);\n",
              "      border-top-color: var(--fill-color);\n",
              "    }\n",
              "    30% {\n",
              "      border-color: transparent;\n",
              "      border-left-color: var(--fill-color);\n",
              "      border-top-color: var(--fill-color);\n",
              "      border-right-color: var(--fill-color);\n",
              "    }\n",
              "    40% {\n",
              "      border-color: transparent;\n",
              "      border-right-color: var(--fill-color);\n",
              "      border-top-color: var(--fill-color);\n",
              "    }\n",
              "    60% {\n",
              "      border-color: transparent;\n",
              "      border-right-color: var(--fill-color);\n",
              "    }\n",
              "    80% {\n",
              "      border-color: transparent;\n",
              "      border-right-color: var(--fill-color);\n",
              "      border-bottom-color: var(--fill-color);\n",
              "    }\n",
              "    90% {\n",
              "      border-color: transparent;\n",
              "      border-bottom-color: var(--fill-color);\n",
              "    }\n",
              "  }\n",
              "</style>\n",
              "\n",
              "  <script>\n",
              "    async function quickchart(key) {\n",
              "      const quickchartButtonEl =\n",
              "        document.querySelector('#' + key + ' button');\n",
              "      quickchartButtonEl.disabled = true;  // To prevent multiple clicks.\n",
              "      quickchartButtonEl.classList.add('colab-df-spinner');\n",
              "      try {\n",
              "        const charts = await google.colab.kernel.invokeFunction(\n",
              "            'suggestCharts', [key], {});\n",
              "      } catch (error) {\n",
              "        console.error('Error during call to suggestCharts:', error);\n",
              "      }\n",
              "      quickchartButtonEl.classList.remove('colab-df-spinner');\n",
              "      quickchartButtonEl.classList.add('colab-df-quickchart-complete');\n",
              "    }\n",
              "    (() => {\n",
              "      let quickchartButtonEl =\n",
              "        document.querySelector('#df-3bae6806-9606-4fff-9e0f-b8a764134e5b button');\n",
              "      quickchartButtonEl.style.display =\n",
              "        google.colab.kernel.accessAllowed ? 'block' : 'none';\n",
              "    })();\n",
              "  </script>\n",
              "</div>\n",
              "    </div>\n",
              "  </div>\n"
            ],
            "application/vnd.google.colaboratory.intrinsic+json": {
              "type": "dataframe",
              "summary": "{\n  \"name\": \"    )\",\n  \"rows\": 5,\n  \"fields\": [\n    {\n      \"column\": \"precision\",\n      \"properties\": {\n        \"dtype\": \"number\",\n        \"std\": 0.19063164335947289,\n        \"min\": 0.4987084009566625,\n        \"max\": 0.9371770567409583,\n        \"num_unique_values\": 5,\n        \"samples\": [\n          0.5850605220487654,\n          0.9371770567409583,\n          0.8363969865637301\n        ],\n        \"semantic_type\": \"\",\n        \"description\": \"\"\n      }\n    },\n    {\n      \"column\": \"recall\",\n      \"properties\": {\n        \"dtype\": \"number\",\n        \"std\": 0.19223925291678118,\n        \"min\": 0.48494076774866857,\n        \"max\": 0.9365540749295723,\n        \"num_unique_values\": 5,\n        \"samples\": [\n          0.5905077949803204,\n          0.9365540749295723,\n          0.8347497758264492\n        ],\n        \"semantic_type\": \"\",\n        \"description\": \"\"\n      }\n    },\n    {\n      \"column\": \"f1-score\",\n      \"properties\": {\n        \"dtype\": \"number\",\n        \"std\": 0.20734961648791503,\n        \"min\": 0.444416237934773,\n        \"max\": 0.9367824868755014,\n        \"num_unique_values\": 5,\n        \"samples\": [\n          0.5854751318630825,\n          0.9367824868755014,\n          0.835405149866328\n        ],\n        \"semantic_type\": \"\",\n        \"description\": \"\"\n      }\n    }\n  ]\n}"
            }
          },
          "metadata": {}
        }
      ]
    },
    {
      "cell_type": "markdown",
      "source": [
        "Il modello di classificcazione più preciso è decisamente **LightGBM**."
      ],
      "metadata": {
        "id": "n4nPGISyj_es"
      }
    },
    {
      "cell_type": "markdown",
      "source": [
        "###Intervalli di confidenza"
      ],
      "metadata": {
        "id": "3HjckR_HJMvY"
      }
    },
    {
      "cell_type": "markdown",
      "source": [
        "Verrà utilizzato un intervallo di confidenza al 95%.\n",
        "Ciò significa che al 95% l'accuratezza del modello considerato rientrerà in un range [inf, sup]"
      ],
      "metadata": {
        "id": "mSVusIS-kpei"
      }
    },
    {
      "cell_type": "code",
      "source": [
        "#credit: https://nbviewer.org/urls/bitbucket.org/volpepe/whats-cooking-challenge/raw/777f42bd4905f478c28b449d05cd2f9c51af94c9/Progetto.ipynb\n",
        "\n",
        "def confidence(acc, N, Z):\n",
        "    den = (2*(N+Z**2))\n",
        "    var = (Z*np.sqrt(Z**2+4*N*acc-4*N*acc**2)) / den\n",
        "    a = (2*N*acc+Z**2) / den\n",
        "    inf = a - var\n",
        "    sup = a + var\n",
        "    return (inf, sup)\n",
        "\n",
        "def calculate_accuracy(model, X_val, y_val):\n",
        "    matrix = confusion_matrix(y_val, model.predict(X_val))\n",
        "    conf_matrix = pd.DataFrame(matrix, index=[1,2,3], columns=[1,2,3])\n",
        "    return np.diag(conf_matrix).sum() / conf_matrix.sum().sum()"
      ],
      "metadata": {
        "id": "Rw6QTPp2ICqa"
      },
      "execution_count": 52,
      "outputs": []
    },
    {
      "cell_type": "code",
      "source": [
        "display(pd.DataFrame([confidence(calculate_accuracy(gs_perceptron, X_val, y_val), len(X_val), 1.96),\n",
        "                      confidence(calculate_accuracy(gs_lr, X_val, y_val), len(X_val), 1.96),\n",
        "                      confidence(calculate_accuracy(svm_no_of, X_val, y_val), len(X_val), 1.96),\n",
        "                      confidence(calculate_accuracy(gs_tree, X_val, y_val), len(X_val), 1.96),\n",
        "                      confidence(calculate_accuracy(gs_lgbm, X_val, y_val), len(X_val), 1.96),],\n",
        "                      index=[\"Perceptron\", \"Logistic Regression\", \"SVM\", \"Decisional Tree\", \"LightGBM\"], columns=[\"inf\", \"sup\"]))"
      ],
      "metadata": {
        "id": "NO5RzwoBMb3d",
        "colab": {
          "base_uri": "https://localhost:8080/",
          "height": 224
        },
        "outputId": "050a68f5-d072-4f01-faa4-c987e94e5a93"
      },
      "execution_count": 53,
      "outputs": [
        {
          "output_type": "stream",
          "name": "stdout",
          "text": [
            "[LightGBM] [Warning] Accuracy may be bad since you didn't explicitly set num_leaves OR 2^max_depth > num_leaves. (num_leaves=31).\n"
          ]
        },
        {
          "output_type": "display_data",
          "data": {
            "text/plain": [
              "                          inf       sup\n",
              "Perceptron           0.474520  0.495976\n",
              "Logistic Regression  0.577347  0.598478\n",
              "SVM                  0.826279  0.842239\n",
              "Decisional Tree      0.845982  0.861156\n",
              "LightGBM             0.931087  0.941561"
            ],
            "text/html": [
              "\n",
              "  <div id=\"df-062de241-dfa0-45e6-889a-1dc95a11f6f7\" class=\"colab-df-container\">\n",
              "    <div>\n",
              "<style scoped>\n",
              "    .dataframe tbody tr th:only-of-type {\n",
              "        vertical-align: middle;\n",
              "    }\n",
              "\n",
              "    .dataframe tbody tr th {\n",
              "        vertical-align: top;\n",
              "    }\n",
              "\n",
              "    .dataframe thead th {\n",
              "        text-align: right;\n",
              "    }\n",
              "</style>\n",
              "<table border=\"1\" class=\"dataframe\">\n",
              "  <thead>\n",
              "    <tr style=\"text-align: right;\">\n",
              "      <th></th>\n",
              "      <th>inf</th>\n",
              "      <th>sup</th>\n",
              "    </tr>\n",
              "  </thead>\n",
              "  <tbody>\n",
              "    <tr>\n",
              "      <th>Perceptron</th>\n",
              "      <td>0.474520</td>\n",
              "      <td>0.495976</td>\n",
              "    </tr>\n",
              "    <tr>\n",
              "      <th>Logistic Regression</th>\n",
              "      <td>0.577347</td>\n",
              "      <td>0.598478</td>\n",
              "    </tr>\n",
              "    <tr>\n",
              "      <th>SVM</th>\n",
              "      <td>0.826279</td>\n",
              "      <td>0.842239</td>\n",
              "    </tr>\n",
              "    <tr>\n",
              "      <th>Decisional Tree</th>\n",
              "      <td>0.845982</td>\n",
              "      <td>0.861156</td>\n",
              "    </tr>\n",
              "    <tr>\n",
              "      <th>LightGBM</th>\n",
              "      <td>0.931087</td>\n",
              "      <td>0.941561</td>\n",
              "    </tr>\n",
              "  </tbody>\n",
              "</table>\n",
              "</div>\n",
              "    <div class=\"colab-df-buttons\">\n",
              "\n",
              "  <div class=\"colab-df-container\">\n",
              "    <button class=\"colab-df-convert\" onclick=\"convertToInteractive('df-062de241-dfa0-45e6-889a-1dc95a11f6f7')\"\n",
              "            title=\"Convert this dataframe to an interactive table.\"\n",
              "            style=\"display:none;\">\n",
              "\n",
              "  <svg xmlns=\"http://www.w3.org/2000/svg\" height=\"24px\" viewBox=\"0 -960 960 960\">\n",
              "    <path d=\"M120-120v-720h720v720H120Zm60-500h600v-160H180v160Zm220 220h160v-160H400v160Zm0 220h160v-160H400v160ZM180-400h160v-160H180v160Zm440 0h160v-160H620v160ZM180-180h160v-160H180v160Zm440 0h160v-160H620v160Z\"/>\n",
              "  </svg>\n",
              "    </button>\n",
              "\n",
              "  <style>\n",
              "    .colab-df-container {\n",
              "      display:flex;\n",
              "      gap: 12px;\n",
              "    }\n",
              "\n",
              "    .colab-df-convert {\n",
              "      background-color: #E8F0FE;\n",
              "      border: none;\n",
              "      border-radius: 50%;\n",
              "      cursor: pointer;\n",
              "      display: none;\n",
              "      fill: #1967D2;\n",
              "      height: 32px;\n",
              "      padding: 0 0 0 0;\n",
              "      width: 32px;\n",
              "    }\n",
              "\n",
              "    .colab-df-convert:hover {\n",
              "      background-color: #E2EBFA;\n",
              "      box-shadow: 0px 1px 2px rgba(60, 64, 67, 0.3), 0px 1px 3px 1px rgba(60, 64, 67, 0.15);\n",
              "      fill: #174EA6;\n",
              "    }\n",
              "\n",
              "    .colab-df-buttons div {\n",
              "      margin-bottom: 4px;\n",
              "    }\n",
              "\n",
              "    [theme=dark] .colab-df-convert {\n",
              "      background-color: #3B4455;\n",
              "      fill: #D2E3FC;\n",
              "    }\n",
              "\n",
              "    [theme=dark] .colab-df-convert:hover {\n",
              "      background-color: #434B5C;\n",
              "      box-shadow: 0px 1px 3px 1px rgba(0, 0, 0, 0.15);\n",
              "      filter: drop-shadow(0px 1px 2px rgba(0, 0, 0, 0.3));\n",
              "      fill: #FFFFFF;\n",
              "    }\n",
              "  </style>\n",
              "\n",
              "    <script>\n",
              "      const buttonEl =\n",
              "        document.querySelector('#df-062de241-dfa0-45e6-889a-1dc95a11f6f7 button.colab-df-convert');\n",
              "      buttonEl.style.display =\n",
              "        google.colab.kernel.accessAllowed ? 'block' : 'none';\n",
              "\n",
              "      async function convertToInteractive(key) {\n",
              "        const element = document.querySelector('#df-062de241-dfa0-45e6-889a-1dc95a11f6f7');\n",
              "        const dataTable =\n",
              "          await google.colab.kernel.invokeFunction('convertToInteractive',\n",
              "                                                    [key], {});\n",
              "        if (!dataTable) return;\n",
              "\n",
              "        const docLinkHtml = 'Like what you see? Visit the ' +\n",
              "          '<a target=\"_blank\" href=https://colab.research.google.com/notebooks/data_table.ipynb>data table notebook</a>'\n",
              "          + ' to learn more about interactive tables.';\n",
              "        element.innerHTML = '';\n",
              "        dataTable['output_type'] = 'display_data';\n",
              "        await google.colab.output.renderOutput(dataTable, element);\n",
              "        const docLink = document.createElement('div');\n",
              "        docLink.innerHTML = docLinkHtml;\n",
              "        element.appendChild(docLink);\n",
              "      }\n",
              "    </script>\n",
              "  </div>\n",
              "\n",
              "\n",
              "<div id=\"df-1384b32a-9cba-4320-8ca5-8d051f0045bc\">\n",
              "  <button class=\"colab-df-quickchart\" onclick=\"quickchart('df-1384b32a-9cba-4320-8ca5-8d051f0045bc')\"\n",
              "            title=\"Suggest charts\"\n",
              "            style=\"display:none;\">\n",
              "\n",
              "<svg xmlns=\"http://www.w3.org/2000/svg\" height=\"24px\"viewBox=\"0 0 24 24\"\n",
              "     width=\"24px\">\n",
              "    <g>\n",
              "        <path d=\"M19 3H5c-1.1 0-2 .9-2 2v14c0 1.1.9 2 2 2h14c1.1 0 2-.9 2-2V5c0-1.1-.9-2-2-2zM9 17H7v-7h2v7zm4 0h-2V7h2v10zm4 0h-2v-4h2v4z\"/>\n",
              "    </g>\n",
              "</svg>\n",
              "  </button>\n",
              "\n",
              "<style>\n",
              "  .colab-df-quickchart {\n",
              "      --bg-color: #E8F0FE;\n",
              "      --fill-color: #1967D2;\n",
              "      --hover-bg-color: #E2EBFA;\n",
              "      --hover-fill-color: #174EA6;\n",
              "      --disabled-fill-color: #AAA;\n",
              "      --disabled-bg-color: #DDD;\n",
              "  }\n",
              "\n",
              "  [theme=dark] .colab-df-quickchart {\n",
              "      --bg-color: #3B4455;\n",
              "      --fill-color: #D2E3FC;\n",
              "      --hover-bg-color: #434B5C;\n",
              "      --hover-fill-color: #FFFFFF;\n",
              "      --disabled-bg-color: #3B4455;\n",
              "      --disabled-fill-color: #666;\n",
              "  }\n",
              "\n",
              "  .colab-df-quickchart {\n",
              "    background-color: var(--bg-color);\n",
              "    border: none;\n",
              "    border-radius: 50%;\n",
              "    cursor: pointer;\n",
              "    display: none;\n",
              "    fill: var(--fill-color);\n",
              "    height: 32px;\n",
              "    padding: 0;\n",
              "    width: 32px;\n",
              "  }\n",
              "\n",
              "  .colab-df-quickchart:hover {\n",
              "    background-color: var(--hover-bg-color);\n",
              "    box-shadow: 0 1px 2px rgba(60, 64, 67, 0.3), 0 1px 3px 1px rgba(60, 64, 67, 0.15);\n",
              "    fill: var(--button-hover-fill-color);\n",
              "  }\n",
              "\n",
              "  .colab-df-quickchart-complete:disabled,\n",
              "  .colab-df-quickchart-complete:disabled:hover {\n",
              "    background-color: var(--disabled-bg-color);\n",
              "    fill: var(--disabled-fill-color);\n",
              "    box-shadow: none;\n",
              "  }\n",
              "\n",
              "  .colab-df-spinner {\n",
              "    border: 2px solid var(--fill-color);\n",
              "    border-color: transparent;\n",
              "    border-bottom-color: var(--fill-color);\n",
              "    animation:\n",
              "      spin 1s steps(1) infinite;\n",
              "  }\n",
              "\n",
              "  @keyframes spin {\n",
              "    0% {\n",
              "      border-color: transparent;\n",
              "      border-bottom-color: var(--fill-color);\n",
              "      border-left-color: var(--fill-color);\n",
              "    }\n",
              "    20% {\n",
              "      border-color: transparent;\n",
              "      border-left-color: var(--fill-color);\n",
              "      border-top-color: var(--fill-color);\n",
              "    }\n",
              "    30% {\n",
              "      border-color: transparent;\n",
              "      border-left-color: var(--fill-color);\n",
              "      border-top-color: var(--fill-color);\n",
              "      border-right-color: var(--fill-color);\n",
              "    }\n",
              "    40% {\n",
              "      border-color: transparent;\n",
              "      border-right-color: var(--fill-color);\n",
              "      border-top-color: var(--fill-color);\n",
              "    }\n",
              "    60% {\n",
              "      border-color: transparent;\n",
              "      border-right-color: var(--fill-color);\n",
              "    }\n",
              "    80% {\n",
              "      border-color: transparent;\n",
              "      border-right-color: var(--fill-color);\n",
              "      border-bottom-color: var(--fill-color);\n",
              "    }\n",
              "    90% {\n",
              "      border-color: transparent;\n",
              "      border-bottom-color: var(--fill-color);\n",
              "    }\n",
              "  }\n",
              "</style>\n",
              "\n",
              "  <script>\n",
              "    async function quickchart(key) {\n",
              "      const quickchartButtonEl =\n",
              "        document.querySelector('#' + key + ' button');\n",
              "      quickchartButtonEl.disabled = true;  // To prevent multiple clicks.\n",
              "      quickchartButtonEl.classList.add('colab-df-spinner');\n",
              "      try {\n",
              "        const charts = await google.colab.kernel.invokeFunction(\n",
              "            'suggestCharts', [key], {});\n",
              "      } catch (error) {\n",
              "        console.error('Error during call to suggestCharts:', error);\n",
              "      }\n",
              "      quickchartButtonEl.classList.remove('colab-df-spinner');\n",
              "      quickchartButtonEl.classList.add('colab-df-quickchart-complete');\n",
              "    }\n",
              "    (() => {\n",
              "      let quickchartButtonEl =\n",
              "        document.querySelector('#df-1384b32a-9cba-4320-8ca5-8d051f0045bc button');\n",
              "      quickchartButtonEl.style.display =\n",
              "        google.colab.kernel.accessAllowed ? 'block' : 'none';\n",
              "    })();\n",
              "  </script>\n",
              "</div>\n",
              "    </div>\n",
              "  </div>\n"
            ],
            "application/vnd.google.colaboratory.intrinsic+json": {
              "type": "dataframe",
              "summary": "{\n  \"name\": \"                      index=[\\\"Perceptron\\\", \\\"Logistic Regression\\\", \\\"SVM\\\", \\\"Decisional Tree\\\", \\\"LightGBM\\\"], columns=[\\\"inf\\\", \\\"sup\\\"]))\",\n  \"rows\": 5,\n  \"fields\": [\n    {\n      \"column\": \"inf\",\n      \"properties\": {\n        \"dtype\": \"number\",\n        \"std\": 0.19475920951128273,\n        \"min\": 0.47452019570343823,\n        \"max\": 0.9310866152767038,\n        \"num_unique_values\": 5,\n        \"samples\": [\n          0.577347254366135,\n          0.9310866152767038,\n          0.8262789715931838\n        ],\n        \"semantic_type\": \"\",\n        \"description\": \"\"\n      }\n    },\n    {\n      \"column\": \"sup\",\n      \"properties\": {\n        \"dtype\": \"number\",\n        \"std\": 0.19041029022503497,\n        \"min\": 0.49597576574538565,\n        \"max\": 0.9415612891881641,\n        \"num_unique_values\": 5,\n        \"samples\": [\n          0.598477625780305,\n          0.9415612891881641,\n          0.8422393653346849\n        ],\n        \"semantic_type\": \"\",\n        \"description\": \"\"\n      }\n    }\n  ]\n}"
            }
          },
          "metadata": {}
        }
      ]
    },
    {
      "cell_type": "markdown",
      "source": [
        "Come era ormai intuibile ancora una volta il modello più performante rimane LightGBM."
      ],
      "metadata": {
        "id": "q4IP8UBhk-7B"
      }
    },
    {
      "cell_type": "markdown",
      "source": [
        "###Test di McNemar"
      ],
      "metadata": {
        "id": "zOLTHZ5Mmjre"
      }
    },
    {
      "cell_type": "markdown",
      "source": [
        "E' un test sattistico che può essere utilizzato per confrontare l'accuratezza predittiva di due modelli. Potendo quindi dire se due modelli sono statisticamente simili nel fare previsioni."
      ],
      "metadata": {
        "id": "SeSCeNqCoNqr"
      }
    },
    {
      "cell_type": "code",
      "source": [
        "def McNemar_test(model1, model2, X_val, y_val):\n",
        "    #Creating contingency table\n",
        "    y_target = y_val\n",
        "    y_model1 = model1.predict(X_val)\n",
        "    y_model2 = model2.predict(X_val)\n",
        "\n",
        "    tb = mcnemar_table(y_target=y_target,\n",
        "                       y_model1=y_model1,\n",
        "                       y_model2=y_model2)\n",
        "\n",
        "    chi2, p = mcnemar(tb)\n",
        "\n",
        "    confidence = 0.95\n",
        "    alpha = 1 - confidence\n",
        "\n",
        "    print(\"chi^2:\", chi2, \"   -   p:\", p)\n",
        "\n",
        "    if(p > alpha):\n",
        "      print(\"Modelli equivalenti\")\n",
        "    else:\n",
        "      print(\"Modelli non equivalenti\")\n"
      ],
      "metadata": {
        "id": "hxnF5jz5pGo4"
      },
      "execution_count": 54,
      "outputs": []
    },
    {
      "cell_type": "code",
      "source": [
        "def McNemar_beetween_all_models(models, models_name):\n",
        "  for i in range(len(models)):\n",
        "    for j in range(i+1, len(models)):\n",
        "      print(BOLD,models_name[i], \" - \", models_name[j], END_BOLD +\"\\n\")\n",
        "      McNemar_test(models[i], models[j], X_val, y_val)\n",
        "      print(\"\\n\\n\")"
      ],
      "metadata": {
        "id": "TWYvnsqKwwXc"
      },
      "execution_count": 55,
      "outputs": []
    },
    {
      "cell_type": "code",
      "source": [
        "models=[gs_perceptron, gs_lr, svm_no_of, gs_tree, gs_lgbm]\n",
        "models_name=[\"Perceptron\",\"Logistic Regression\",\" SVM\",\"Decisional Tree\",\"LightGBM\"]"
      ],
      "metadata": {
        "id": "C1CRdhsO0R5h"
      },
      "execution_count": 56,
      "outputs": []
    },
    {
      "cell_type": "code",
      "source": [
        "McNemar_beetween_all_models(models, models_name)"
      ],
      "metadata": {
        "id": "2fwoqDW7GenP",
        "colab": {
          "base_uri": "https://localhost:8080/"
        },
        "outputId": "796a4582-5cb1-4999-db97-a92805a7a870"
      },
      "execution_count": 57,
      "outputs": [
        {
          "output_type": "stream",
          "name": "stdout",
          "text": [
            "\u001b[1m Perceptron  -  Logistic Regression \u001b[0m\n",
            "\n",
            "chi^2: 277.9562737642586    -   p: 2.0939447657747037e-62\n",
            "Modelli non equivalenti\n",
            "\n",
            "\n",
            "\n",
            "\u001b[1m Perceptron  -   SVM \u001b[0m\n",
            "\n",
            "chi^2: 2268.7080428954423    -   p: 0.0\n",
            "Modelli non equivalenti\n",
            "\n",
            "\n",
            "\n",
            "\u001b[1m Perceptron  -  Decisional Tree \u001b[0m\n",
            "\n",
            "chi^2: 2496.662251655629    -   p: 0.0\n",
            "Modelli non equivalenti\n",
            "\n",
            "\n",
            "\n",
            "\u001b[1m Perceptron  -  LightGBM \u001b[0m\n",
            "\n",
            "chi^2: 3503.742255266419    -   p: 0.0\n",
            "Modelli non equivalenti\n",
            "\n",
            "\n",
            "\n",
            "\u001b[1m Logistic Regression  -   SVM \u001b[0m\n",
            "\n",
            "chi^2: 1413.4168343393696    -   p: 2.552303501082906e-309\n",
            "Modelli non equivalenti\n",
            "\n",
            "\n",
            "\n",
            "\u001b[1m Logistic Regression  -  Decisional Tree \u001b[0m\n",
            "\n",
            "chi^2: 1549.7300031615555    -   p: 0.0\n",
            "Modelli non equivalenti\n",
            "\n",
            "\n",
            "\n",
            "\u001b[1m Logistic Regression  -  LightGBM \u001b[0m\n",
            "\n",
            "chi^2: 2664.523222748815    -   p: 0.0\n",
            "Modelli non equivalenti\n",
            "\n",
            "\n",
            "\n",
            "\u001b[1m  SVM  -  Decisional Tree \u001b[0m\n",
            "\n",
            "chi^2: 18.351254480286737    -   p: 1.8369799186238654e-05\n",
            "Modelli non equivalenti\n",
            "\n",
            "\n",
            "\n",
            "\u001b[1m  SVM  -  LightGBM \u001b[0m\n",
            "\n",
            "chi^2: 631.0043668122271    -   p: 3.0226025478214086e-139\n",
            "Modelli non equivalenti\n",
            "\n",
            "\n",
            "\n",
            "\u001b[1m Decisional Tree  -  LightGBM \u001b[0m\n",
            "\n",
            "chi^2: 444.49531835205994    -   p: 1.1378967430603928e-98\n",
            "Modelli non equivalenti\n",
            "\n",
            "\n",
            "\n"
          ]
        }
      ]
    },
    {
      "cell_type": "markdown",
      "source": [
        "Dai risultati del test di McNemar condotto su diversi modelli di classificazione, emerge una tendenza: in tutti i confronti, i modelli sono risultati significativamente diversi.\n",
        "Indicando così una differenza significativa nelle performance dei modelli di classificazione confrontati."
      ],
      "metadata": {
        "id": "_YJ5aSZ2NWo4"
      }
    },
    {
      "cell_type": "markdown",
      "source": [
        "##Conclusioni"
      ],
      "metadata": {
        "id": "ZTT1KcKFUA4V"
      }
    },
    {
      "cell_type": "markdown",
      "source": [
        "In conclusione si pone l'attenzione sulle differenze significative tra i vari modelli di classificazione multiclasse.\n",
        "<br>Perceptron e logistic regression, essendo modelli lineari, potrebbero non essere stati in grado di catturare in maniera ottimale le relazioni non lineari presenti nei dati. Questo ha limitato la loro capacità di adattarsi a complessità maggiori nei dati di training, portando a prestazioni inferiori rispetto agli altri modelli.\n",
        "<br>SVM, decision tree e Lightgbm, invece, offrono maggiore flessibilità nel modellare relazioni complesse tra le features, permettendo una migliore adattabilità ai dati di training e, di conseguenza, prestazioni più elevate.\n",
        "<br>In particolare, Lightgbm, essendo un algoritmo di boosting, può sfruttare efficacemente le caratteristiche dei dati e ottenere prestazioni superiori grazie alla sua capacità di gestire grandi dataset a complessità elevata."
      ],
      "metadata": {
        "id": "MELQ9rFJUh4Z"
      }
    },
    {
      "cell_type": "code",
      "source": [],
      "metadata": {
        "id": "4oCsaX85UieO"
      },
      "execution_count": 57,
      "outputs": []
    }
  ]
}
